{
 "cells": [
  {
   "cell_type": "markdown",
   "id": "155aa78e-3da1-4102-bcd2-c1df60809c6e",
   "metadata": {},
   "source": [
    " Author: Jenea Spinks"
   ]
  },
  {
   "cell_type": "markdown",
   "id": "e82a61cb-ee33-41d9-98d3-4aaab1fa6e26",
   "metadata": {},
   "source": [
    "## Import Packages"
   ]
  },
  {
   "cell_type": "code",
   "execution_count": 1,
   "id": "0b9239ea-517c-408a-87f2-244976b7f8d3",
   "metadata": {},
   "outputs": [],
   "source": [
    "import numpy as np\n",
    "import pandas as pd\n",
    "import matplotlib.pyplot as plt"
   ]
  },
  {
   "cell_type": "markdown",
   "id": "55bbd538-81c5-4f2b-b3f4-9847fc4cdeca",
   "metadata": {},
   "source": [
    "## Read Chocolate Bar rating dataset"
   ]
  },
  {
   "cell_type": "markdown",
   "id": "a7d4cf3e-688d-41b8-bc27-0652c9a50cc6",
   "metadata": {},
   "source": [
    "We used a publicly available dataset: http://flavorsofcacao.com/chocolate_database.html"
   ]
  },
  {
   "cell_type": "markdown",
   "id": "8ab9c6fa-6779-471b-924e-d6dd498a4b0a",
   "metadata": {},
   "source": [
    "This dataset contains over 2500 ratings about the plain dark chocolate bar within each company during different review dates. The column Ingredients is of the form \"#- list of ingredients\". The \"#\" = represents the number of ingredients in the chocolate; B = Beans, S = Sugar, S* = Sweetener other than white cane or beet sugar, C = Cocoa Butter, V = Vanilla, L = Lecithin, Sa = Salt. The most Memorable Characteristics column is a summary of the most memorable characteristics of that bar. The terms contained within this column generally relate to anything from texture, flavor, overall opinion, etc."
   ]
  },
  {
   "cell_type": "code",
   "execution_count": 2,
   "id": "51393ebe-338e-4bc3-9141-b78e3b20d089",
   "metadata": {},
   "outputs": [
    {
     "data": {
      "text/html": [
       "<div>\n",
       "<style scoped>\n",
       "    .dataframe tbody tr th:only-of-type {\n",
       "        vertical-align: middle;\n",
       "    }\n",
       "\n",
       "    .dataframe tbody tr th {\n",
       "        vertical-align: top;\n",
       "    }\n",
       "\n",
       "    .dataframe thead th {\n",
       "        text-align: right;\n",
       "    }\n",
       "</style>\n",
       "<table border=\"1\" class=\"dataframe\">\n",
       "  <thead>\n",
       "    <tr style=\"text-align: right;\">\n",
       "      <th></th>\n",
       "      <th>REF</th>\n",
       "      <th>Company (Manufacturer)</th>\n",
       "      <th>Company Location</th>\n",
       "      <th>Review Date</th>\n",
       "      <th>Country of Bean Origin</th>\n",
       "      <th>Specific Bean Origin or Bar Name</th>\n",
       "      <th>Cocoa Percent</th>\n",
       "      <th>Ingredients</th>\n",
       "      <th>Most Memorable Characteristics</th>\n",
       "      <th>Rating</th>\n",
       "    </tr>\n",
       "  </thead>\n",
       "  <tbody>\n",
       "    <tr>\n",
       "      <th>0</th>\n",
       "      <td>1205</td>\n",
       "      <td>Habitual</td>\n",
       "      <td>Canada</td>\n",
       "      <td>2014</td>\n",
       "      <td>Blend</td>\n",
       "      <td>one hundred</td>\n",
       "      <td>100%</td>\n",
       "      <td>NaN</td>\n",
       "      <td>unrefined, bitter, earthy</td>\n",
       "      <td>2.00</td>\n",
       "    </tr>\n",
       "    <tr>\n",
       "      <th>1</th>\n",
       "      <td>701</td>\n",
       "      <td>Haigh</td>\n",
       "      <td>Australia</td>\n",
       "      <td>2011</td>\n",
       "      <td>Blend</td>\n",
       "      <td>South America and Africa</td>\n",
       "      <td>70%</td>\n",
       "      <td>NaN</td>\n",
       "      <td>vanilla, chocolate milk</td>\n",
       "      <td>3.00</td>\n",
       "    </tr>\n",
       "    <tr>\n",
       "      <th>2</th>\n",
       "      <td>1113</td>\n",
       "      <td>Hotel Chocolat</td>\n",
       "      <td>U.K.</td>\n",
       "      <td>2013</td>\n",
       "      <td>St. Lucia</td>\n",
       "      <td>Island Growers, 2012, 120hr c., batch 13080</td>\n",
       "      <td>100%</td>\n",
       "      <td>NaN</td>\n",
       "      <td>pastey, bitter, unfixable</td>\n",
       "      <td>1.75</td>\n",
       "    </tr>\n",
       "    <tr>\n",
       "      <th>3</th>\n",
       "      <td>296</td>\n",
       "      <td>Hotel Chocolat (Coppeneur)</td>\n",
       "      <td>U.K.</td>\n",
       "      <td>2008</td>\n",
       "      <td>Uganda</td>\n",
       "      <td>Uganda</td>\n",
       "      <td>80%</td>\n",
       "      <td>NaN</td>\n",
       "      <td>charred, espresso</td>\n",
       "      <td>2.50</td>\n",
       "    </tr>\n",
       "    <tr>\n",
       "      <th>4</th>\n",
       "      <td>552</td>\n",
       "      <td>Hotel Chocolat (Coppeneur)</td>\n",
       "      <td>U.K.</td>\n",
       "      <td>2010</td>\n",
       "      <td>Ecuador</td>\n",
       "      <td>Ecuador</td>\n",
       "      <td>70%</td>\n",
       "      <td>NaN</td>\n",
       "      <td>spicy, sour, burning</td>\n",
       "      <td>2.75</td>\n",
       "    </tr>\n",
       "  </tbody>\n",
       "</table>\n",
       "</div>"
      ],
      "text/plain": [
       "    REF      Company (Manufacturer) Company Location  Review Date  \\\n",
       "0  1205                    Habitual           Canada         2014   \n",
       "1   701                       Haigh        Australia         2011   \n",
       "2  1113              Hotel Chocolat             U.K.         2013   \n",
       "3   296  Hotel Chocolat (Coppeneur)             U.K.         2008   \n",
       "4   552  Hotel Chocolat (Coppeneur)             U.K.         2010   \n",
       "\n",
       "  Country of Bean Origin             Specific Bean Origin or Bar Name  \\\n",
       "0                  Blend                                  one hundred   \n",
       "1                  Blend                     South America and Africa   \n",
       "2              St. Lucia  Island Growers, 2012, 120hr c., batch 13080   \n",
       "3                 Uganda                                       Uganda   \n",
       "4                Ecuador                                      Ecuador   \n",
       "\n",
       "  Cocoa Percent Ingredients Most Memorable Characteristics  Rating  \n",
       "0          100%         NaN      unrefined, bitter, earthy    2.00  \n",
       "1           70%         NaN        vanilla, chocolate milk    3.00  \n",
       "2          100%         NaN      pastey, bitter, unfixable    1.75  \n",
       "3           80%         NaN              charred, espresso    2.50  \n",
       "4           70%         NaN           spicy, sour, burning    2.75  "
      ]
     },
     "execution_count": 2,
     "metadata": {},
     "output_type": "execute_result"
    }
   ],
   "source": [
    "chocolate = pd.read_csv('data/chocolate.csv')\n",
    "chocolate.head(5)"
   ]
  },
  {
   "cell_type": "markdown",
   "id": "edd7f8b4-769e-46d3-8725-4484271df588",
   "metadata": {},
   "source": [
    "## Company Locations with the highest and lowest average ratings"
   ]
  },
  {
   "cell_type": "markdown",
   "id": "1ef29883-37e7-4fc5-8428-b3be9306bb94",
   "metadata": {},
   "source": [
    "In this section, we will analyze the company locations with the highest and lowest average rating. By finding this company location, we can slice into the entire chocolate bar dataset to see if there are any characterics/features that cause this highest average rating. "
   ]
  },
  {
   "cell_type": "markdown",
   "id": "c96c6ff9-a338-463c-b07f-f328e2d3d0a3",
   "metadata": {},
   "source": [
    "In this section, we will obtain the columns of Company Locaton and Rating to form a new dataset for our analysis and use this dataset to group by the Company location using the mean of all ratings for the location"
   ]
  },
  {
   "cell_type": "code",
   "execution_count": 3,
   "id": "bc343eab-fce1-47d6-a790-70bf973ae868",
   "metadata": {},
   "outputs": [
    {
     "data": {
      "text/html": [
       "<div>\n",
       "<style scoped>\n",
       "    .dataframe tbody tr th:only-of-type {\n",
       "        vertical-align: middle;\n",
       "    }\n",
       "\n",
       "    .dataframe tbody tr th {\n",
       "        vertical-align: top;\n",
       "    }\n",
       "\n",
       "    .dataframe thead th {\n",
       "        text-align: right;\n",
       "    }\n",
       "</style>\n",
       "<table border=\"1\" class=\"dataframe\">\n",
       "  <thead>\n",
       "    <tr style=\"text-align: right;\">\n",
       "      <th></th>\n",
       "      <th>Company Location</th>\n",
       "      <th>Rating</th>\n",
       "    </tr>\n",
       "  </thead>\n",
       "  <tbody>\n",
       "    <tr>\n",
       "      <th>0</th>\n",
       "      <td>Canada</td>\n",
       "      <td>2.00</td>\n",
       "    </tr>\n",
       "    <tr>\n",
       "      <th>1</th>\n",
       "      <td>Australia</td>\n",
       "      <td>3.00</td>\n",
       "    </tr>\n",
       "    <tr>\n",
       "      <th>2</th>\n",
       "      <td>U.K.</td>\n",
       "      <td>1.75</td>\n",
       "    </tr>\n",
       "    <tr>\n",
       "      <th>3</th>\n",
       "      <td>U.K.</td>\n",
       "      <td>2.50</td>\n",
       "    </tr>\n",
       "    <tr>\n",
       "      <th>4</th>\n",
       "      <td>U.K.</td>\n",
       "      <td>2.75</td>\n",
       "    </tr>\n",
       "    <tr>\n",
       "      <th>...</th>\n",
       "      <td>...</td>\n",
       "      <td>...</td>\n",
       "    </tr>\n",
       "    <tr>\n",
       "      <th>1555</th>\n",
       "      <td>France</td>\n",
       "      <td>2.75</td>\n",
       "    </tr>\n",
       "    <tr>\n",
       "      <th>1556</th>\n",
       "      <td>France</td>\n",
       "      <td>3.00</td>\n",
       "    </tr>\n",
       "    <tr>\n",
       "      <th>1557</th>\n",
       "      <td>France</td>\n",
       "      <td>3.00</td>\n",
       "    </tr>\n",
       "    <tr>\n",
       "      <th>1558</th>\n",
       "      <td>France</td>\n",
       "      <td>3.00</td>\n",
       "    </tr>\n",
       "    <tr>\n",
       "      <th>1559</th>\n",
       "      <td>France</td>\n",
       "      <td>3.25</td>\n",
       "    </tr>\n",
       "  </tbody>\n",
       "</table>\n",
       "<p>1560 rows × 2 columns</p>\n",
       "</div>"
      ],
      "text/plain": [
       "     Company Location  Rating\n",
       "0              Canada    2.00\n",
       "1           Australia    3.00\n",
       "2                U.K.    1.75\n",
       "3                U.K.    2.50\n",
       "4                U.K.    2.75\n",
       "...               ...     ...\n",
       "1555           France    2.75\n",
       "1556           France    3.00\n",
       "1557           France    3.00\n",
       "1558           France    3.00\n",
       "1559           France    3.25\n",
       "\n",
       "[1560 rows x 2 columns]"
      ]
     },
     "execution_count": 3,
     "metadata": {},
     "output_type": "execute_result"
    }
   ],
   "source": [
    "company_rating = chocolate[['Company Location','Rating']]\n",
    "company_rating"
   ]
  },
  {
   "cell_type": "code",
   "execution_count": 4,
   "id": "9620de65-8b92-4896-90c4-109165e4284f",
   "metadata": {},
   "outputs": [
    {
     "data": {
      "text/html": [
       "<div>\n",
       "<style scoped>\n",
       "    .dataframe tbody tr th:only-of-type {\n",
       "        vertical-align: middle;\n",
       "    }\n",
       "\n",
       "    .dataframe tbody tr th {\n",
       "        vertical-align: top;\n",
       "    }\n",
       "\n",
       "    .dataframe thead th {\n",
       "        text-align: right;\n",
       "    }\n",
       "</style>\n",
       "<table border=\"1\" class=\"dataframe\">\n",
       "  <thead>\n",
       "    <tr style=\"text-align: right;\">\n",
       "      <th></th>\n",
       "      <th>Company Location</th>\n",
       "      <th>Rating</th>\n",
       "    </tr>\n",
       "  </thead>\n",
       "  <tbody>\n",
       "    <tr>\n",
       "      <th>0</th>\n",
       "      <td>Amsterdam</td>\n",
       "      <td>3.218750</td>\n",
       "    </tr>\n",
       "    <tr>\n",
       "      <th>1</th>\n",
       "      <td>Argentina</td>\n",
       "      <td>3.150000</td>\n",
       "    </tr>\n",
       "    <tr>\n",
       "      <th>2</th>\n",
       "      <td>Australia</td>\n",
       "      <td>3.433824</td>\n",
       "    </tr>\n",
       "    <tr>\n",
       "      <th>3</th>\n",
       "      <td>Austria</td>\n",
       "      <td>3.192308</td>\n",
       "    </tr>\n",
       "    <tr>\n",
       "      <th>4</th>\n",
       "      <td>Belgium</td>\n",
       "      <td>3.086538</td>\n",
       "    </tr>\n",
       "    <tr>\n",
       "      <th>5</th>\n",
       "      <td>Brazil</td>\n",
       "      <td>3.194444</td>\n",
       "    </tr>\n",
       "    <tr>\n",
       "      <th>6</th>\n",
       "      <td>Canada</td>\n",
       "      <td>3.357877</td>\n",
       "    </tr>\n",
       "    <tr>\n",
       "      <th>7</th>\n",
       "      <td>Chile</td>\n",
       "      <td>3.750000</td>\n",
       "    </tr>\n",
       "    <tr>\n",
       "      <th>8</th>\n",
       "      <td>Colombia</td>\n",
       "      <td>2.500000</td>\n",
       "    </tr>\n",
       "    <tr>\n",
       "      <th>9</th>\n",
       "      <td>Costa Rica</td>\n",
       "      <td>3.093750</td>\n",
       "    </tr>\n",
       "    <tr>\n",
       "      <th>10</th>\n",
       "      <td>Czech Republic</td>\n",
       "      <td>3.000000</td>\n",
       "    </tr>\n",
       "    <tr>\n",
       "      <th>11</th>\n",
       "      <td>Denmark</td>\n",
       "      <td>3.379310</td>\n",
       "    </tr>\n",
       "    <tr>\n",
       "      <th>12</th>\n",
       "      <td>Dominican Republic</td>\n",
       "      <td>2.900000</td>\n",
       "    </tr>\n",
       "    <tr>\n",
       "      <th>13</th>\n",
       "      <td>Ecuador</td>\n",
       "      <td>3.000000</td>\n",
       "    </tr>\n",
       "    <tr>\n",
       "      <th>14</th>\n",
       "      <td>Finland</td>\n",
       "      <td>3.250000</td>\n",
       "    </tr>\n",
       "    <tr>\n",
       "      <th>15</th>\n",
       "      <td>France</td>\n",
       "      <td>3.230263</td>\n",
       "    </tr>\n",
       "    <tr>\n",
       "      <th>16</th>\n",
       "      <td>Germany</td>\n",
       "      <td>3.132353</td>\n",
       "    </tr>\n",
       "    <tr>\n",
       "      <th>17</th>\n",
       "      <td>Guatemala</td>\n",
       "      <td>3.687500</td>\n",
       "    </tr>\n",
       "    <tr>\n",
       "      <th>18</th>\n",
       "      <td>Honduras</td>\n",
       "      <td>3.208333</td>\n",
       "    </tr>\n",
       "    <tr>\n",
       "      <th>19</th>\n",
       "      <td>Hungary</td>\n",
       "      <td>3.250000</td>\n",
       "    </tr>\n",
       "    <tr>\n",
       "      <th>20</th>\n",
       "      <td>Iceland</td>\n",
       "      <td>3.312500</td>\n",
       "    </tr>\n",
       "    <tr>\n",
       "      <th>21</th>\n",
       "      <td>India</td>\n",
       "      <td>2.750000</td>\n",
       "    </tr>\n",
       "    <tr>\n",
       "      <th>22</th>\n",
       "      <td>Ireland</td>\n",
       "      <td>2.900000</td>\n",
       "    </tr>\n",
       "    <tr>\n",
       "      <th>23</th>\n",
       "      <td>Israel</td>\n",
       "      <td>3.125000</td>\n",
       "    </tr>\n",
       "    <tr>\n",
       "      <th>24</th>\n",
       "      <td>Italy</td>\n",
       "      <td>3.268293</td>\n",
       "    </tr>\n",
       "    <tr>\n",
       "      <th>25</th>\n",
       "      <td>Japan</td>\n",
       "      <td>3.111111</td>\n",
       "    </tr>\n",
       "    <tr>\n",
       "      <th>26</th>\n",
       "      <td>Lithuania</td>\n",
       "      <td>3.000000</td>\n",
       "    </tr>\n",
       "    <tr>\n",
       "      <th>27</th>\n",
       "      <td>Madagascar</td>\n",
       "      <td>3.100000</td>\n",
       "    </tr>\n",
       "    <tr>\n",
       "      <th>28</th>\n",
       "      <td>Malaysia</td>\n",
       "      <td>2.833333</td>\n",
       "    </tr>\n",
       "    <tr>\n",
       "      <th>29</th>\n",
       "      <td>Mexico</td>\n",
       "      <td>3.250000</td>\n",
       "    </tr>\n",
       "    <tr>\n",
       "      <th>30</th>\n",
       "      <td>Netherlands</td>\n",
       "      <td>3.000000</td>\n",
       "    </tr>\n",
       "    <tr>\n",
       "      <th>31</th>\n",
       "      <td>New Zealand</td>\n",
       "      <td>3.180000</td>\n",
       "    </tr>\n",
       "    <tr>\n",
       "      <th>32</th>\n",
       "      <td>Nicaragua</td>\n",
       "      <td>3.100000</td>\n",
       "    </tr>\n",
       "    <tr>\n",
       "      <th>33</th>\n",
       "      <td>Peru</td>\n",
       "      <td>3.102941</td>\n",
       "    </tr>\n",
       "    <tr>\n",
       "      <th>34</th>\n",
       "      <td>Philippines</td>\n",
       "      <td>3.166667</td>\n",
       "    </tr>\n",
       "    <tr>\n",
       "      <th>35</th>\n",
       "      <td>Poland</td>\n",
       "      <td>3.375000</td>\n",
       "    </tr>\n",
       "    <tr>\n",
       "      <th>36</th>\n",
       "      <td>Portugal</td>\n",
       "      <td>2.750000</td>\n",
       "    </tr>\n",
       "    <tr>\n",
       "      <th>37</th>\n",
       "      <td>Puerto Rico</td>\n",
       "      <td>2.500000</td>\n",
       "    </tr>\n",
       "    <tr>\n",
       "      <th>38</th>\n",
       "      <td>Russia</td>\n",
       "      <td>3.250000</td>\n",
       "    </tr>\n",
       "    <tr>\n",
       "      <th>39</th>\n",
       "      <td>Sao Tome</td>\n",
       "      <td>2.375000</td>\n",
       "    </tr>\n",
       "    <tr>\n",
       "      <th>40</th>\n",
       "      <td>Scotland</td>\n",
       "      <td>3.812500</td>\n",
       "    </tr>\n",
       "    <tr>\n",
       "      <th>41</th>\n",
       "      <td>Singapore</td>\n",
       "      <td>3.250000</td>\n",
       "    </tr>\n",
       "    <tr>\n",
       "      <th>42</th>\n",
       "      <td>South Africa</td>\n",
       "      <td>2.750000</td>\n",
       "    </tr>\n",
       "    <tr>\n",
       "      <th>43</th>\n",
       "      <td>South Korea</td>\n",
       "      <td>3.181818</td>\n",
       "    </tr>\n",
       "    <tr>\n",
       "      <th>44</th>\n",
       "      <td>Spain</td>\n",
       "      <td>3.147059</td>\n",
       "    </tr>\n",
       "    <tr>\n",
       "      <th>45</th>\n",
       "      <td>St. Lucia</td>\n",
       "      <td>3.000000</td>\n",
       "    </tr>\n",
       "    <tr>\n",
       "      <th>46</th>\n",
       "      <td>Suriname</td>\n",
       "      <td>3.250000</td>\n",
       "    </tr>\n",
       "    <tr>\n",
       "      <th>47</th>\n",
       "      <td>Sweden</td>\n",
       "      <td>3.000000</td>\n",
       "    </tr>\n",
       "    <tr>\n",
       "      <th>48</th>\n",
       "      <td>Switzerland</td>\n",
       "      <td>3.393939</td>\n",
       "    </tr>\n",
       "    <tr>\n",
       "      <th>49</th>\n",
       "      <td>Taiwan</td>\n",
       "      <td>3.100000</td>\n",
       "    </tr>\n",
       "    <tr>\n",
       "      <th>50</th>\n",
       "      <td>Thailand</td>\n",
       "      <td>3.300000</td>\n",
       "    </tr>\n",
       "    <tr>\n",
       "      <th>51</th>\n",
       "      <td>U.A.E.</td>\n",
       "      <td>3.400000</td>\n",
       "    </tr>\n",
       "    <tr>\n",
       "      <th>52</th>\n",
       "      <td>U.K.</td>\n",
       "      <td>3.023026</td>\n",
       "    </tr>\n",
       "    <tr>\n",
       "      <th>53</th>\n",
       "      <td>U.S.A.</td>\n",
       "      <td>3.219434</td>\n",
       "    </tr>\n",
       "    <tr>\n",
       "      <th>54</th>\n",
       "      <td>Vanuatu</td>\n",
       "      <td>2.750000</td>\n",
       "    </tr>\n",
       "    <tr>\n",
       "      <th>55</th>\n",
       "      <td>Venezuela</td>\n",
       "      <td>3.107143</td>\n",
       "    </tr>\n",
       "    <tr>\n",
       "      <th>56</th>\n",
       "      <td>Vietnam</td>\n",
       "      <td>3.383333</td>\n",
       "    </tr>\n",
       "  </tbody>\n",
       "</table>\n",
       "</div>"
      ],
      "text/plain": [
       "      Company Location    Rating\n",
       "0            Amsterdam  3.218750\n",
       "1            Argentina  3.150000\n",
       "2            Australia  3.433824\n",
       "3              Austria  3.192308\n",
       "4              Belgium  3.086538\n",
       "5               Brazil  3.194444\n",
       "6               Canada  3.357877\n",
       "7                Chile  3.750000\n",
       "8             Colombia  2.500000\n",
       "9           Costa Rica  3.093750\n",
       "10      Czech Republic  3.000000\n",
       "11             Denmark  3.379310\n",
       "12  Dominican Republic  2.900000\n",
       "13             Ecuador  3.000000\n",
       "14             Finland  3.250000\n",
       "15              France  3.230263\n",
       "16             Germany  3.132353\n",
       "17           Guatemala  3.687500\n",
       "18            Honduras  3.208333\n",
       "19             Hungary  3.250000\n",
       "20             Iceland  3.312500\n",
       "21               India  2.750000\n",
       "22             Ireland  2.900000\n",
       "23              Israel  3.125000\n",
       "24               Italy  3.268293\n",
       "25               Japan  3.111111\n",
       "26           Lithuania  3.000000\n",
       "27          Madagascar  3.100000\n",
       "28            Malaysia  2.833333\n",
       "29              Mexico  3.250000\n",
       "30         Netherlands  3.000000\n",
       "31         New Zealand  3.180000\n",
       "32           Nicaragua  3.100000\n",
       "33                Peru  3.102941\n",
       "34         Philippines  3.166667\n",
       "35              Poland  3.375000\n",
       "36            Portugal  2.750000\n",
       "37         Puerto Rico  2.500000\n",
       "38              Russia  3.250000\n",
       "39            Sao Tome  2.375000\n",
       "40            Scotland  3.812500\n",
       "41           Singapore  3.250000\n",
       "42        South Africa  2.750000\n",
       "43         South Korea  3.181818\n",
       "44               Spain  3.147059\n",
       "45           St. Lucia  3.000000\n",
       "46            Suriname  3.250000\n",
       "47              Sweden  3.000000\n",
       "48         Switzerland  3.393939\n",
       "49              Taiwan  3.100000\n",
       "50            Thailand  3.300000\n",
       "51              U.A.E.  3.400000\n",
       "52                U.K.  3.023026\n",
       "53              U.S.A.  3.219434\n",
       "54             Vanuatu  2.750000\n",
       "55           Venezuela  3.107143\n",
       "56             Vietnam  3.383333"
      ]
     },
     "execution_count": 4,
     "metadata": {},
     "output_type": "execute_result"
    }
   ],
   "source": [
    "rating_grouped = company_rating.groupby('Company Location').mean().reset_index()\n",
    "rating_grouped"
   ]
  },
  {
   "cell_type": "code",
   "execution_count": 5,
   "id": "4e4dd9e3-b19d-40ad-8cd8-85705c35362d",
   "metadata": {},
   "outputs": [],
   "source": [
    "#saving dataset to tables folder\n",
    "rating_grouped.to_csv('tables/Company_Location_Average_Rating.csv')"
   ]
  },
  {
   "cell_type": "markdown",
   "id": "fd679291-1e43-4c1c-9ddc-a6578803bd66",
   "metadata": {},
   "source": [
    "Then, we will create a scatter plot for the mean ratings of each company locations to visualize any outliers rating that can be further analyzed."
   ]
  },
  {
   "cell_type": "code",
   "execution_count": 6,
   "id": "72020c98-6d24-4241-9814-3cd22c97e67f",
   "metadata": {},
   "outputs": [
    {
     "data": {
      "image/png": "[encoded data removed]",
      "text/plain": [
       "<Figure size 864x576 with 1 Axes>"
      ]
     },
     "metadata": {
      "needs_background": "light"
     },
     "output_type": "display_data"
    }
   ],
   "source": [
    "rating = rating_grouped['Rating']\n",
    "company_location = rating_grouped['Company Location']\n",
    "plt.figure(figsize = (12,8))\n",
    "plt.scatter(company_location, rating)\n",
    "plt.plot(company_location, np.ones(len(rating))*2.7, color = 'r')\n",
    "plt.plot(company_location, np.ones(len(rating))*3.5, color = 'r')\n",
    "plt.xticks(rotation= 90 )\n",
    "plt.title('Average Ratings of each location')\n",
    "plt.xlabel('Location')\n",
    "plt.ylabel('Rating')\n",
    "plt.savefig('figures/CompanyLocation_MeanRating.jpg', bbox_inches='tight', dpi = 50)"
   ]
  },
  {
   "cell_type": "markdown",
   "id": "1d58546b-bd26-4748-aca1-4007966987e4",
   "metadata": {},
   "source": [
    "In the next two cells, we obtain the sixe outliers locations shown in the graph below ad print them out."
   ]
  },
  {
   "cell_type": "code",
   "execution_count": 7,
   "id": "bd707c15-5a7a-45be-b837-4869f24476c4",
   "metadata": {},
   "outputs": [],
   "source": [
    "min_locations = rating_grouped.sort_values('Rating', ascending = True)['Company Location'].values[0:3]\n",
    "max_locations = rating_grouped.sort_values('Rating', ascending = False)['Company Location'].values[0:3]"
   ]
  },
  {
   "cell_type": "code",
   "execution_count": 8,
   "id": "5578e0a6-301f-4bba-9a64-573598a87b1a",
   "metadata": {},
   "outputs": [
    {
     "name": "stdout",
     "output_type": "stream",
     "text": [
      "The locations with the lowest average ratings are ['Sao Tome' 'Puerto Rico' 'Colombia']\n",
      "The locations with the highest average ratings are ['Scotland' 'Chile' 'Guatemala']\n"
     ]
    }
   ],
   "source": [
    "print('The locations with the lowest average ratings are', min_locations)\n",
    "print('The locations with the highest average ratings are', max_locations)"
   ]
  },
  {
   "cell_type": "markdown",
   "id": "bb932af8-ab3c-4b18-b4f4-cf2613a67ff0",
   "metadata": {},
   "source": [
    "## Company Locations with highest Overall Rating and lowest overall rating"
   ]
  },
  {
   "cell_type": "markdown",
   "id": "382c6571-8679-499e-8757-7cac22c7b723",
   "metadata": {},
   "source": [
    "We obtain the company location wth the highest and lowest overall rating and showing these two datasets below."
   ]
  },
  {
   "cell_type": "code",
   "execution_count": 9,
   "id": "081ec5aa-e5b3-489a-93a9-9509da2c5617",
   "metadata": {},
   "outputs": [
    {
     "data": {
      "text/html": [
       "<div>\n",
       "<style scoped>\n",
       "    .dataframe tbody tr th:only-of-type {\n",
       "        vertical-align: middle;\n",
       "    }\n",
       "\n",
       "    .dataframe tbody tr th {\n",
       "        vertical-align: top;\n",
       "    }\n",
       "\n",
       "    .dataframe thead th {\n",
       "        text-align: right;\n",
       "    }\n",
       "</style>\n",
       "<table border=\"1\" class=\"dataframe\">\n",
       "  <thead>\n",
       "    <tr style=\"text-align: right;\">\n",
       "      <th></th>\n",
       "      <th>Company Location</th>\n",
       "      <th>Rating</th>\n",
       "    </tr>\n",
       "  </thead>\n",
       "  <tbody>\n",
       "    <tr>\n",
       "      <th>40</th>\n",
       "      <td>Scotland</td>\n",
       "      <td>3.8125</td>\n",
       "    </tr>\n",
       "  </tbody>\n",
       "</table>\n",
       "</div>"
      ],
      "text/plain": [
       "   Company Location  Rating\n",
       "40         Scotland  3.8125"
      ]
     },
     "execution_count": 9,
     "metadata": {},
     "output_type": "execute_result"
    }
   ],
   "source": [
    "max_rating = max(rating_grouped['Rating'])\n",
    "max_rated_company = rating_grouped[rating_grouped['Rating'] == max_rating]\n",
    "max_rated_company"
   ]
  },
  {
   "cell_type": "code",
   "execution_count": 10,
   "id": "42258def-fd3d-48a9-a2a5-9aa91f2d5f42",
   "metadata": {},
   "outputs": [
    {
     "data": {
      "text/html": [
       "<div>\n",
       "<style scoped>\n",
       "    .dataframe tbody tr th:only-of-type {\n",
       "        vertical-align: middle;\n",
       "    }\n",
       "\n",
       "    .dataframe tbody tr th {\n",
       "        vertical-align: top;\n",
       "    }\n",
       "\n",
       "    .dataframe thead th {\n",
       "        text-align: right;\n",
       "    }\n",
       "</style>\n",
       "<table border=\"1\" class=\"dataframe\">\n",
       "  <thead>\n",
       "    <tr style=\"text-align: right;\">\n",
       "      <th></th>\n",
       "      <th>Company Location</th>\n",
       "      <th>Rating</th>\n",
       "    </tr>\n",
       "  </thead>\n",
       "  <tbody>\n",
       "    <tr>\n",
       "      <th>39</th>\n",
       "      <td>Sao Tome</td>\n",
       "      <td>2.375</td>\n",
       "    </tr>\n",
       "  </tbody>\n",
       "</table>\n",
       "</div>"
      ],
      "text/plain": [
       "   Company Location  Rating\n",
       "39         Sao Tome   2.375"
      ]
     },
     "execution_count": 10,
     "metadata": {},
     "output_type": "execute_result"
    }
   ],
   "source": [
    "min_rating = min(rating_grouped['Rating'])\n",
    "min_rated_company = rating_grouped[rating_grouped['Rating'] == min_rating]\n",
    "min_rated_company"
   ]
  },
  {
   "cell_type": "markdown",
   "id": "2ca38872-76df-4581-af8f-412118c3f591",
   "metadata": {},
   "source": [
    "## Displaying highest and lowest rated locations and their ingredients used"
   ]
  },
  {
   "cell_type": "markdown",
   "id": "bf634513-ebdc-48ce-a1a6-cc98e0c19c47",
   "metadata": {},
   "source": [
    "Next, we will slice into the chocolate data to only have the three maximum rating locations and the three minimum rating locations to observe any key ingredients that caused these six company locations to have the highest and lowest average ratings."
   ]
  },
  {
   "cell_type": "code",
   "execution_count": 21,
   "id": "f8573639-e400-481e-bcc8-330225af039e",
   "metadata": {},
   "outputs": [
    {
     "data": {
      "text/html": [
       "<div>\n",
       "<style scoped>\n",
       "    .dataframe tbody tr th:only-of-type {\n",
       "        vertical-align: middle;\n",
       "    }\n",
       "\n",
       "    .dataframe tbody tr th {\n",
       "        vertical-align: top;\n",
       "    }\n",
       "\n",
       "    .dataframe thead th {\n",
       "        text-align: right;\n",
       "    }\n",
       "</style>\n",
       "<table border=\"1\" class=\"dataframe\">\n",
       "  <thead>\n",
       "    <tr style=\"text-align: right;\">\n",
       "      <th></th>\n",
       "      <th>Company Location</th>\n",
       "      <th>Ingredients</th>\n",
       "    </tr>\n",
       "  </thead>\n",
       "  <tbody>\n",
       "    <tr>\n",
       "      <th>26</th>\n",
       "      <td>Colombia</td>\n",
       "      <td>NaN</td>\n",
       "    </tr>\n",
       "    <tr>\n",
       "      <th>73</th>\n",
       "      <td>Sao Tome</td>\n",
       "      <td>NaN</td>\n",
       "    </tr>\n",
       "    <tr>\n",
       "      <th>560</th>\n",
       "      <td>Puerto Rico</td>\n",
       "      <td>2- B,S</td>\n",
       "    </tr>\n",
       "    <tr>\n",
       "      <th>643</th>\n",
       "      <td>Sao Tome</td>\n",
       "      <td>2- B,S</td>\n",
       "    </tr>\n",
       "  </tbody>\n",
       "</table>\n",
       "</div>"
      ],
      "text/plain": [
       "    Company Location Ingredients\n",
       "26          Colombia         NaN\n",
       "73          Sao Tome         NaN\n",
       "560      Puerto Rico      2- B,S\n",
       "643         Sao Tome      2- B,S"
      ]
     },
     "execution_count": 21,
     "metadata": {},
     "output_type": "execute_result"
    }
   ],
   "source": [
    "#selecting rows that contains the company locations with lowest ratings\n",
    "bools_min = [chocolate['Company Location'][i] in min_locations for i in np.arange(len(chocolate))]\n",
    "min_companies = chocolate[bools_min][['Company Location','Ingredients']]\n",
    "min_companies"
   ]
  },
  {
   "cell_type": "code",
   "execution_count": 22,
   "id": "6e04b20e-b552-4dab-abc9-fe059bb3ba88",
   "metadata": {},
   "outputs": [
    {
     "data": {
      "text/html": [
       "<div>\n",
       "<style scoped>\n",
       "    .dataframe tbody tr th:only-of-type {\n",
       "        vertical-align: middle;\n",
       "    }\n",
       "\n",
       "    .dataframe tbody tr th {\n",
       "        vertical-align: top;\n",
       "    }\n",
       "\n",
       "    .dataframe thead th {\n",
       "        text-align: right;\n",
       "    }\n",
       "</style>\n",
       "<table border=\"1\" class=\"dataframe\">\n",
       "  <thead>\n",
       "    <tr style=\"text-align: right;\">\n",
       "      <th></th>\n",
       "      <th>Company Location</th>\n",
       "      <th>Ingredients</th>\n",
       "    </tr>\n",
       "  </thead>\n",
       "  <tbody>\n",
       "    <tr>\n",
       "      <th>290</th>\n",
       "      <td>Chile</td>\n",
       "      <td>2- B,S</td>\n",
       "    </tr>\n",
       "    <tr>\n",
       "      <th>291</th>\n",
       "      <td>Chile</td>\n",
       "      <td>2- B,S</td>\n",
       "    </tr>\n",
       "    <tr>\n",
       "      <th>627</th>\n",
       "      <td>Scotland</td>\n",
       "      <td>2- B,S</td>\n",
       "    </tr>\n",
       "    <tr>\n",
       "      <th>628</th>\n",
       "      <td>Scotland</td>\n",
       "      <td>2- B,S</td>\n",
       "    </tr>\n",
       "    <tr>\n",
       "      <th>684</th>\n",
       "      <td>Guatemala</td>\n",
       "      <td>2- B,S</td>\n",
       "    </tr>\n",
       "    <tr>\n",
       "      <th>685</th>\n",
       "      <td>Guatemala</td>\n",
       "      <td>2- B,S</td>\n",
       "    </tr>\n",
       "    <tr>\n",
       "      <th>686</th>\n",
       "      <td>Guatemala</td>\n",
       "      <td>2- B,S</td>\n",
       "    </tr>\n",
       "    <tr>\n",
       "      <th>687</th>\n",
       "      <td>Guatemala</td>\n",
       "      <td>2- B,S</td>\n",
       "    </tr>\n",
       "    <tr>\n",
       "      <th>1164</th>\n",
       "      <td>Scotland</td>\n",
       "      <td>3- B,S,C</td>\n",
       "    </tr>\n",
       "    <tr>\n",
       "      <th>1165</th>\n",
       "      <td>Scotland</td>\n",
       "      <td>3- B,S,C</td>\n",
       "    </tr>\n",
       "  </tbody>\n",
       "</table>\n",
       "</div>"
      ],
      "text/plain": [
       "     Company Location Ingredients\n",
       "290             Chile      2- B,S\n",
       "291             Chile      2- B,S\n",
       "627          Scotland      2- B,S\n",
       "628          Scotland      2- B,S\n",
       "684         Guatemala      2- B,S\n",
       "685         Guatemala      2- B,S\n",
       "686         Guatemala      2- B,S\n",
       "687         Guatemala      2- B,S\n",
       "1164         Scotland    3- B,S,C\n",
       "1165         Scotland    3- B,S,C"
      ]
     },
     "execution_count": 22,
     "metadata": {},
     "output_type": "execute_result"
    }
   ],
   "source": [
    "#selecting rows that contains the company locations with highest ratings\n",
    "bools_max = [chocolate['Company Location'][i] in max_locations for i in np.arange(len(chocolate))] \n",
    "max_companies = chocolate[bools_max][['Company Location','Ingredients']]\n",
    "max_companies"
   ]
  },
  {
   "cell_type": "markdown",
   "id": "906ffcc1-af1b-470f-b1c8-c69384b2a7ab",
   "metadata": {},
   "source": [
    "Save dataframes above to tables folder"
   ]
  },
  {
   "cell_type": "code",
   "execution_count": 13,
   "id": "5cd90570-4b9f-455b-8078-db1ef6240980",
   "metadata": {},
   "outputs": [],
   "source": [
    "max_companies.to_csv('tables/Three_companies_with_highest_average rating.csv', index= False)\n",
    "min_companies.to_csv('tables/Three_companies_with_lowest_average rating.csv', index = False)"
   ]
  },
  {
   "cell_type": "markdown",
   "id": "a4d5aba5-a76d-406a-9e70-c96eaaa54419",
   "metadata": {},
   "source": [
    "## Ingredients with best average rating"
   ]
  },
  {
   "cell_type": "markdown",
   "id": "ca40134a-a627-42e9-82ad-1e8c18ce47ba",
   "metadata": {},
   "source": [
    "Using these two datasets containing the six countries, we will analyze how ingredients affects these ratings of chocolates and how this relationship links to the top three and bottom three rated locations."
   ]
  },
  {
   "cell_type": "markdown",
   "id": "4f8f3ba9-58aa-4d3f-a59f-33658869ca66",
   "metadata": {},
   "source": [
    "First we will drop the rows with missing values as this could affest our analysis. Then we will group by each ingredients using the mean rating for each."
   ]
  },
  {
   "cell_type": "code",
   "execution_count": 14,
   "id": "afa14f23-077e-4eec-a90b-4a744d570c95",
   "metadata": {},
   "outputs": [
    {
     "data": {
      "text/html": [
       "<div>\n",
       "<style scoped>\n",
       "    .dataframe tbody tr th:only-of-type {\n",
       "        vertical-align: middle;\n",
       "    }\n",
       "\n",
       "    .dataframe tbody tr th {\n",
       "        vertical-align: top;\n",
       "    }\n",
       "\n",
       "    .dataframe thead th {\n",
       "        text-align: right;\n",
       "    }\n",
       "</style>\n",
       "<table border=\"1\" class=\"dataframe\">\n",
       "  <thead>\n",
       "    <tr style=\"text-align: right;\">\n",
       "      <th></th>\n",
       "      <th>Ingredients</th>\n",
       "      <th>Rating</th>\n",
       "    </tr>\n",
       "  </thead>\n",
       "  <tbody>\n",
       "    <tr>\n",
       "      <th>0</th>\n",
       "      <td>1- B</td>\n",
       "      <td>2.958333</td>\n",
       "    </tr>\n",
       "    <tr>\n",
       "      <th>1</th>\n",
       "      <td>2- B,C</td>\n",
       "      <td>3.000000</td>\n",
       "    </tr>\n",
       "    <tr>\n",
       "      <th>2</th>\n",
       "      <td>2- B,S</td>\n",
       "      <td>3.229457</td>\n",
       "    </tr>\n",
       "    <tr>\n",
       "      <th>3</th>\n",
       "      <td>2- B,S*</td>\n",
       "      <td>2.959677</td>\n",
       "    </tr>\n",
       "    <tr>\n",
       "      <th>4</th>\n",
       "      <td>3- B,S*,C</td>\n",
       "      <td>2.937500</td>\n",
       "    </tr>\n",
       "    <tr>\n",
       "      <th>5</th>\n",
       "      <td>3- B,S*,Sa</td>\n",
       "      <td>2.500000</td>\n",
       "    </tr>\n",
       "    <tr>\n",
       "      <th>6</th>\n",
       "      <td>3- B,S,C</td>\n",
       "      <td>3.280540</td>\n",
       "    </tr>\n",
       "  </tbody>\n",
       "</table>\n",
       "</div>"
      ],
      "text/plain": [
       "  Ingredients    Rating\n",
       "0        1- B  2.958333\n",
       "1      2- B,C  3.000000\n",
       "2      2- B,S  3.229457\n",
       "3     2- B,S*  2.959677\n",
       "4   3- B,S*,C  2.937500\n",
       "5  3- B,S*,Sa  2.500000\n",
       "6    3- B,S,C  3.280540"
      ]
     },
     "execution_count": 14,
     "metadata": {},
     "output_type": "execute_result"
    }
   ],
   "source": [
    "#drop Nan values and obtain relevant columns\n",
    "ingredients = chocolate.dropna(subset = ['Ingredients'])[['Ingredients','Rating']]\n",
    "ingredients_grouped = ingredients.groupby('Ingredients').mean().reset_index()\n",
    "ingredients_grouped"
   ]
  },
  {
   "cell_type": "code",
   "execution_count": 15,
   "id": "32b81cd8-f0ab-4df7-a862-a942d95b058c",
   "metadata": {},
   "outputs": [
    {
     "data": {
      "image/png": "[encoded data removed]",
      "text/plain": [
       "<Figure size 432x288 with 1 Axes>"
      ]
     },
     "metadata": {
      "needs_background": "light"
     },
     "output_type": "display_data"
    }
   ],
   "source": [
    "x = ingredients_grouped['Ingredients']\n",
    "y = ingredients_grouped['Rating']\n",
    "plt.scatter(x,y)\n",
    "plt.title('Relationship between Ingredients and Ratings')\n",
    "plt.ylabel('Rating')\n",
    "plt.xlabel('Ingredient')\n",
    "plt.savefig('figures/Ingredients_MeanRatings.jpg')"
   ]
  },
  {
   "cell_type": "markdown",
   "id": "f9f62c44-aff4-406e-a328-484e351f0711",
   "metadata": {},
   "source": [
    "## Analyzing how the ratings have changed over time"
   ]
  },
  {
   "cell_type": "markdown",
   "id": "35dd26be-6b8e-4ec5-8cbe-9b3186c5966e",
   "metadata": {},
   "source": [
    "In this section, we will build upon our analysis of ingredients and rating by analyzing the avergae rating for each year and the main ingredients used within that review year"
   ]
  },
  {
   "cell_type": "markdown",
   "id": "a32875f5-059a-4498-9be8-3d05cdc6cbec",
   "metadata": {},
   "source": [
    "First we will obtain each unique year in the dataset and calculate the average rating for the year and the main ingredients used in companies within that year"
   ]
  },
  {
   "cell_type": "code",
   "execution_count": 16,
   "id": "cebf0bdc-4c47-44ff-9b17-df0b4db6d2fb",
   "metadata": {},
   "outputs": [
    {
     "data": {
      "text/plain": [
       "array([2006, 2007, 2008, 2009, 2010, 2011, 2012, 2013, 2014, 2015, 2016,\n",
       "       2017, 2018, 2019, 2020, 2021])"
      ]
     },
     "execution_count": 16,
     "metadata": {},
     "output_type": "execute_result"
    }
   ],
   "source": [
    "years = np.sort(chocolate['Review Date'].unique())\n",
    "years"
   ]
  },
  {
   "cell_type": "code",
   "execution_count": 19,
   "id": "8ecf988a-d555-4821-93cb-40d863735d55",
   "metadata": {},
   "outputs": [],
   "source": [
    "ratings = []\n",
    "ingredients = []\n",
    "for year in years:\n",
    "    #obtaining the average rating for each year\n",
    "    subset = chocolate[chocolate['Review Date'] == year]\n",
    "    avg_rating = np.mean(subset['Rating'])\n",
    "    ratings.append(avg_rating)\n",
    "    \n",
    "    #obtaining ingredients used the most for each year\n",
    "    main_ingre = subset.groupby('Ingredients').count().reset_index()\n",
    "    main_sorted = main_ingre.sort_values(by ='Review Date')['Ingredients'][0]\n",
    "    ingredients.append(main_sorted)"
   ]
  },
  {
   "cell_type": "code",
   "execution_count": 20,
   "id": "c8f2d246-08db-4dee-953b-d6158c6a61c5",
   "metadata": {},
   "outputs": [
    {
     "data": {
      "image/png": "[encoded data removed]",
      "text/plain": [
       "<Figure size 864x576 with 1 Axes>"
      ]
     },
     "metadata": {
      "needs_background": "light"
     },
     "output_type": "display_data"
    }
   ],
   "source": [
    "plt.figure(figsize = (12,8))\n",
    "plt.scatter(years, ratings)\n",
    "plt.plot(years, ratings)\n",
    "for i in range(len(years)):\n",
    "    plt.text(x = years[i], y= ratings[i], s= ingredients[i]) #annotating each data point\n",
    "plt.title('Change in average ratings over time')\n",
    "plt.ylabel('Rating')\n",
    "plt.xlabel('Year')\n",
    "plt.savefig('figures/Ingredients_MeanRatings_Year.jpg', dpi = 80)"
   ]
  },
  {
   "cell_type": "code",
   "execution_count": null,
   "id": "f2122869-f25f-403c-a96e-d4fae3370b41",
   "metadata": {},
   "outputs": [],
   "source": []
  }
 ],
 "metadata": {
  "kernelspec": {
   "display_name": "Python 3 (ipykernel)",
   "language": "python",
   "name": "python3"
  },
  "language_info": {
   "codemirror_mode": {
    "name": "ipython",
    "version": 3
   },
   "file_extension": ".py",
   "mimetype": "text/x-python",
   "name": "python",
   "nbconvert_exporter": "python",
   "pygments_lexer": "ipython3",
   "version": "3.9.9"
  }
 },
 "nbformat": 4,
 "nbformat_minor": 5
}
