{
 "cells": [
  {
   "cell_type": "markdown",
   "id": "155aa78e-3da1-4102-bcd2-c1df60809c6e",
   "metadata": {},
   "source": [
    " Author: Jenea Spinks"
   ]
  },
  {
   "cell_type": "markdown",
   "id": "e82a61cb-ee33-41d9-98d3-4aaab1fa6e26",
   "metadata": {},
   "source": [
    "## Import Packages"
   ]
  },
  {
   "cell_type": "code",
   "execution_count": 1,
   "id": "0b9239ea-517c-408a-87f2-244976b7f8d3",
   "metadata": {},
   "outputs": [],
   "source": [
    "import numpy as np\n",
    "import pandas as pd\n",
    "import matplotlib.pyplot as plt\n",
    "import seaborn as sns"
   ]
  },
  {
   "cell_type": "markdown",
   "id": "55bbd538-81c5-4f2b-b3f4-9847fc4cdeca",
   "metadata": {},
   "source": [
    "## Read Chocolate Bar rating dataset"
   ]
  },
  {
   "cell_type": "markdown",
   "id": "a7d4cf3e-688d-41b8-bc27-0652c9a50cc6",
   "metadata": {},
   "source": [
    "We used a publicly available dataset: http://flavorsofcacao.com/chocolate_database.html"
   ]
  },
  {
   "cell_type": "code",
   "execution_count": 2,
   "id": "51393ebe-338e-4bc3-9141-b78e3b20d089",
   "metadata": {},
   "outputs": [
    {
     "data": {
      "text/html": [
       "<div>\n",
       "<style scoped>\n",
       "    .dataframe tbody tr th:only-of-type {\n",
       "        vertical-align: middle;\n",
       "    }\n",
       "\n",
       "    .dataframe tbody tr th {\n",
       "        vertical-align: top;\n",
       "    }\n",
       "\n",
       "    .dataframe thead th {\n",
       "        text-align: right;\n",
       "    }\n",
       "</style>\n",
       "<table border=\"1\" class=\"dataframe\">\n",
       "  <thead>\n",
       "    <tr style=\"text-align: right;\">\n",
       "      <th></th>\n",
       "      <th>REF</th>\n",
       "      <th>Company (Manufacturer)</th>\n",
       "      <th>Company Location</th>\n",
       "      <th>Review Date</th>\n",
       "      <th>Country of Bean Origin</th>\n",
       "      <th>Specific Bean Origin or Bar Name</th>\n",
       "      <th>Cocoa Percent</th>\n",
       "      <th>Ingredients</th>\n",
       "      <th>Most Memorable Characteristics</th>\n",
       "      <th>Rating</th>\n",
       "    </tr>\n",
       "  </thead>\n",
       "  <tbody>\n",
       "    <tr>\n",
       "      <th>0</th>\n",
       "      <td>1205</td>\n",
       "      <td>Habitual</td>\n",
       "      <td>Canada</td>\n",
       "      <td>2014</td>\n",
       "      <td>Blend</td>\n",
       "      <td>one hundred</td>\n",
       "      <td>100%</td>\n",
       "      <td>NaN</td>\n",
       "      <td>unrefined, bitter, earthy</td>\n",
       "      <td>2.00</td>\n",
       "    </tr>\n",
       "    <tr>\n",
       "      <th>1</th>\n",
       "      <td>701</td>\n",
       "      <td>Haigh</td>\n",
       "      <td>Australia</td>\n",
       "      <td>2011</td>\n",
       "      <td>Blend</td>\n",
       "      <td>South America and Africa</td>\n",
       "      <td>70%</td>\n",
       "      <td>NaN</td>\n",
       "      <td>vanilla, chocolate milk</td>\n",
       "      <td>3.00</td>\n",
       "    </tr>\n",
       "    <tr>\n",
       "      <th>2</th>\n",
       "      <td>1113</td>\n",
       "      <td>Hotel Chocolat</td>\n",
       "      <td>U.K.</td>\n",
       "      <td>2013</td>\n",
       "      <td>St. Lucia</td>\n",
       "      <td>Island Growers, 2012, 120hr c., batch 13080</td>\n",
       "      <td>100%</td>\n",
       "      <td>NaN</td>\n",
       "      <td>pastey, bitter, unfixable</td>\n",
       "      <td>1.75</td>\n",
       "    </tr>\n",
       "    <tr>\n",
       "      <th>3</th>\n",
       "      <td>296</td>\n",
       "      <td>Hotel Chocolat (Coppeneur)</td>\n",
       "      <td>U.K.</td>\n",
       "      <td>2008</td>\n",
       "      <td>Uganda</td>\n",
       "      <td>Uganda</td>\n",
       "      <td>80%</td>\n",
       "      <td>NaN</td>\n",
       "      <td>charred, espresso</td>\n",
       "      <td>2.50</td>\n",
       "    </tr>\n",
       "    <tr>\n",
       "      <th>4</th>\n",
       "      <td>552</td>\n",
       "      <td>Hotel Chocolat (Coppeneur)</td>\n",
       "      <td>U.K.</td>\n",
       "      <td>2010</td>\n",
       "      <td>Ecuador</td>\n",
       "      <td>Ecuador</td>\n",
       "      <td>70%</td>\n",
       "      <td>NaN</td>\n",
       "      <td>spicy, sour, burning</td>\n",
       "      <td>2.75</td>\n",
       "    </tr>\n",
       "  </tbody>\n",
       "</table>\n",
       "</div>"
      ],
      "text/plain": [
       "    REF      Company (Manufacturer) Company Location  Review Date  \\\n",
       "0  1205                    Habitual           Canada         2014   \n",
       "1   701                       Haigh        Australia         2011   \n",
       "2  1113              Hotel Chocolat             U.K.         2013   \n",
       "3   296  Hotel Chocolat (Coppeneur)             U.K.         2008   \n",
       "4   552  Hotel Chocolat (Coppeneur)             U.K.         2010   \n",
       "\n",
       "  Country of Bean Origin             Specific Bean Origin or Bar Name  \\\n",
       "0                  Blend                                  one hundred   \n",
       "1                  Blend                     South America and Africa   \n",
       "2              St. Lucia  Island Growers, 2012, 120hr c., batch 13080   \n",
       "3                 Uganda                                       Uganda   \n",
       "4                Ecuador                                      Ecuador   \n",
       "\n",
       "  Cocoa Percent Ingredients Most Memorable Characteristics  Rating  \n",
       "0          100%         NaN      unrefined, bitter, earthy    2.00  \n",
       "1           70%         NaN        vanilla, chocolate milk    3.00  \n",
       "2          100%         NaN      pastey, bitter, unfixable    1.75  \n",
       "3           80%         NaN              charred, espresso    2.50  \n",
       "4           70%         NaN           spicy, sour, burning    2.75  "
      ]
     },
     "execution_count": 2,
     "metadata": {},
     "output_type": "execute_result"
    }
   ],
   "source": [
    "chocolate = pd.read_csv('data/chocolate.csv')\n",
    "chocolate.head(5)"
   ]
  },
  {
   "cell_type": "markdown",
   "id": "edd7f8b4-769e-46d3-8725-4484271df588",
   "metadata": {},
   "source": [
    "## Company Location with the highest average rating"
   ]
  },
  {
   "cell_type": "markdown",
   "id": "1ef29883-37e7-4fc5-8428-b3be9306bb94",
   "metadata": {},
   "source": [
    "In this section, we will analyze the company location with the highest average rating. By finding this company location, we can slice into the entire chocolate bar dataset to see if there are any characterics/features that cause this highest average rating. "
   ]
  },
  {
   "cell_type": "markdown",
   "id": "d62519d5-93a8-4646-b6bb-f9dd4442a012",
   "metadata": {},
   "source": [
    "After finding the company location with the highest average rating, we will look at the ingredients of companies in this location to identify any key ingredients that may have impacted the high ratings of the chocolates"
   ]
  },
  {
   "cell_type": "markdown",
   "id": "c96c6ff9-a338-463c-b07f-f328e2d3d0a3",
   "metadata": {},
   "source": [
    "First, we will obtain the columns of Company Locaton and Rating to form a new dataset for our analysis and use this dataset to group by the Company location using the mean of all ratings for the location"
   ]
  },
  {
   "cell_type": "code",
   "execution_count": 3,
   "id": "bc343eab-fce1-47d6-a790-70bf973ae868",
   "metadata": {},
   "outputs": [
    {
     "data": {
      "text/html": [
       "<div>\n",
       "<style scoped>\n",
       "    .dataframe tbody tr th:only-of-type {\n",
       "        vertical-align: middle;\n",
       "    }\n",
       "\n",
       "    .dataframe tbody tr th {\n",
       "        vertical-align: top;\n",
       "    }\n",
       "\n",
       "    .dataframe thead th {\n",
       "        text-align: right;\n",
       "    }\n",
       "</style>\n",
       "<table border=\"1\" class=\"dataframe\">\n",
       "  <thead>\n",
       "    <tr style=\"text-align: right;\">\n",
       "      <th></th>\n",
       "      <th>Company Location</th>\n",
       "      <th>Rating</th>\n",
       "    </tr>\n",
       "  </thead>\n",
       "  <tbody>\n",
       "    <tr>\n",
       "      <th>0</th>\n",
       "      <td>Canada</td>\n",
       "      <td>2.00</td>\n",
       "    </tr>\n",
       "    <tr>\n",
       "      <th>1</th>\n",
       "      <td>Australia</td>\n",
       "      <td>3.00</td>\n",
       "    </tr>\n",
       "    <tr>\n",
       "      <th>2</th>\n",
       "      <td>U.K.</td>\n",
       "      <td>1.75</td>\n",
       "    </tr>\n",
       "    <tr>\n",
       "      <th>3</th>\n",
       "      <td>U.K.</td>\n",
       "      <td>2.50</td>\n",
       "    </tr>\n",
       "    <tr>\n",
       "      <th>4</th>\n",
       "      <td>U.K.</td>\n",
       "      <td>2.75</td>\n",
       "    </tr>\n",
       "  </tbody>\n",
       "</table>\n",
       "</div>"
      ],
      "text/plain": [
       "  Company Location  Rating\n",
       "0           Canada    2.00\n",
       "1        Australia    3.00\n",
       "2             U.K.    1.75\n",
       "3             U.K.    2.50\n",
       "4             U.K.    2.75"
      ]
     },
     "execution_count": 3,
     "metadata": {},
     "output_type": "execute_result"
    }
   ],
   "source": [
    "company_rating = chocolate[['Company Location','Rating']]\n",
    "company_rating.head(5)"
   ]
  },
  {
   "cell_type": "code",
   "execution_count": 4,
   "id": "9620de65-8b92-4896-90c4-109165e4284f",
   "metadata": {},
   "outputs": [
    {
     "data": {
      "text/html": [
       "<div>\n",
       "<style scoped>\n",
       "    .dataframe tbody tr th:only-of-type {\n",
       "        vertical-align: middle;\n",
       "    }\n",
       "\n",
       "    .dataframe tbody tr th {\n",
       "        vertical-align: top;\n",
       "    }\n",
       "\n",
       "    .dataframe thead th {\n",
       "        text-align: right;\n",
       "    }\n",
       "</style>\n",
       "<table border=\"1\" class=\"dataframe\">\n",
       "  <thead>\n",
       "    <tr style=\"text-align: right;\">\n",
       "      <th></th>\n",
       "      <th>Company Location</th>\n",
       "      <th>Rating</th>\n",
       "    </tr>\n",
       "  </thead>\n",
       "  <tbody>\n",
       "    <tr>\n",
       "      <th>0</th>\n",
       "      <td>Amsterdam</td>\n",
       "      <td>3.218750</td>\n",
       "    </tr>\n",
       "    <tr>\n",
       "      <th>1</th>\n",
       "      <td>Argentina</td>\n",
       "      <td>3.150000</td>\n",
       "    </tr>\n",
       "    <tr>\n",
       "      <th>2</th>\n",
       "      <td>Australia</td>\n",
       "      <td>3.433824</td>\n",
       "    </tr>\n",
       "    <tr>\n",
       "      <th>3</th>\n",
       "      <td>Austria</td>\n",
       "      <td>3.192308</td>\n",
       "    </tr>\n",
       "    <tr>\n",
       "      <th>4</th>\n",
       "      <td>Belgium</td>\n",
       "      <td>3.086538</td>\n",
       "    </tr>\n",
       "  </tbody>\n",
       "</table>\n",
       "</div>"
      ],
      "text/plain": [
       "  Company Location    Rating\n",
       "0        Amsterdam  3.218750\n",
       "1        Argentina  3.150000\n",
       "2        Australia  3.433824\n",
       "3          Austria  3.192308\n",
       "4          Belgium  3.086538"
      ]
     },
     "execution_count": 4,
     "metadata": {},
     "output_type": "execute_result"
    }
   ],
   "source": [
    "rating_grouped = company_rating.groupby('Company Location').mean().reset_index()\n",
    "rating_grouped.head(5)"
   ]
  },
  {
   "cell_type": "code",
   "execution_count": 14,
   "id": "4e4dd9e3-b19d-40ad-8cd8-85705c35362d",
   "metadata": {},
   "outputs": [],
   "source": [
    "rating_grouped.to_csv('Tables/Company_Location_Average_Rating.csv')"
   ]
  },
  {
   "cell_type": "markdown",
   "id": "fd679291-1e43-4c1c-9ddc-a6578803bd66",
   "metadata": {},
   "source": [
    "Then, we will create a scatter plot for the mean ratings of each company locations to visualize any outliers rating that can be further analyzed"
   ]
  },
  {
   "cell_type": "code",
   "execution_count": 10,
   "id": "72020c98-6d24-4241-9814-3cd22c97e67f",
   "metadata": {},
   "outputs": [
    {
     "data": {
      "image/png": "[encoded data removed]",
      "text/plain": [
       "<Figure size 864x576 with 1 Axes>"
      ]
     },
     "metadata": {
      "needs_background": "light"
     },
     "output_type": "display_data"
    }
   ],
   "source": [
    "rating = rating_grouped['Rating']\n",
    "company_location = rating_grouped['Company Location']\n",
    "plt.figure(figsize = (12,8))\n",
    "plt.scatter(company_location,rating)\n",
    "plt.plot(company_location, np.ones(len(rating))*2.7, color = 'r')\n",
    "plt.plot(company_location, np.ones(len(rating))*3.5, color = 'r')\n",
    "plt.xticks(rotation= 90 )\n",
    "plt.title('Average Ratings of each location')\n",
    "plt.xlabel('Location')\n",
    "plt.ylabel('Rating')\n",
    "plt.savefig('Figures/CompanyLocation_MeanRating')"
   ]
  },
  {
   "cell_type": "code",
   "execution_count": 35,
   "id": "bd707c15-5a7a-45be-b837-4869f24476c4",
   "metadata": {},
   "outputs": [],
   "source": [
    "min_locations = rating_grouped.sort_values('Rating', ascending = True)['Company Location'].values[0:3]\n",
    "max_locations = rating_grouped.sort_values('Rating', ascending = False)['Company Location'].values[0:3]"
   ]
  },
  {
   "cell_type": "code",
   "execution_count": 38,
   "id": "5578e0a6-301f-4bba-9a64-573598a87b1a",
   "metadata": {},
   "outputs": [
    {
     "name": "stdout",
     "output_type": "stream",
     "text": [
      "The locations with the lowest average ratings are ['Sao Tome' 'Puerto Rico' 'Colombia']\n",
      "The locations with the highest average ratings are ['Scotland' 'Chile' 'Guatemala']\n"
     ]
    }
   ],
   "source": [
    "print('The locations with the lowest average ratings are',min_locations)\n",
    "print('The locations with the highest average ratings are',max_locations)"
   ]
  },
  {
   "cell_type": "markdown",
   "id": "442f0e67-0dec-412f-a837-e68f1c807751",
   "metadata": {},
   "source": [
    "From this plot, we can see that most of the countries' rating were between the range of 2.8 and 3.4 except for six locations; three above a rating of  3.5  and three below 2.7. The three company locations with the high ratings are Scotland, Chile and Guatemala and the three lowest are SaoTome, Puerto Rico and Colombia"
   ]
  },
  {
   "cell_type": "markdown",
   "id": "bb932af8-ab3c-4b18-b4f4-cf2613a67ff0",
   "metadata": {},
   "source": [
    "## Company Locations with highest Overall Rating and lowest overall rating"
   ]
  },
  {
   "cell_type": "code",
   "execution_count": 12,
   "id": "081ec5aa-e5b3-489a-93a9-9509da2c5617",
   "metadata": {},
   "outputs": [
    {
     "data": {
      "text/html": [
       "<div>\n",
       "<style scoped>\n",
       "    .dataframe tbody tr th:only-of-type {\n",
       "        vertical-align: middle;\n",
       "    }\n",
       "\n",
       "    .dataframe tbody tr th {\n",
       "        vertical-align: top;\n",
       "    }\n",
       "\n",
       "    .dataframe thead th {\n",
       "        text-align: right;\n",
       "    }\n",
       "</style>\n",
       "<table border=\"1\" class=\"dataframe\">\n",
       "  <thead>\n",
       "    <tr style=\"text-align: right;\">\n",
       "      <th></th>\n",
       "      <th>Company Location</th>\n",
       "      <th>Rating</th>\n",
       "    </tr>\n",
       "  </thead>\n",
       "  <tbody>\n",
       "    <tr>\n",
       "      <th>40</th>\n",
       "      <td>Scotland</td>\n",
       "      <td>3.8125</td>\n",
       "    </tr>\n",
       "  </tbody>\n",
       "</table>\n",
       "</div>"
      ],
      "text/plain": [
       "   Company Location  Rating\n",
       "40         Scotland  3.8125"
      ]
     },
     "execution_count": 12,
     "metadata": {},
     "output_type": "execute_result"
    }
   ],
   "source": [
    "max_rating = max(rating_grouped['Rating'])\n",
    "max_company = rating_grouped[rating_grouped['Rating'] == max_rating]\n",
    "max_company"
   ]
  },
  {
   "cell_type": "code",
   "execution_count": 16,
   "id": "42258def-fd3d-48a9-a2a5-9aa91f2d5f42",
   "metadata": {},
   "outputs": [
    {
     "data": {
      "text/html": [
       "<div>\n",
       "<style scoped>\n",
       "    .dataframe tbody tr th:only-of-type {\n",
       "        vertical-align: middle;\n",
       "    }\n",
       "\n",
       "    .dataframe tbody tr th {\n",
       "        vertical-align: top;\n",
       "    }\n",
       "\n",
       "    .dataframe thead th {\n",
       "        text-align: right;\n",
       "    }\n",
       "</style>\n",
       "<table border=\"1\" class=\"dataframe\">\n",
       "  <thead>\n",
       "    <tr style=\"text-align: right;\">\n",
       "      <th></th>\n",
       "      <th>Company Location</th>\n",
       "      <th>Rating</th>\n",
       "    </tr>\n",
       "  </thead>\n",
       "  <tbody>\n",
       "    <tr>\n",
       "      <th>39</th>\n",
       "      <td>Sao Tome</td>\n",
       "      <td>2.375</td>\n",
       "    </tr>\n",
       "  </tbody>\n",
       "</table>\n",
       "</div>"
      ],
      "text/plain": [
       "   Company Location  Rating\n",
       "39         Sao Tome   2.375"
      ]
     },
     "execution_count": 16,
     "metadata": {},
     "output_type": "execute_result"
    }
   ],
   "source": [
    "min_rating = min(rating_grouped['Rating'])\n",
    "min_company = rating_grouped[rating_grouped['Rating'] == min_rating]\n",
    "min_company"
   ]
  },
  {
   "cell_type": "markdown",
   "id": "a36c721c-cd1d-40c1-8e96-b01becebaa93",
   "metadata": {},
   "source": [
    "Based on the tables above, the company location with the lowest average rating was Sao Tome with an average rating of 2.375 and the company location with the highest average rating amongst the three was Scotland with an average rating of 3.8. "
   ]
  },
  {
   "cell_type": "markdown",
   "id": "bf634513-ebdc-48ce-a1a6-cc98e0c19c47",
   "metadata": {},
   "source": [
    "Next, we will slice into the chocolate data to only have the three maximum rating locations and the three minimum rating locations to observe any key ingredients that caused these six company locations to have the highest and lowest average ratings."
   ]
  },
  {
   "cell_type": "code",
   "execution_count": 43,
   "id": "f8573639-e400-481e-bcc8-330225af039e",
   "metadata": {},
   "outputs": [
    {
     "data": {
      "text/html": [
       "<div>\n",
       "<style scoped>\n",
       "    .dataframe tbody tr th:only-of-type {\n",
       "        vertical-align: middle;\n",
       "    }\n",
       "\n",
       "    .dataframe tbody tr th {\n",
       "        vertical-align: top;\n",
       "    }\n",
       "\n",
       "    .dataframe thead th {\n",
       "        text-align: right;\n",
       "    }\n",
       "</style>\n",
       "<table border=\"1\" class=\"dataframe\">\n",
       "  <thead>\n",
       "    <tr style=\"text-align: right;\">\n",
       "      <th></th>\n",
       "      <th>REF</th>\n",
       "      <th>Company (Manufacturer)</th>\n",
       "      <th>Company Location</th>\n",
       "      <th>Review Date</th>\n",
       "      <th>Country of Bean Origin</th>\n",
       "      <th>Specific Bean Origin or Bar Name</th>\n",
       "      <th>Cocoa Percent</th>\n",
       "      <th>Ingredients</th>\n",
       "      <th>Most Memorable Characteristics</th>\n",
       "      <th>Rating</th>\n",
       "    </tr>\n",
       "  </thead>\n",
       "  <tbody>\n",
       "    <tr>\n",
       "      <th>26</th>\n",
       "      <td>955</td>\n",
       "      <td>Mita</td>\n",
       "      <td>Colombia</td>\n",
       "      <td>2012</td>\n",
       "      <td>Colombia</td>\n",
       "      <td>Tumaco</td>\n",
       "      <td>65%</td>\n",
       "      <td>NaN</td>\n",
       "      <td>vanilla, artificial, sweet</td>\n",
       "      <td>2.50</td>\n",
       "    </tr>\n",
       "    <tr>\n",
       "      <th>73</th>\n",
       "      <td>252</td>\n",
       "      <td>Claudio Corallo</td>\n",
       "      <td>Sao Tome</td>\n",
       "      <td>2008</td>\n",
       "      <td>Blend</td>\n",
       "      <td>Principe, Sao Tome &amp; Principe</td>\n",
       "      <td>100%</td>\n",
       "      <td>NaN</td>\n",
       "      <td>chalky, musty, very bitter</td>\n",
       "      <td>1.00</td>\n",
       "    </tr>\n",
       "    <tr>\n",
       "      <th>560</th>\n",
       "      <td>1606</td>\n",
       "      <td>Cacao Arabuco</td>\n",
       "      <td>Puerto Rico</td>\n",
       "      <td>2015</td>\n",
       "      <td>Puerto Rico</td>\n",
       "      <td>Puerto Rico</td>\n",
       "      <td>70%</td>\n",
       "      <td>2- B,S</td>\n",
       "      <td>dirt, floral, sweet</td>\n",
       "      <td>2.50</td>\n",
       "    </tr>\n",
       "    <tr>\n",
       "      <th>643</th>\n",
       "      <td>470</td>\n",
       "      <td>Claudio Corallo</td>\n",
       "      <td>Sao Tome</td>\n",
       "      <td>2010</td>\n",
       "      <td>Blend</td>\n",
       "      <td>Terreiro Velho P., Sao Tome &amp; Principe</td>\n",
       "      <td>73.50%</td>\n",
       "      <td>2- B,S</td>\n",
       "      <td>short,mild cocoa, mild fruit</td>\n",
       "      <td>3.75</td>\n",
       "    </tr>\n",
       "  </tbody>\n",
       "</table>\n",
       "</div>"
      ],
      "text/plain": [
       "      REF Company (Manufacturer) Company Location  Review Date  \\\n",
       "26    955                   Mita         Colombia         2012   \n",
       "73    252        Claudio Corallo         Sao Tome         2008   \n",
       "560  1606          Cacao Arabuco      Puerto Rico         2015   \n",
       "643   470        Claudio Corallo         Sao Tome         2010   \n",
       "\n",
       "    Country of Bean Origin        Specific Bean Origin or Bar Name  \\\n",
       "26                Colombia                                  Tumaco   \n",
       "73                   Blend           Principe, Sao Tome & Principe   \n",
       "560            Puerto Rico                             Puerto Rico   \n",
       "643                  Blend  Terreiro Velho P., Sao Tome & Principe   \n",
       "\n",
       "    Cocoa Percent Ingredients Most Memorable Characteristics  Rating  \n",
       "26            65%         NaN     vanilla, artificial, sweet    2.50  \n",
       "73           100%         NaN     chalky, musty, very bitter    1.00  \n",
       "560           70%      2- B,S            dirt, floral, sweet    2.50  \n",
       "643        73.50%      2- B,S   short,mild cocoa, mild fruit    3.75  "
      ]
     },
     "execution_count": 43,
     "metadata": {},
     "output_type": "execute_result"
    }
   ],
   "source": [
    "bools_min = [chocolate['Company Location'][i] in min_locations for i in np.arange(len(chocolate))]\n",
    "min_companies = chocolate[bools_min]\n",
    "min_companies"
   ]
  },
  {
   "cell_type": "code",
   "execution_count": 42,
   "id": "6e04b20e-b552-4dab-abc9-fe059bb3ba88",
   "metadata": {},
   "outputs": [
    {
     "data": {
      "text/html": [
       "<div>\n",
       "<style scoped>\n",
       "    .dataframe tbody tr th:only-of-type {\n",
       "        vertical-align: middle;\n",
       "    }\n",
       "\n",
       "    .dataframe tbody tr th {\n",
       "        vertical-align: top;\n",
       "    }\n",
       "\n",
       "    .dataframe thead th {\n",
       "        text-align: right;\n",
       "    }\n",
       "</style>\n",
       "<table border=\"1\" class=\"dataframe\">\n",
       "  <thead>\n",
       "    <tr style=\"text-align: right;\">\n",
       "      <th></th>\n",
       "      <th>REF</th>\n",
       "      <th>Company (Manufacturer)</th>\n",
       "      <th>Company Location</th>\n",
       "      <th>Review Date</th>\n",
       "      <th>Country of Bean Origin</th>\n",
       "      <th>Specific Bean Origin or Bar Name</th>\n",
       "      <th>Cocoa Percent</th>\n",
       "      <th>Ingredients</th>\n",
       "      <th>Most Memorable Characteristics</th>\n",
       "      <th>Rating</th>\n",
       "    </tr>\n",
       "  </thead>\n",
       "  <tbody>\n",
       "    <tr>\n",
       "      <th>290</th>\n",
       "      <td>1638</td>\n",
       "      <td>Obolo</td>\n",
       "      <td>Chile</td>\n",
       "      <td>2015</td>\n",
       "      <td>Peru</td>\n",
       "      <td>Pangoa, w/ nibs</td>\n",
       "      <td>70%</td>\n",
       "      <td>2- B,S</td>\n",
       "      <td>creamy, roasty, mild grape</td>\n",
       "      <td>3.75</td>\n",
       "    </tr>\n",
       "    <tr>\n",
       "      <th>291</th>\n",
       "      <td>2386</td>\n",
       "      <td>Obolo</td>\n",
       "      <td>Chile</td>\n",
       "      <td>2019</td>\n",
       "      <td>Peru</td>\n",
       "      <td>Pangoa, 2018, batch 1584 - E</td>\n",
       "      <td>70%</td>\n",
       "      <td>2- B,S</td>\n",
       "      <td>intense grapes, sweet cocoa</td>\n",
       "      <td>3.75</td>\n",
       "    </tr>\n",
       "    <tr>\n",
       "      <th>627</th>\n",
       "      <td>1121</td>\n",
       "      <td>Chocolate Tree</td>\n",
       "      <td>Scotland</td>\n",
       "      <td>2013</td>\n",
       "      <td>Peru</td>\n",
       "      <td>Peru</td>\n",
       "      <td>70%</td>\n",
       "      <td>2- B,S</td>\n",
       "      <td>intense orange, floral notes</td>\n",
       "      <td>3.75</td>\n",
       "    </tr>\n",
       "    <tr>\n",
       "      <th>628</th>\n",
       "      <td>1582</td>\n",
       "      <td>Chocolate Tree</td>\n",
       "      <td>Scotland</td>\n",
       "      <td>2015</td>\n",
       "      <td>Venezuela</td>\n",
       "      <td>Carenero Superior</td>\n",
       "      <td>80%</td>\n",
       "      <td>2- B,S</td>\n",
       "      <td>mild bitter, fruit, spice</td>\n",
       "      <td>3.75</td>\n",
       "    </tr>\n",
       "    <tr>\n",
       "      <th>684</th>\n",
       "      <td>991</td>\n",
       "      <td>Danta</td>\n",
       "      <td>Guatemala</td>\n",
       "      <td>2012</td>\n",
       "      <td>Guatemala</td>\n",
       "      <td>Oscuro, Finca Chimelb</td>\n",
       "      <td>70%</td>\n",
       "      <td>2- B,S</td>\n",
       "      <td>nutty, ashey, spicy pepper</td>\n",
       "      <td>3.25</td>\n",
       "    </tr>\n",
       "    <tr>\n",
       "      <th>685</th>\n",
       "      <td>987</td>\n",
       "      <td>Danta</td>\n",
       "      <td>Guatemala</td>\n",
       "      <td>2012</td>\n",
       "      <td>Guatemala</td>\n",
       "      <td>Los Ujuxtes</td>\n",
       "      <td>70%</td>\n",
       "      <td>2- B,S</td>\n",
       "      <td>spicy</td>\n",
       "      <td>3.75</td>\n",
       "    </tr>\n",
       "    <tr>\n",
       "      <th>686</th>\n",
       "      <td>987</td>\n",
       "      <td>Danta</td>\n",
       "      <td>Guatemala</td>\n",
       "      <td>2012</td>\n",
       "      <td>Madagascar</td>\n",
       "      <td>Sambirano</td>\n",
       "      <td>70%</td>\n",
       "      <td>2- B,S</td>\n",
       "      <td>oily, toffee, hints of fruit</td>\n",
       "      <td>3.75</td>\n",
       "    </tr>\n",
       "    <tr>\n",
       "      <th>687</th>\n",
       "      <td>987</td>\n",
       "      <td>Danta</td>\n",
       "      <td>Guatemala</td>\n",
       "      <td>2012</td>\n",
       "      <td>Guatemala</td>\n",
       "      <td>Las Acacias E.</td>\n",
       "      <td>70%</td>\n",
       "      <td>2- B,S</td>\n",
       "      <td>sweet spice, floral</td>\n",
       "      <td>4.00</td>\n",
       "    </tr>\n",
       "    <tr>\n",
       "      <th>1164</th>\n",
       "      <td>1558</td>\n",
       "      <td>Ocelot</td>\n",
       "      <td>Scotland</td>\n",
       "      <td>2015</td>\n",
       "      <td>Congo</td>\n",
       "      <td>Virunga</td>\n",
       "      <td>70%</td>\n",
       "      <td>3- B,S,C</td>\n",
       "      <td>melon, earthy, tobacco</td>\n",
       "      <td>3.75</td>\n",
       "    </tr>\n",
       "    <tr>\n",
       "      <th>1165</th>\n",
       "      <td>1558</td>\n",
       "      <td>Ocelot</td>\n",
       "      <td>Scotland</td>\n",
       "      <td>2015</td>\n",
       "      <td>Peru</td>\n",
       "      <td>Piura</td>\n",
       "      <td>75%</td>\n",
       "      <td>3- B,S,C</td>\n",
       "      <td>peanut butter, raspberry</td>\n",
       "      <td>4.00</td>\n",
       "    </tr>\n",
       "  </tbody>\n",
       "</table>\n",
       "</div>"
      ],
      "text/plain": [
       "       REF Company (Manufacturer) Company Location  Review Date  \\\n",
       "290   1638                  Obolo            Chile         2015   \n",
       "291   2386                  Obolo            Chile         2019   \n",
       "627   1121         Chocolate Tree         Scotland         2013   \n",
       "628   1582         Chocolate Tree         Scotland         2015   \n",
       "684    991                  Danta        Guatemala         2012   \n",
       "685    987                  Danta        Guatemala         2012   \n",
       "686    987                  Danta        Guatemala         2012   \n",
       "687    987                  Danta        Guatemala         2012   \n",
       "1164  1558                 Ocelot         Scotland         2015   \n",
       "1165  1558                 Ocelot         Scotland         2015   \n",
       "\n",
       "     Country of Bean Origin Specific Bean Origin or Bar Name Cocoa Percent  \\\n",
       "290                    Peru                  Pangoa, w/ nibs           70%   \n",
       "291                    Peru     Pangoa, 2018, batch 1584 - E           70%   \n",
       "627                    Peru                             Peru           70%   \n",
       "628               Venezuela                Carenero Superior           80%   \n",
       "684               Guatemala            Oscuro, Finca Chimelb           70%   \n",
       "685               Guatemala                      Los Ujuxtes           70%   \n",
       "686              Madagascar                        Sambirano           70%   \n",
       "687               Guatemala                   Las Acacias E.           70%   \n",
       "1164                  Congo                          Virunga           70%   \n",
       "1165                   Peru                            Piura           75%   \n",
       "\n",
       "     Ingredients Most Memorable Characteristics  Rating  \n",
       "290       2- B,S     creamy, roasty, mild grape    3.75  \n",
       "291       2- B,S    intense grapes, sweet cocoa    3.75  \n",
       "627       2- B,S   intense orange, floral notes    3.75  \n",
       "628       2- B,S      mild bitter, fruit, spice    3.75  \n",
       "684       2- B,S     nutty, ashey, spicy pepper    3.25  \n",
       "685       2- B,S                          spicy    3.75  \n",
       "686       2- B,S   oily, toffee, hints of fruit    3.75  \n",
       "687       2- B,S            sweet spice, floral    4.00  \n",
       "1164    3- B,S,C         melon, earthy, tobacco    3.75  \n",
       "1165    3- B,S,C       peanut butter, raspberry    4.00  "
      ]
     },
     "execution_count": 42,
     "metadata": {},
     "output_type": "execute_result"
    }
   ],
   "source": [
    "bools_max = [chocolate['Company Location'][i] in max_locations for i in np.arange(len(chocolate))]\n",
    "max_companies = chocolate[bools_max]\n",
    "max_companies"
   ]
  },
  {
   "cell_type": "markdown",
   "id": "a4d5aba5-a76d-406a-9e70-c96eaaa54419",
   "metadata": {},
   "source": [
    "## Ingredients with best average rating"
   ]
  },
  {
   "cell_type": "markdown",
   "id": "ca40134a-a627-42e9-82ad-1e8c18ce47ba",
   "metadata": {},
   "source": [
    "Using these two datasets containing the six countries, we will analyze how ingredients affects these ratings of chocolates and how this relationship links to the top three and bottom three rated locations."
   ]
  },
  {
   "cell_type": "markdown",
   "id": "4f8f3ba9-58aa-4d3f-a59f-33658869ca66",
   "metadata": {},
   "source": [
    "First we will drop the rows with missing values as this could affest our analysis. Then we will group by each ingredients using the mean rating for each."
   ]
  },
  {
   "cell_type": "code",
   "execution_count": 11,
   "id": "afa14f23-077e-4eec-a90b-4a744d570c95",
   "metadata": {},
   "outputs": [
    {
     "data": {
      "text/html": [
       "<div>\n",
       "<style scoped>\n",
       "    .dataframe tbody tr th:only-of-type {\n",
       "        vertical-align: middle;\n",
       "    }\n",
       "\n",
       "    .dataframe tbody tr th {\n",
       "        vertical-align: top;\n",
       "    }\n",
       "\n",
       "    .dataframe thead th {\n",
       "        text-align: right;\n",
       "    }\n",
       "</style>\n",
       "<table border=\"1\" class=\"dataframe\">\n",
       "  <thead>\n",
       "    <tr style=\"text-align: right;\">\n",
       "      <th></th>\n",
       "      <th>Ingredients</th>\n",
       "      <th>Rating</th>\n",
       "    </tr>\n",
       "  </thead>\n",
       "  <tbody>\n",
       "    <tr>\n",
       "      <th>0</th>\n",
       "      <td>1- B</td>\n",
       "      <td>2.958333</td>\n",
       "    </tr>\n",
       "    <tr>\n",
       "      <th>1</th>\n",
       "      <td>2- B,C</td>\n",
       "      <td>3.000000</td>\n",
       "    </tr>\n",
       "    <tr>\n",
       "      <th>2</th>\n",
       "      <td>2- B,S</td>\n",
       "      <td>3.229457</td>\n",
       "    </tr>\n",
       "    <tr>\n",
       "      <th>3</th>\n",
       "      <td>2- B,S*</td>\n",
       "      <td>2.959677</td>\n",
       "    </tr>\n",
       "    <tr>\n",
       "      <th>4</th>\n",
       "      <td>3- B,S*,C</td>\n",
       "      <td>2.937500</td>\n",
       "    </tr>\n",
       "    <tr>\n",
       "      <th>5</th>\n",
       "      <td>3- B,S*,Sa</td>\n",
       "      <td>2.500000</td>\n",
       "    </tr>\n",
       "    <tr>\n",
       "      <th>6</th>\n",
       "      <td>3- B,S,C</td>\n",
       "      <td>3.280540</td>\n",
       "    </tr>\n",
       "  </tbody>\n",
       "</table>\n",
       "</div>"
      ],
      "text/plain": [
       "  Ingredients    Rating\n",
       "0        1- B  2.958333\n",
       "1      2- B,C  3.000000\n",
       "2      2- B,S  3.229457\n",
       "3     2- B,S*  2.959677\n",
       "4   3- B,S*,C  2.937500\n",
       "5  3- B,S*,Sa  2.500000\n",
       "6    3- B,S,C  3.280540"
      ]
     },
     "execution_count": 11,
     "metadata": {},
     "output_type": "execute_result"
    }
   ],
   "source": [
    "ingredients = chocolate.dropna(subset = ['Ingredients'])[['Ingredients','Rating']]\n",
    "ingredients_grouped = ingredients.groupby('Ingredients').mean().reset_index()\n",
    "ingredients_grouped"
   ]
  },
  {
   "cell_type": "code",
   "execution_count": 13,
   "id": "5cd90570-4b9f-455b-8078-db1ef6240980",
   "metadata": {},
   "outputs": [],
   "source": [
    "ingredients_grouped.to_csv('Tables/Ingredients_Average_Rating.csv')"
   ]
  },
  {
   "cell_type": "code",
   "execution_count": 12,
   "id": "32b81cd8-f0ab-4df7-a862-a942d95b058c",
   "metadata": {},
   "outputs": [
    {
     "data": {
      "image/png": "[encoded data removed]",
      "text/plain": [
       "<Figure size 432x288 with 1 Axes>"
      ]
     },
     "metadata": {
      "needs_background": "light"
     },
     "output_type": "display_data"
    }
   ],
   "source": [
    "x = ingredients_grouped['Ingredients']\n",
    "y = ingredients_grouped['Rating']\n",
    "plt.scatter(x,y)\n",
    "plt.title('Relationship between Ingredients and Ratings')\n",
    "plt.ylabel('Rating')\n",
    "plt.xlabel('Ingredient')\n",
    "plt.savefig('Figures/Ingredients_MeanRatings')"
   ]
  },
  {
   "cell_type": "markdown",
   "id": "200c70ca-ca0d-40c3-b006-a89b87256461",
   "metadata": {},
   "source": [
    "From this plot, the ingredient 3- B,S*,Sa has the lowest overall mean rating and the ingredients 3- B,S,C and 2-B,S have the highest ratings within the dataset."
   ]
  },
  {
   "cell_type": "markdown",
   "id": "fc0e261d-9746-4eaa-8f77-3f3769090edb",
   "metadata": {},
   "source": [
    "From the above analysis of both the company locations and ingredients, the top three rated company locations have the highest overall rated ingredients  which is 2-B,S and 3-B,S,C however, the lowest rated companies does not contain the lowest rate ingredient so the low ratings may be due to another feature in the dataset as the ingredients contain Nan values and 2-B,C ingredients."
   ]
  }
 ],
 "metadata": {
  "kernelspec": {
   "display_name": "Python 3 (ipykernel)",
   "language": "python",
   "name": "python3"
  },
  "language_info": {
   "codemirror_mode": {
    "name": "ipython",
    "version": 3
   },
   "file_extension": ".py",
   "mimetype": "text/x-python",
   "name": "python",
   "nbconvert_exporter": "python",
   "pygments_lexer": "ipython3",
   "version": "3.9.9"
  }
 },
 "nbformat": 4,
 "nbformat_minor": 5
}
