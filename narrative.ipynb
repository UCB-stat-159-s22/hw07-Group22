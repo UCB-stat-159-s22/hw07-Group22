{
 "cells": [
  {
   "cell_type": "code",
   "execution_count": 1,
   "id": "a7541e19-0a02-43d6-b451-ba3dee09e31c",
   "metadata": {
    "tags": []
   },
   "outputs": [],
   "source": [
    "import pandas as pd\n",
    "from IPython.display import Image"
   ]
  },
  {
   "cell_type": "markdown",
   "id": "77e85563-193f-48c3-b571-0057fe290b33",
   "metadata": {},
   "source": [
    "## Chocolate bar rating dataset"
   ]
  },
  {
   "cell_type": "markdown",
   "id": "5f7380a8-7549-4972-84c8-46dd0806ce4d",
   "metadata": {},
   "source": [
    "In this section, we will use the dataset to examine any relationships between the average ratings and the ingredients used. The column Ingredients is of the form \"#- list of ingredients\". The \"#\" = represents the number of ingredients in the chocolate; B = Beans, S = Sugar, S* = Sweetener other than white cane or beet sugar, C = Cocoa Butter, V = Vanilla, L = Lecithin, Sa = Salt. "
   ]
  },
  {
   "cell_type": "markdown",
   "id": "1bd4902e-7bac-4ab5-b271-c527b2deec3b",
   "metadata": {},
   "source": [
    "## Analyzing the Company Locations with the highest and lowest average ratings"
   ]
  },
  {
   "cell_type": "markdown",
   "id": "572dc32b-f392-4199-b310-f01c43362a3a",
   "metadata": {},
   "source": [
    "In this section, we analyze the company locations with the highest and lowest average ratings. By finding these company location, we can examine if there are any characterics/features that contribute to these average rating. "
   ]
  },
  {
   "cell_type": "markdown",
   "id": "77dce32b-c5fb-4a74-96d7-4c8ce78800fd",
   "metadata": {},
   "source": [
    "We first visualize the average ratings of each company location."
   ]
  },
  {
   "cell_type": "code",
   "execution_count": 4,
   "id": "84d3599d-080c-49ef-8c15-9335ca6753c9",
   "metadata": {
    "jupyter": {
     "source_hidden": true
    },
    "tags": []
   },
   "outputs": [
    {
     "ename": "FileNotFoundError",
     "evalue": "No such file or directory: 'figures/CompanyLocation_MeanRating.jpg'",
     "output_type": "error",
     "traceback": [
      "\u001b[0;31m---------------------------------------------------------------------------\u001b[0m",
      "\u001b[0;31mTypeError\u001b[0m                                 Traceback (most recent call last)",
      "File \u001b[0;32m~/envs/stat159-s22/lib/python3.9/site-packages/IPython/core/display.py:1027\u001b[0m, in \u001b[0;36mImage._data_and_metadata\u001b[0;34m(self, always_both)\u001b[0m\n\u001b[1;32m   1026\u001b[0m \u001b[38;5;28;01mtry\u001b[39;00m:\n\u001b[0;32m-> 1027\u001b[0m     b64_data \u001b[38;5;241m=\u001b[39m \u001b[43mb2a_base64\u001b[49m\u001b[43m(\u001b[49m\u001b[38;5;28;43mself\u001b[39;49m\u001b[38;5;241;43m.\u001b[39;49m\u001b[43mdata\u001b[49m\u001b[43m)\u001b[49m\u001b[38;5;241m.\u001b[39mdecode(\u001b[38;5;124m'\u001b[39m\u001b[38;5;124mascii\u001b[39m\u001b[38;5;124m'\u001b[39m)\n\u001b[1;32m   1028\u001b[0m \u001b[38;5;28;01mexcept\u001b[39;00m \u001b[38;5;167;01mTypeError\u001b[39;00m \u001b[38;5;28;01mas\u001b[39;00m e:\n",
      "\u001b[0;31mTypeError\u001b[0m: a bytes-like object is required, not 'str'",
      "\nThe above exception was the direct cause of the following exception:\n",
      "\u001b[0;31mFileNotFoundError\u001b[0m                         Traceback (most recent call last)",
      "File \u001b[0;32m~/envs/stat159-s22/lib/python3.9/site-packages/IPython/core/formatters.py:973\u001b[0m, in \u001b[0;36mMimeBundleFormatter.__call__\u001b[0;34m(self, obj, include, exclude)\u001b[0m\n\u001b[1;32m    970\u001b[0m     method \u001b[38;5;241m=\u001b[39m get_real_method(obj, \u001b[38;5;28mself\u001b[39m\u001b[38;5;241m.\u001b[39mprint_method)\n\u001b[1;32m    972\u001b[0m     \u001b[38;5;28;01mif\u001b[39;00m method \u001b[38;5;129;01mis\u001b[39;00m \u001b[38;5;129;01mnot\u001b[39;00m \u001b[38;5;28;01mNone\u001b[39;00m:\n\u001b[0;32m--> 973\u001b[0m         \u001b[38;5;28;01mreturn\u001b[39;00m \u001b[43mmethod\u001b[49m\u001b[43m(\u001b[49m\u001b[43minclude\u001b[49m\u001b[38;5;241;43m=\u001b[39;49m\u001b[43minclude\u001b[49m\u001b[43m,\u001b[49m\u001b[43m \u001b[49m\u001b[43mexclude\u001b[49m\u001b[38;5;241;43m=\u001b[39;49m\u001b[43mexclude\u001b[49m\u001b[43m)\u001b[49m\n\u001b[1;32m    974\u001b[0m     \u001b[38;5;28;01mreturn\u001b[39;00m \u001b[38;5;28;01mNone\u001b[39;00m\n\u001b[1;32m    975\u001b[0m \u001b[38;5;28;01melse\u001b[39;00m:\n",
      "File \u001b[0;32m~/envs/stat159-s22/lib/python3.9/site-packages/IPython/core/display.py:1017\u001b[0m, in \u001b[0;36mImage._repr_mimebundle_\u001b[0;34m(self, include, exclude)\u001b[0m\n\u001b[1;32m   1015\u001b[0m \u001b[38;5;28;01mif\u001b[39;00m \u001b[38;5;28mself\u001b[39m\u001b[38;5;241m.\u001b[39membed:\n\u001b[1;32m   1016\u001b[0m     mimetype \u001b[38;5;241m=\u001b[39m \u001b[38;5;28mself\u001b[39m\u001b[38;5;241m.\u001b[39m_mimetype\n\u001b[0;32m-> 1017\u001b[0m     data, metadata \u001b[38;5;241m=\u001b[39m \u001b[38;5;28;43mself\u001b[39;49m\u001b[38;5;241;43m.\u001b[39;49m\u001b[43m_data_and_metadata\u001b[49m\u001b[43m(\u001b[49m\u001b[43malways_both\u001b[49m\u001b[38;5;241;43m=\u001b[39;49m\u001b[38;5;28;43;01mTrue\u001b[39;49;00m\u001b[43m)\u001b[49m\n\u001b[1;32m   1018\u001b[0m     \u001b[38;5;28;01mif\u001b[39;00m metadata:\n\u001b[1;32m   1019\u001b[0m         metadata \u001b[38;5;241m=\u001b[39m {mimetype: metadata}\n",
      "File \u001b[0;32m~/envs/stat159-s22/lib/python3.9/site-packages/IPython/core/display.py:1029\u001b[0m, in \u001b[0;36mImage._data_and_metadata\u001b[0;34m(self, always_both)\u001b[0m\n\u001b[1;32m   1027\u001b[0m     b64_data \u001b[38;5;241m=\u001b[39m b2a_base64(\u001b[38;5;28mself\u001b[39m\u001b[38;5;241m.\u001b[39mdata)\u001b[38;5;241m.\u001b[39mdecode(\u001b[38;5;124m'\u001b[39m\u001b[38;5;124mascii\u001b[39m\u001b[38;5;124m'\u001b[39m)\n\u001b[1;32m   1028\u001b[0m \u001b[38;5;28;01mexcept\u001b[39;00m \u001b[38;5;167;01mTypeError\u001b[39;00m \u001b[38;5;28;01mas\u001b[39;00m e:\n\u001b[0;32m-> 1029\u001b[0m     \u001b[38;5;28;01mraise\u001b[39;00m \u001b[38;5;167;01mFileNotFoundError\u001b[39;00m(\n\u001b[1;32m   1030\u001b[0m         \u001b[38;5;124m\"\u001b[39m\u001b[38;5;124mNo such file or directory: \u001b[39m\u001b[38;5;124m'\u001b[39m\u001b[38;5;132;01m%s\u001b[39;00m\u001b[38;5;124m'\u001b[39m\u001b[38;5;124m\"\u001b[39m \u001b[38;5;241m%\u001b[39m (\u001b[38;5;28mself\u001b[39m\u001b[38;5;241m.\u001b[39mdata)) \u001b[38;5;28;01mfrom\u001b[39;00m \u001b[38;5;21;01me\u001b[39;00m\n\u001b[1;32m   1031\u001b[0m md \u001b[38;5;241m=\u001b[39m {}\n\u001b[1;32m   1032\u001b[0m \u001b[38;5;28;01mif\u001b[39;00m \u001b[38;5;28mself\u001b[39m\u001b[38;5;241m.\u001b[39mmetadata:\n",
      "\u001b[0;31mFileNotFoundError\u001b[0m: No such file or directory: 'figures/CompanyLocation_MeanRating.jpg'"
     ]
    },
    {
     "ename": "FileNotFoundError",
     "evalue": "No such file or directory: 'figures/CompanyLocation_MeanRating.jpg'",
     "output_type": "error",
     "traceback": [
      "\u001b[0;31m---------------------------------------------------------------------------\u001b[0m",
      "\u001b[0;31mTypeError\u001b[0m                                 Traceback (most recent call last)",
      "File \u001b[0;32m~/envs/stat159-s22/lib/python3.9/site-packages/IPython/core/display.py:1027\u001b[0m, in \u001b[0;36mImage._data_and_metadata\u001b[0;34m(self, always_both)\u001b[0m\n\u001b[1;32m   1026\u001b[0m \u001b[38;5;28;01mtry\u001b[39;00m:\n\u001b[0;32m-> 1027\u001b[0m     b64_data \u001b[38;5;241m=\u001b[39m \u001b[43mb2a_base64\u001b[49m\u001b[43m(\u001b[49m\u001b[38;5;28;43mself\u001b[39;49m\u001b[38;5;241;43m.\u001b[39;49m\u001b[43mdata\u001b[49m\u001b[43m)\u001b[49m\u001b[38;5;241m.\u001b[39mdecode(\u001b[38;5;124m'\u001b[39m\u001b[38;5;124mascii\u001b[39m\u001b[38;5;124m'\u001b[39m)\n\u001b[1;32m   1028\u001b[0m \u001b[38;5;28;01mexcept\u001b[39;00m \u001b[38;5;167;01mTypeError\u001b[39;00m \u001b[38;5;28;01mas\u001b[39;00m e:\n",
      "\u001b[0;31mTypeError\u001b[0m: a bytes-like object is required, not 'str'",
      "\nThe above exception was the direct cause of the following exception:\n",
      "\u001b[0;31mFileNotFoundError\u001b[0m                         Traceback (most recent call last)",
      "File \u001b[0;32m~/envs/stat159-s22/lib/python3.9/site-packages/IPython/core/formatters.py:343\u001b[0m, in \u001b[0;36mBaseFormatter.__call__\u001b[0;34m(self, obj)\u001b[0m\n\u001b[1;32m    341\u001b[0m     method \u001b[38;5;241m=\u001b[39m get_real_method(obj, \u001b[38;5;28mself\u001b[39m\u001b[38;5;241m.\u001b[39mprint_method)\n\u001b[1;32m    342\u001b[0m     \u001b[38;5;28;01mif\u001b[39;00m method \u001b[38;5;129;01mis\u001b[39;00m \u001b[38;5;129;01mnot\u001b[39;00m \u001b[38;5;28;01mNone\u001b[39;00m:\n\u001b[0;32m--> 343\u001b[0m         \u001b[38;5;28;01mreturn\u001b[39;00m \u001b[43mmethod\u001b[49m\u001b[43m(\u001b[49m\u001b[43m)\u001b[49m\n\u001b[1;32m    344\u001b[0m     \u001b[38;5;28;01mreturn\u001b[39;00m \u001b[38;5;28;01mNone\u001b[39;00m\n\u001b[1;32m    345\u001b[0m \u001b[38;5;28;01melse\u001b[39;00m:\n",
      "File \u001b[0;32m~/envs/stat159-s22/lib/python3.9/site-packages/IPython/core/display.py:1049\u001b[0m, in \u001b[0;36mImage._repr_png_\u001b[0;34m(self)\u001b[0m\n\u001b[1;32m   1047\u001b[0m \u001b[38;5;28;01mdef\u001b[39;00m \u001b[38;5;21m_repr_png_\u001b[39m(\u001b[38;5;28mself\u001b[39m):\n\u001b[1;32m   1048\u001b[0m     \u001b[38;5;28;01mif\u001b[39;00m \u001b[38;5;28mself\u001b[39m\u001b[38;5;241m.\u001b[39membed \u001b[38;5;129;01mand\u001b[39;00m \u001b[38;5;28mself\u001b[39m\u001b[38;5;241m.\u001b[39mformat \u001b[38;5;241m==\u001b[39m \u001b[38;5;28mself\u001b[39m\u001b[38;5;241m.\u001b[39m_FMT_PNG:\n\u001b[0;32m-> 1049\u001b[0m         \u001b[38;5;28;01mreturn\u001b[39;00m \u001b[38;5;28;43mself\u001b[39;49m\u001b[38;5;241;43m.\u001b[39;49m\u001b[43m_data_and_metadata\u001b[49m\u001b[43m(\u001b[49m\u001b[43m)\u001b[49m\n",
      "File \u001b[0;32m~/envs/stat159-s22/lib/python3.9/site-packages/IPython/core/display.py:1029\u001b[0m, in \u001b[0;36mImage._data_and_metadata\u001b[0;34m(self, always_both)\u001b[0m\n\u001b[1;32m   1027\u001b[0m     b64_data \u001b[38;5;241m=\u001b[39m b2a_base64(\u001b[38;5;28mself\u001b[39m\u001b[38;5;241m.\u001b[39mdata)\u001b[38;5;241m.\u001b[39mdecode(\u001b[38;5;124m'\u001b[39m\u001b[38;5;124mascii\u001b[39m\u001b[38;5;124m'\u001b[39m)\n\u001b[1;32m   1028\u001b[0m \u001b[38;5;28;01mexcept\u001b[39;00m \u001b[38;5;167;01mTypeError\u001b[39;00m \u001b[38;5;28;01mas\u001b[39;00m e:\n\u001b[0;32m-> 1029\u001b[0m     \u001b[38;5;28;01mraise\u001b[39;00m \u001b[38;5;167;01mFileNotFoundError\u001b[39;00m(\n\u001b[1;32m   1030\u001b[0m         \u001b[38;5;124m\"\u001b[39m\u001b[38;5;124mNo such file or directory: \u001b[39m\u001b[38;5;124m'\u001b[39m\u001b[38;5;132;01m%s\u001b[39;00m\u001b[38;5;124m'\u001b[39m\u001b[38;5;124m\"\u001b[39m \u001b[38;5;241m%\u001b[39m (\u001b[38;5;28mself\u001b[39m\u001b[38;5;241m.\u001b[39mdata)) \u001b[38;5;28;01mfrom\u001b[39;00m \u001b[38;5;21;01me\u001b[39;00m\n\u001b[1;32m   1031\u001b[0m md \u001b[38;5;241m=\u001b[39m {}\n\u001b[1;32m   1032\u001b[0m \u001b[38;5;28;01mif\u001b[39;00m \u001b[38;5;28mself\u001b[39m\u001b[38;5;241m.\u001b[39mmetadata:\n",
      "\u001b[0;31mFileNotFoundError\u001b[0m: No such file or directory: 'figures/CompanyLocation_MeanRating.jpg'"
     ]
    },
    {
     "data": {
      "text/plain": [
       "<IPython.core.display.Image object>"
      ]
     },
     "execution_count": 4,
     "metadata": {},
     "output_type": "execute_result"
    }
   ],
   "source": [
    "Image('figures/CompanyLocation_MeanRating.jpg')"
   ]
  },
  {
   "cell_type": "markdown",
   "id": "f0fe4dce-4391-497e-9cff-70c7c0075911",
   "metadata": {},
   "source": [
    "From this plot, we can see that most of the countries' rating were between the range of 2.7 and 3.5 except for six locations; three above a rating of  3.5  and three below 2.7. We drew  lines at these numbers to help visualize these cutoffs. The three company locations with the high ratings are Scotland, Chile and Guatemala, with Scotland being the higest and the three lowest are SaoTome, Puerto Rico and Colombia, with Sao Tome being the worst. "
   ]
  },
  {
   "cell_type": "markdown",
   "id": "d255ddb3-36ca-422f-8a31-194455b62351",
   "metadata": {},
   "source": [
    "The rating of these six locations are used for further analysis to help identify any links to the ingredients that may contribute to the ratings of these chocolate bars."
   ]
  },
  {
   "cell_type": "markdown",
   "id": "9172bc56-9bef-4040-9efa-6e8b7e064eaf",
   "metadata": {},
   "source": [
    "## Ingredients with best average rating"
   ]
  },
  {
   "cell_type": "markdown",
   "id": "ded0a2ae-4e9b-4fdf-8c54-5de1a9b7c9de",
   "metadata": {},
   "source": [
    "Using datasets containing only the rows of the six countries from the plot above, we analyze how ingredients affect the overall ratings of chocolates and how this relationship links to the top three and bottom three rated locations."
   ]
  },
  {
   "cell_type": "markdown",
   "id": "64704fb7-b5e8-4e14-85f2-0d78e0bbf6f5",
   "metadata": {},
   "source": [
    "We visualize the average ratings of each ingredients to identify and ingredients with distinguishably high or low ratings."
   ]
  },
  {
   "cell_type": "code",
   "execution_count": 5,
   "id": "7c8ba756-dc4c-4c17-b69f-dbc76201a1f6",
   "metadata": {
    "jupyter": {
     "source_hidden": true
    }
   },
   "outputs": [
    {
     "ename": "FileNotFoundError",
     "evalue": "No such file or directory: 'figures/Ingredients_MeanRatings.jpg'",
     "output_type": "error",
     "traceback": [
      "\u001b[0;31m---------------------------------------------------------------------------\u001b[0m",
      "\u001b[0;31mTypeError\u001b[0m                                 Traceback (most recent call last)",
      "File \u001b[0;32m~/envs/stat159-s22/lib/python3.9/site-packages/IPython/core/display.py:1027\u001b[0m, in \u001b[0;36mImage._data_and_metadata\u001b[0;34m(self, always_both)\u001b[0m\n\u001b[1;32m   1026\u001b[0m \u001b[38;5;28;01mtry\u001b[39;00m:\n\u001b[0;32m-> 1027\u001b[0m     b64_data \u001b[38;5;241m=\u001b[39m \u001b[43mb2a_base64\u001b[49m\u001b[43m(\u001b[49m\u001b[38;5;28;43mself\u001b[39;49m\u001b[38;5;241;43m.\u001b[39;49m\u001b[43mdata\u001b[49m\u001b[43m)\u001b[49m\u001b[38;5;241m.\u001b[39mdecode(\u001b[38;5;124m'\u001b[39m\u001b[38;5;124mascii\u001b[39m\u001b[38;5;124m'\u001b[39m)\n\u001b[1;32m   1028\u001b[0m \u001b[38;5;28;01mexcept\u001b[39;00m \u001b[38;5;167;01mTypeError\u001b[39;00m \u001b[38;5;28;01mas\u001b[39;00m e:\n",
      "\u001b[0;31mTypeError\u001b[0m: a bytes-like object is required, not 'str'",
      "\nThe above exception was the direct cause of the following exception:\n",
      "\u001b[0;31mFileNotFoundError\u001b[0m                         Traceback (most recent call last)",
      "File \u001b[0;32m~/envs/stat159-s22/lib/python3.9/site-packages/IPython/core/formatters.py:973\u001b[0m, in \u001b[0;36mMimeBundleFormatter.__call__\u001b[0;34m(self, obj, include, exclude)\u001b[0m\n\u001b[1;32m    970\u001b[0m     method \u001b[38;5;241m=\u001b[39m get_real_method(obj, \u001b[38;5;28mself\u001b[39m\u001b[38;5;241m.\u001b[39mprint_method)\n\u001b[1;32m    972\u001b[0m     \u001b[38;5;28;01mif\u001b[39;00m method \u001b[38;5;129;01mis\u001b[39;00m \u001b[38;5;129;01mnot\u001b[39;00m \u001b[38;5;28;01mNone\u001b[39;00m:\n\u001b[0;32m--> 973\u001b[0m         \u001b[38;5;28;01mreturn\u001b[39;00m \u001b[43mmethod\u001b[49m\u001b[43m(\u001b[49m\u001b[43minclude\u001b[49m\u001b[38;5;241;43m=\u001b[39;49m\u001b[43minclude\u001b[49m\u001b[43m,\u001b[49m\u001b[43m \u001b[49m\u001b[43mexclude\u001b[49m\u001b[38;5;241;43m=\u001b[39;49m\u001b[43mexclude\u001b[49m\u001b[43m)\u001b[49m\n\u001b[1;32m    974\u001b[0m     \u001b[38;5;28;01mreturn\u001b[39;00m \u001b[38;5;28;01mNone\u001b[39;00m\n\u001b[1;32m    975\u001b[0m \u001b[38;5;28;01melse\u001b[39;00m:\n",
      "File \u001b[0;32m~/envs/stat159-s22/lib/python3.9/site-packages/IPython/core/display.py:1017\u001b[0m, in \u001b[0;36mImage._repr_mimebundle_\u001b[0;34m(self, include, exclude)\u001b[0m\n\u001b[1;32m   1015\u001b[0m \u001b[38;5;28;01mif\u001b[39;00m \u001b[38;5;28mself\u001b[39m\u001b[38;5;241m.\u001b[39membed:\n\u001b[1;32m   1016\u001b[0m     mimetype \u001b[38;5;241m=\u001b[39m \u001b[38;5;28mself\u001b[39m\u001b[38;5;241m.\u001b[39m_mimetype\n\u001b[0;32m-> 1017\u001b[0m     data, metadata \u001b[38;5;241m=\u001b[39m \u001b[38;5;28;43mself\u001b[39;49m\u001b[38;5;241;43m.\u001b[39;49m\u001b[43m_data_and_metadata\u001b[49m\u001b[43m(\u001b[49m\u001b[43malways_both\u001b[49m\u001b[38;5;241;43m=\u001b[39;49m\u001b[38;5;28;43;01mTrue\u001b[39;49;00m\u001b[43m)\u001b[49m\n\u001b[1;32m   1018\u001b[0m     \u001b[38;5;28;01mif\u001b[39;00m metadata:\n\u001b[1;32m   1019\u001b[0m         metadata \u001b[38;5;241m=\u001b[39m {mimetype: metadata}\n",
      "File \u001b[0;32m~/envs/stat159-s22/lib/python3.9/site-packages/IPython/core/display.py:1029\u001b[0m, in \u001b[0;36mImage._data_and_metadata\u001b[0;34m(self, always_both)\u001b[0m\n\u001b[1;32m   1027\u001b[0m     b64_data \u001b[38;5;241m=\u001b[39m b2a_base64(\u001b[38;5;28mself\u001b[39m\u001b[38;5;241m.\u001b[39mdata)\u001b[38;5;241m.\u001b[39mdecode(\u001b[38;5;124m'\u001b[39m\u001b[38;5;124mascii\u001b[39m\u001b[38;5;124m'\u001b[39m)\n\u001b[1;32m   1028\u001b[0m \u001b[38;5;28;01mexcept\u001b[39;00m \u001b[38;5;167;01mTypeError\u001b[39;00m \u001b[38;5;28;01mas\u001b[39;00m e:\n\u001b[0;32m-> 1029\u001b[0m     \u001b[38;5;28;01mraise\u001b[39;00m \u001b[38;5;167;01mFileNotFoundError\u001b[39;00m(\n\u001b[1;32m   1030\u001b[0m         \u001b[38;5;124m\"\u001b[39m\u001b[38;5;124mNo such file or directory: \u001b[39m\u001b[38;5;124m'\u001b[39m\u001b[38;5;132;01m%s\u001b[39;00m\u001b[38;5;124m'\u001b[39m\u001b[38;5;124m\"\u001b[39m \u001b[38;5;241m%\u001b[39m (\u001b[38;5;28mself\u001b[39m\u001b[38;5;241m.\u001b[39mdata)) \u001b[38;5;28;01mfrom\u001b[39;00m \u001b[38;5;21;01me\u001b[39;00m\n\u001b[1;32m   1031\u001b[0m md \u001b[38;5;241m=\u001b[39m {}\n\u001b[1;32m   1032\u001b[0m \u001b[38;5;28;01mif\u001b[39;00m \u001b[38;5;28mself\u001b[39m\u001b[38;5;241m.\u001b[39mmetadata:\n",
      "\u001b[0;31mFileNotFoundError\u001b[0m: No such file or directory: 'figures/Ingredients_MeanRatings.jpg'"
     ]
    },
    {
     "ename": "FileNotFoundError",
     "evalue": "No such file or directory: 'figures/Ingredients_MeanRatings.jpg'",
     "output_type": "error",
     "traceback": [
      "\u001b[0;31m---------------------------------------------------------------------------\u001b[0m",
      "\u001b[0;31mTypeError\u001b[0m                                 Traceback (most recent call last)",
      "File \u001b[0;32m~/envs/stat159-s22/lib/python3.9/site-packages/IPython/core/display.py:1027\u001b[0m, in \u001b[0;36mImage._data_and_metadata\u001b[0;34m(self, always_both)\u001b[0m\n\u001b[1;32m   1026\u001b[0m \u001b[38;5;28;01mtry\u001b[39;00m:\n\u001b[0;32m-> 1027\u001b[0m     b64_data \u001b[38;5;241m=\u001b[39m \u001b[43mb2a_base64\u001b[49m\u001b[43m(\u001b[49m\u001b[38;5;28;43mself\u001b[39;49m\u001b[38;5;241;43m.\u001b[39;49m\u001b[43mdata\u001b[49m\u001b[43m)\u001b[49m\u001b[38;5;241m.\u001b[39mdecode(\u001b[38;5;124m'\u001b[39m\u001b[38;5;124mascii\u001b[39m\u001b[38;5;124m'\u001b[39m)\n\u001b[1;32m   1028\u001b[0m \u001b[38;5;28;01mexcept\u001b[39;00m \u001b[38;5;167;01mTypeError\u001b[39;00m \u001b[38;5;28;01mas\u001b[39;00m e:\n",
      "\u001b[0;31mTypeError\u001b[0m: a bytes-like object is required, not 'str'",
      "\nThe above exception was the direct cause of the following exception:\n",
      "\u001b[0;31mFileNotFoundError\u001b[0m                         Traceback (most recent call last)",
      "File \u001b[0;32m~/envs/stat159-s22/lib/python3.9/site-packages/IPython/core/formatters.py:343\u001b[0m, in \u001b[0;36mBaseFormatter.__call__\u001b[0;34m(self, obj)\u001b[0m\n\u001b[1;32m    341\u001b[0m     method \u001b[38;5;241m=\u001b[39m get_real_method(obj, \u001b[38;5;28mself\u001b[39m\u001b[38;5;241m.\u001b[39mprint_method)\n\u001b[1;32m    342\u001b[0m     \u001b[38;5;28;01mif\u001b[39;00m method \u001b[38;5;129;01mis\u001b[39;00m \u001b[38;5;129;01mnot\u001b[39;00m \u001b[38;5;28;01mNone\u001b[39;00m:\n\u001b[0;32m--> 343\u001b[0m         \u001b[38;5;28;01mreturn\u001b[39;00m \u001b[43mmethod\u001b[49m\u001b[43m(\u001b[49m\u001b[43m)\u001b[49m\n\u001b[1;32m    344\u001b[0m     \u001b[38;5;28;01mreturn\u001b[39;00m \u001b[38;5;28;01mNone\u001b[39;00m\n\u001b[1;32m    345\u001b[0m \u001b[38;5;28;01melse\u001b[39;00m:\n",
      "File \u001b[0;32m~/envs/stat159-s22/lib/python3.9/site-packages/IPython/core/display.py:1049\u001b[0m, in \u001b[0;36mImage._repr_png_\u001b[0;34m(self)\u001b[0m\n\u001b[1;32m   1047\u001b[0m \u001b[38;5;28;01mdef\u001b[39;00m \u001b[38;5;21m_repr_png_\u001b[39m(\u001b[38;5;28mself\u001b[39m):\n\u001b[1;32m   1048\u001b[0m     \u001b[38;5;28;01mif\u001b[39;00m \u001b[38;5;28mself\u001b[39m\u001b[38;5;241m.\u001b[39membed \u001b[38;5;129;01mand\u001b[39;00m \u001b[38;5;28mself\u001b[39m\u001b[38;5;241m.\u001b[39mformat \u001b[38;5;241m==\u001b[39m \u001b[38;5;28mself\u001b[39m\u001b[38;5;241m.\u001b[39m_FMT_PNG:\n\u001b[0;32m-> 1049\u001b[0m         \u001b[38;5;28;01mreturn\u001b[39;00m \u001b[38;5;28;43mself\u001b[39;49m\u001b[38;5;241;43m.\u001b[39;49m\u001b[43m_data_and_metadata\u001b[49m\u001b[43m(\u001b[49m\u001b[43m)\u001b[49m\n",
      "File \u001b[0;32m~/envs/stat159-s22/lib/python3.9/site-packages/IPython/core/display.py:1029\u001b[0m, in \u001b[0;36mImage._data_and_metadata\u001b[0;34m(self, always_both)\u001b[0m\n\u001b[1;32m   1027\u001b[0m     b64_data \u001b[38;5;241m=\u001b[39m b2a_base64(\u001b[38;5;28mself\u001b[39m\u001b[38;5;241m.\u001b[39mdata)\u001b[38;5;241m.\u001b[39mdecode(\u001b[38;5;124m'\u001b[39m\u001b[38;5;124mascii\u001b[39m\u001b[38;5;124m'\u001b[39m)\n\u001b[1;32m   1028\u001b[0m \u001b[38;5;28;01mexcept\u001b[39;00m \u001b[38;5;167;01mTypeError\u001b[39;00m \u001b[38;5;28;01mas\u001b[39;00m e:\n\u001b[0;32m-> 1029\u001b[0m     \u001b[38;5;28;01mraise\u001b[39;00m \u001b[38;5;167;01mFileNotFoundError\u001b[39;00m(\n\u001b[1;32m   1030\u001b[0m         \u001b[38;5;124m\"\u001b[39m\u001b[38;5;124mNo such file or directory: \u001b[39m\u001b[38;5;124m'\u001b[39m\u001b[38;5;132;01m%s\u001b[39;00m\u001b[38;5;124m'\u001b[39m\u001b[38;5;124m\"\u001b[39m \u001b[38;5;241m%\u001b[39m (\u001b[38;5;28mself\u001b[39m\u001b[38;5;241m.\u001b[39mdata)) \u001b[38;5;28;01mfrom\u001b[39;00m \u001b[38;5;21;01me\u001b[39;00m\n\u001b[1;32m   1031\u001b[0m md \u001b[38;5;241m=\u001b[39m {}\n\u001b[1;32m   1032\u001b[0m \u001b[38;5;28;01mif\u001b[39;00m \u001b[38;5;28mself\u001b[39m\u001b[38;5;241m.\u001b[39mmetadata:\n",
      "\u001b[0;31mFileNotFoundError\u001b[0m: No such file or directory: 'figures/Ingredients_MeanRatings.jpg'"
     ]
    },
    {
     "data": {
      "text/plain": [
       "<IPython.core.display.Image object>"
      ]
     },
     "execution_count": 5,
     "metadata": {},
     "output_type": "execute_result"
    }
   ],
   "source": [
    "Image('figures/Ingredients_MeanRatings.jpg')"
   ]
  },
  {
   "cell_type": "markdown",
   "id": "0e0976c9-743b-4430-aed9-0eed8be05561",
   "metadata": {},
   "source": [
    "From the scatterplot above, the ingredient 3- B,S*,Sa has the lowest overall mean rating and the ingredients 3- B,S,C and 2-B,S have the highest ratings within the dataset."
   ]
  },
  {
   "cell_type": "markdown",
   "id": "b76df049-fdc3-49f0-99d8-8a6a10bc02b7",
   "metadata": {},
   "source": [
    "Now, using the plot of the ingredients and ratings, we look at the ingredients of the top three and bottom three rated company locations to observe wheher low ratings may have some of the the low rated ingredients among all the companies and vice versa for the high rated locations."
   ]
  },
  {
   "cell_type": "markdown",
   "id": "9f6d21d4-107d-4f5c-a55a-de52c06401a7",
   "metadata": {},
   "source": [
    "The two datasets below show all the ingredients for each of the six location within the dataset. The first shows the highest rated locations and the second, the lowest rated ingredients."
   ]
  },
  {
   "cell_type": "code",
   "execution_count": 6,
   "id": "9494075d-b152-4943-9585-95817d9eac3d",
   "metadata": {
    "jupyter": {
     "source_hidden": true
    }
   },
   "outputs": [
    {
     "ename": "FileNotFoundError",
     "evalue": "[Errno 2] No such file or directory: 'tables/Three_companies_with_highest_average rating.csv'",
     "output_type": "error",
     "traceback": [
      "\u001b[0;31m---------------------------------------------------------------------------\u001b[0m",
      "\u001b[0;31mFileNotFoundError\u001b[0m                         Traceback (most recent call last)",
      "Input \u001b[0;32mIn [6]\u001b[0m, in \u001b[0;36m<module>\u001b[0;34m\u001b[0m\n\u001b[0;32m----> 1\u001b[0m max_comp \u001b[38;5;241m=\u001b[39m \u001b[43mpd\u001b[49m\u001b[38;5;241;43m.\u001b[39;49m\u001b[43mread_csv\u001b[49m\u001b[43m(\u001b[49m\u001b[38;5;124;43m'\u001b[39;49m\u001b[38;5;124;43mtables/Three_companies_with_highest_average rating.csv\u001b[39;49m\u001b[38;5;124;43m'\u001b[39;49m\u001b[43m)\u001b[49m\n\u001b[1;32m      2\u001b[0m max_comp\n",
      "File \u001b[0;32m~/envs/stat159-s22/lib/python3.9/site-packages/pandas/util/_decorators.py:311\u001b[0m, in \u001b[0;36mdeprecate_nonkeyword_arguments.<locals>.decorate.<locals>.wrapper\u001b[0;34m(*args, **kwargs)\u001b[0m\n\u001b[1;32m    305\u001b[0m \u001b[38;5;28;01mif\u001b[39;00m \u001b[38;5;28mlen\u001b[39m(args) \u001b[38;5;241m>\u001b[39m num_allow_args:\n\u001b[1;32m    306\u001b[0m     warnings\u001b[38;5;241m.\u001b[39mwarn(\n\u001b[1;32m    307\u001b[0m         msg\u001b[38;5;241m.\u001b[39mformat(arguments\u001b[38;5;241m=\u001b[39marguments),\n\u001b[1;32m    308\u001b[0m         \u001b[38;5;167;01mFutureWarning\u001b[39;00m,\n\u001b[1;32m    309\u001b[0m         stacklevel\u001b[38;5;241m=\u001b[39mstacklevel,\n\u001b[1;32m    310\u001b[0m     )\n\u001b[0;32m--> 311\u001b[0m \u001b[38;5;28;01mreturn\u001b[39;00m \u001b[43mfunc\u001b[49m\u001b[43m(\u001b[49m\u001b[38;5;241;43m*\u001b[39;49m\u001b[43margs\u001b[49m\u001b[43m,\u001b[49m\u001b[43m \u001b[49m\u001b[38;5;241;43m*\u001b[39;49m\u001b[38;5;241;43m*\u001b[39;49m\u001b[43mkwargs\u001b[49m\u001b[43m)\u001b[49m\n",
      "File \u001b[0;32m~/envs/stat159-s22/lib/python3.9/site-packages/pandas/io/parsers/readers.py:586\u001b[0m, in \u001b[0;36mread_csv\u001b[0;34m(filepath_or_buffer, sep, delimiter, header, names, index_col, usecols, squeeze, prefix, mangle_dupe_cols, dtype, engine, converters, true_values, false_values, skipinitialspace, skiprows, skipfooter, nrows, na_values, keep_default_na, na_filter, verbose, skip_blank_lines, parse_dates, infer_datetime_format, keep_date_col, date_parser, dayfirst, cache_dates, iterator, chunksize, compression, thousands, decimal, lineterminator, quotechar, quoting, doublequote, escapechar, comment, encoding, encoding_errors, dialect, error_bad_lines, warn_bad_lines, on_bad_lines, delim_whitespace, low_memory, memory_map, float_precision, storage_options)\u001b[0m\n\u001b[1;32m    571\u001b[0m kwds_defaults \u001b[38;5;241m=\u001b[39m _refine_defaults_read(\n\u001b[1;32m    572\u001b[0m     dialect,\n\u001b[1;32m    573\u001b[0m     delimiter,\n\u001b[0;32m   (...)\u001b[0m\n\u001b[1;32m    582\u001b[0m     defaults\u001b[38;5;241m=\u001b[39m{\u001b[38;5;124m\"\u001b[39m\u001b[38;5;124mdelimiter\u001b[39m\u001b[38;5;124m\"\u001b[39m: \u001b[38;5;124m\"\u001b[39m\u001b[38;5;124m,\u001b[39m\u001b[38;5;124m\"\u001b[39m},\n\u001b[1;32m    583\u001b[0m )\n\u001b[1;32m    584\u001b[0m kwds\u001b[38;5;241m.\u001b[39mupdate(kwds_defaults)\n\u001b[0;32m--> 586\u001b[0m \u001b[38;5;28;01mreturn\u001b[39;00m \u001b[43m_read\u001b[49m\u001b[43m(\u001b[49m\u001b[43mfilepath_or_buffer\u001b[49m\u001b[43m,\u001b[49m\u001b[43m \u001b[49m\u001b[43mkwds\u001b[49m\u001b[43m)\u001b[49m\n",
      "File \u001b[0;32m~/envs/stat159-s22/lib/python3.9/site-packages/pandas/io/parsers/readers.py:482\u001b[0m, in \u001b[0;36m_read\u001b[0;34m(filepath_or_buffer, kwds)\u001b[0m\n\u001b[1;32m    479\u001b[0m _validate_names(kwds\u001b[38;5;241m.\u001b[39mget(\u001b[38;5;124m\"\u001b[39m\u001b[38;5;124mnames\u001b[39m\u001b[38;5;124m\"\u001b[39m, \u001b[38;5;28;01mNone\u001b[39;00m))\n\u001b[1;32m    481\u001b[0m \u001b[38;5;66;03m# Create the parser.\u001b[39;00m\n\u001b[0;32m--> 482\u001b[0m parser \u001b[38;5;241m=\u001b[39m \u001b[43mTextFileReader\u001b[49m\u001b[43m(\u001b[49m\u001b[43mfilepath_or_buffer\u001b[49m\u001b[43m,\u001b[49m\u001b[43m \u001b[49m\u001b[38;5;241;43m*\u001b[39;49m\u001b[38;5;241;43m*\u001b[39;49m\u001b[43mkwds\u001b[49m\u001b[43m)\u001b[49m\n\u001b[1;32m    484\u001b[0m \u001b[38;5;28;01mif\u001b[39;00m chunksize \u001b[38;5;129;01mor\u001b[39;00m iterator:\n\u001b[1;32m    485\u001b[0m     \u001b[38;5;28;01mreturn\u001b[39;00m parser\n",
      "File \u001b[0;32m~/envs/stat159-s22/lib/python3.9/site-packages/pandas/io/parsers/readers.py:811\u001b[0m, in \u001b[0;36mTextFileReader.__init__\u001b[0;34m(self, f, engine, **kwds)\u001b[0m\n\u001b[1;32m    808\u001b[0m \u001b[38;5;28;01mif\u001b[39;00m \u001b[38;5;124m\"\u001b[39m\u001b[38;5;124mhas_index_names\u001b[39m\u001b[38;5;124m\"\u001b[39m \u001b[38;5;129;01min\u001b[39;00m kwds:\n\u001b[1;32m    809\u001b[0m     \u001b[38;5;28mself\u001b[39m\u001b[38;5;241m.\u001b[39moptions[\u001b[38;5;124m\"\u001b[39m\u001b[38;5;124mhas_index_names\u001b[39m\u001b[38;5;124m\"\u001b[39m] \u001b[38;5;241m=\u001b[39m kwds[\u001b[38;5;124m\"\u001b[39m\u001b[38;5;124mhas_index_names\u001b[39m\u001b[38;5;124m\"\u001b[39m]\n\u001b[0;32m--> 811\u001b[0m \u001b[38;5;28mself\u001b[39m\u001b[38;5;241m.\u001b[39m_engine \u001b[38;5;241m=\u001b[39m \u001b[38;5;28;43mself\u001b[39;49m\u001b[38;5;241;43m.\u001b[39;49m\u001b[43m_make_engine\u001b[49m\u001b[43m(\u001b[49m\u001b[38;5;28;43mself\u001b[39;49m\u001b[38;5;241;43m.\u001b[39;49m\u001b[43mengine\u001b[49m\u001b[43m)\u001b[49m\n",
      "File \u001b[0;32m~/envs/stat159-s22/lib/python3.9/site-packages/pandas/io/parsers/readers.py:1040\u001b[0m, in \u001b[0;36mTextFileReader._make_engine\u001b[0;34m(self, engine)\u001b[0m\n\u001b[1;32m   1036\u001b[0m     \u001b[38;5;28;01mraise\u001b[39;00m \u001b[38;5;167;01mValueError\u001b[39;00m(\n\u001b[1;32m   1037\u001b[0m         \u001b[38;5;124mf\u001b[39m\u001b[38;5;124m\"\u001b[39m\u001b[38;5;124mUnknown engine: \u001b[39m\u001b[38;5;132;01m{\u001b[39;00mengine\u001b[38;5;132;01m}\u001b[39;00m\u001b[38;5;124m (valid options are \u001b[39m\u001b[38;5;132;01m{\u001b[39;00mmapping\u001b[38;5;241m.\u001b[39mkeys()\u001b[38;5;132;01m}\u001b[39;00m\u001b[38;5;124m)\u001b[39m\u001b[38;5;124m\"\u001b[39m\n\u001b[1;32m   1038\u001b[0m     )\n\u001b[1;32m   1039\u001b[0m \u001b[38;5;66;03m# error: Too many arguments for \"ParserBase\"\u001b[39;00m\n\u001b[0;32m-> 1040\u001b[0m \u001b[38;5;28;01mreturn\u001b[39;00m \u001b[43mmapping\u001b[49m\u001b[43m[\u001b[49m\u001b[43mengine\u001b[49m\u001b[43m]\u001b[49m\u001b[43m(\u001b[49m\u001b[38;5;28;43mself\u001b[39;49m\u001b[38;5;241;43m.\u001b[39;49m\u001b[43mf\u001b[49m\u001b[43m,\u001b[49m\u001b[43m \u001b[49m\u001b[38;5;241;43m*\u001b[39;49m\u001b[38;5;241;43m*\u001b[39;49m\u001b[38;5;28;43mself\u001b[39;49m\u001b[38;5;241;43m.\u001b[39;49m\u001b[43moptions\u001b[49m\u001b[43m)\u001b[49m\n",
      "File \u001b[0;32m~/envs/stat159-s22/lib/python3.9/site-packages/pandas/io/parsers/c_parser_wrapper.py:51\u001b[0m, in \u001b[0;36mCParserWrapper.__init__\u001b[0;34m(self, src, **kwds)\u001b[0m\n\u001b[1;32m     48\u001b[0m kwds[\u001b[38;5;124m\"\u001b[39m\u001b[38;5;124musecols\u001b[39m\u001b[38;5;124m\"\u001b[39m] \u001b[38;5;241m=\u001b[39m \u001b[38;5;28mself\u001b[39m\u001b[38;5;241m.\u001b[39musecols\n\u001b[1;32m     50\u001b[0m \u001b[38;5;66;03m# open handles\u001b[39;00m\n\u001b[0;32m---> 51\u001b[0m \u001b[38;5;28;43mself\u001b[39;49m\u001b[38;5;241;43m.\u001b[39;49m\u001b[43m_open_handles\u001b[49m\u001b[43m(\u001b[49m\u001b[43msrc\u001b[49m\u001b[43m,\u001b[49m\u001b[43m \u001b[49m\u001b[43mkwds\u001b[49m\u001b[43m)\u001b[49m\n\u001b[1;32m     52\u001b[0m \u001b[38;5;28;01massert\u001b[39;00m \u001b[38;5;28mself\u001b[39m\u001b[38;5;241m.\u001b[39mhandles \u001b[38;5;129;01mis\u001b[39;00m \u001b[38;5;129;01mnot\u001b[39;00m \u001b[38;5;28;01mNone\u001b[39;00m\n\u001b[1;32m     54\u001b[0m \u001b[38;5;66;03m# Have to pass int, would break tests using TextReader directly otherwise :(\u001b[39;00m\n",
      "File \u001b[0;32m~/envs/stat159-s22/lib/python3.9/site-packages/pandas/io/parsers/base_parser.py:222\u001b[0m, in \u001b[0;36mParserBase._open_handles\u001b[0;34m(self, src, kwds)\u001b[0m\n\u001b[1;32m    218\u001b[0m \u001b[38;5;28;01mdef\u001b[39;00m \u001b[38;5;21m_open_handles\u001b[39m(\u001b[38;5;28mself\u001b[39m, src: FilePathOrBuffer, kwds: \u001b[38;5;28mdict\u001b[39m[\u001b[38;5;28mstr\u001b[39m, Any]) \u001b[38;5;241m-\u001b[39m\u001b[38;5;241m>\u001b[39m \u001b[38;5;28;01mNone\u001b[39;00m:\n\u001b[1;32m    219\u001b[0m     \u001b[38;5;124;03m\"\"\"\u001b[39;00m\n\u001b[1;32m    220\u001b[0m \u001b[38;5;124;03m    Let the readers open IOHandles after they are done with their potential raises.\u001b[39;00m\n\u001b[1;32m    221\u001b[0m \u001b[38;5;124;03m    \"\"\"\u001b[39;00m\n\u001b[0;32m--> 222\u001b[0m     \u001b[38;5;28mself\u001b[39m\u001b[38;5;241m.\u001b[39mhandles \u001b[38;5;241m=\u001b[39m \u001b[43mget_handle\u001b[49m\u001b[43m(\u001b[49m\n\u001b[1;32m    223\u001b[0m \u001b[43m        \u001b[49m\u001b[43msrc\u001b[49m\u001b[43m,\u001b[49m\n\u001b[1;32m    224\u001b[0m \u001b[43m        \u001b[49m\u001b[38;5;124;43m\"\u001b[39;49m\u001b[38;5;124;43mr\u001b[39;49m\u001b[38;5;124;43m\"\u001b[39;49m\u001b[43m,\u001b[49m\n\u001b[1;32m    225\u001b[0m \u001b[43m        \u001b[49m\u001b[43mencoding\u001b[49m\u001b[38;5;241;43m=\u001b[39;49m\u001b[43mkwds\u001b[49m\u001b[38;5;241;43m.\u001b[39;49m\u001b[43mget\u001b[49m\u001b[43m(\u001b[49m\u001b[38;5;124;43m\"\u001b[39;49m\u001b[38;5;124;43mencoding\u001b[39;49m\u001b[38;5;124;43m\"\u001b[39;49m\u001b[43m,\u001b[49m\u001b[43m \u001b[49m\u001b[38;5;28;43;01mNone\u001b[39;49;00m\u001b[43m)\u001b[49m\u001b[43m,\u001b[49m\n\u001b[1;32m    226\u001b[0m \u001b[43m        \u001b[49m\u001b[43mcompression\u001b[49m\u001b[38;5;241;43m=\u001b[39;49m\u001b[43mkwds\u001b[49m\u001b[38;5;241;43m.\u001b[39;49m\u001b[43mget\u001b[49m\u001b[43m(\u001b[49m\u001b[38;5;124;43m\"\u001b[39;49m\u001b[38;5;124;43mcompression\u001b[39;49m\u001b[38;5;124;43m\"\u001b[39;49m\u001b[43m,\u001b[49m\u001b[43m \u001b[49m\u001b[38;5;28;43;01mNone\u001b[39;49;00m\u001b[43m)\u001b[49m\u001b[43m,\u001b[49m\n\u001b[1;32m    227\u001b[0m \u001b[43m        \u001b[49m\u001b[43mmemory_map\u001b[49m\u001b[38;5;241;43m=\u001b[39;49m\u001b[43mkwds\u001b[49m\u001b[38;5;241;43m.\u001b[39;49m\u001b[43mget\u001b[49m\u001b[43m(\u001b[49m\u001b[38;5;124;43m\"\u001b[39;49m\u001b[38;5;124;43mmemory_map\u001b[39;49m\u001b[38;5;124;43m\"\u001b[39;49m\u001b[43m,\u001b[49m\u001b[43m \u001b[49m\u001b[38;5;28;43;01mFalse\u001b[39;49;00m\u001b[43m)\u001b[49m\u001b[43m,\u001b[49m\n\u001b[1;32m    228\u001b[0m \u001b[43m        \u001b[49m\u001b[43mstorage_options\u001b[49m\u001b[38;5;241;43m=\u001b[39;49m\u001b[43mkwds\u001b[49m\u001b[38;5;241;43m.\u001b[39;49m\u001b[43mget\u001b[49m\u001b[43m(\u001b[49m\u001b[38;5;124;43m\"\u001b[39;49m\u001b[38;5;124;43mstorage_options\u001b[39;49m\u001b[38;5;124;43m\"\u001b[39;49m\u001b[43m,\u001b[49m\u001b[43m \u001b[49m\u001b[38;5;28;43;01mNone\u001b[39;49;00m\u001b[43m)\u001b[49m\u001b[43m,\u001b[49m\n\u001b[1;32m    229\u001b[0m \u001b[43m        \u001b[49m\u001b[43merrors\u001b[49m\u001b[38;5;241;43m=\u001b[39;49m\u001b[43mkwds\u001b[49m\u001b[38;5;241;43m.\u001b[39;49m\u001b[43mget\u001b[49m\u001b[43m(\u001b[49m\u001b[38;5;124;43m\"\u001b[39;49m\u001b[38;5;124;43mencoding_errors\u001b[39;49m\u001b[38;5;124;43m\"\u001b[39;49m\u001b[43m,\u001b[49m\u001b[43m \u001b[49m\u001b[38;5;124;43m\"\u001b[39;49m\u001b[38;5;124;43mstrict\u001b[39;49m\u001b[38;5;124;43m\"\u001b[39;49m\u001b[43m)\u001b[49m\u001b[43m,\u001b[49m\n\u001b[1;32m    230\u001b[0m \u001b[43m    \u001b[49m\u001b[43m)\u001b[49m\n",
      "File \u001b[0;32m~/envs/stat159-s22/lib/python3.9/site-packages/pandas/io/common.py:702\u001b[0m, in \u001b[0;36mget_handle\u001b[0;34m(path_or_buf, mode, encoding, compression, memory_map, is_text, errors, storage_options)\u001b[0m\n\u001b[1;32m    697\u001b[0m \u001b[38;5;28;01melif\u001b[39;00m \u001b[38;5;28misinstance\u001b[39m(handle, \u001b[38;5;28mstr\u001b[39m):\n\u001b[1;32m    698\u001b[0m     \u001b[38;5;66;03m# Check whether the filename is to be opened in binary mode.\u001b[39;00m\n\u001b[1;32m    699\u001b[0m     \u001b[38;5;66;03m# Binary mode does not support 'encoding' and 'newline'.\u001b[39;00m\n\u001b[1;32m    700\u001b[0m     \u001b[38;5;28;01mif\u001b[39;00m ioargs\u001b[38;5;241m.\u001b[39mencoding \u001b[38;5;129;01mand\u001b[39;00m \u001b[38;5;124m\"\u001b[39m\u001b[38;5;124mb\u001b[39m\u001b[38;5;124m\"\u001b[39m \u001b[38;5;129;01mnot\u001b[39;00m \u001b[38;5;129;01min\u001b[39;00m ioargs\u001b[38;5;241m.\u001b[39mmode:\n\u001b[1;32m    701\u001b[0m         \u001b[38;5;66;03m# Encoding\u001b[39;00m\n\u001b[0;32m--> 702\u001b[0m         handle \u001b[38;5;241m=\u001b[39m \u001b[38;5;28;43mopen\u001b[39;49m\u001b[43m(\u001b[49m\n\u001b[1;32m    703\u001b[0m \u001b[43m            \u001b[49m\u001b[43mhandle\u001b[49m\u001b[43m,\u001b[49m\n\u001b[1;32m    704\u001b[0m \u001b[43m            \u001b[49m\u001b[43mioargs\u001b[49m\u001b[38;5;241;43m.\u001b[39;49m\u001b[43mmode\u001b[49m\u001b[43m,\u001b[49m\n\u001b[1;32m    705\u001b[0m \u001b[43m            \u001b[49m\u001b[43mencoding\u001b[49m\u001b[38;5;241;43m=\u001b[39;49m\u001b[43mioargs\u001b[49m\u001b[38;5;241;43m.\u001b[39;49m\u001b[43mencoding\u001b[49m\u001b[43m,\u001b[49m\n\u001b[1;32m    706\u001b[0m \u001b[43m            \u001b[49m\u001b[43merrors\u001b[49m\u001b[38;5;241;43m=\u001b[39;49m\u001b[43merrors\u001b[49m\u001b[43m,\u001b[49m\n\u001b[1;32m    707\u001b[0m \u001b[43m            \u001b[49m\u001b[43mnewline\u001b[49m\u001b[38;5;241;43m=\u001b[39;49m\u001b[38;5;124;43m\"\u001b[39;49m\u001b[38;5;124;43m\"\u001b[39;49m\u001b[43m,\u001b[49m\n\u001b[1;32m    708\u001b[0m \u001b[43m        \u001b[49m\u001b[43m)\u001b[49m\n\u001b[1;32m    709\u001b[0m     \u001b[38;5;28;01melse\u001b[39;00m:\n\u001b[1;32m    710\u001b[0m         \u001b[38;5;66;03m# Binary mode\u001b[39;00m\n\u001b[1;32m    711\u001b[0m         handle \u001b[38;5;241m=\u001b[39m \u001b[38;5;28mopen\u001b[39m(handle, ioargs\u001b[38;5;241m.\u001b[39mmode)\n",
      "\u001b[0;31mFileNotFoundError\u001b[0m: [Errno 2] No such file or directory: 'tables/Three_companies_with_highest_average rating.csv'"
     ]
    }
   ],
   "source": [
    "max_comp = pd.read_csv('tables/Three_companies_with_highest_average rating.csv')\n",
    "max_comp"
   ]
  },
  {
   "cell_type": "code",
   "execution_count": null,
   "id": "c64fb430-72fe-44ef-9231-896d122e5250",
   "metadata": {
    "jupyter": {
     "source_hidden": true
    }
   },
   "outputs": [],
   "source": [
    "min_comp = pd.read_csv('tables/Three_companies_with_lowest_average rating.csv')\n",
    "min_comp"
   ]
  },
  {
   "cell_type": "markdown",
   "id": "8e6c8f9a-9504-4606-b5e7-4e401a9d81e6",
   "metadata": {},
   "source": [
    "From the overall analysis of both the company locations and ingredients above, the top three rated company locations have the highest overall rated ingredients  which is 2-B,S and 3-B,S,C. However, the lowest rated companies does not contain the lowest rated ingredients amongst the companies but rather some the ingredients from the ebst rated companies. The ingredients for these three locations are Nan values and 2-B,C ingredients. The low ratings of these company locations may be linked to another feature/characteristic in the dataset than can be examined through further analysis. "
   ]
  },
  {
   "cell_type": "markdown",
   "id": "f957e6d7-5f8b-488a-8b38-f0813420386d",
   "metadata": {},
   "source": [
    "To build upon the exploratory analysis of the ingredients and average ratings, we look at how the average ratings has changed over time in addition to the majority ingredient used within that year. From this, we can observe any relationships between any decrease or increases in the average ratings and the ingredients used. At each point on the scatterplot, there is the name of the ingredient that was used the most in the year."
   ]
  },
  {
   "cell_type": "code",
   "execution_count": null,
   "id": "497d1bbe-b18d-43a4-aa81-1905ff86db1c",
   "metadata": {
    "tags": []
   },
   "outputs": [],
   "source": [
    "Image('figures/Ingredients_MeanRatings_Year.jpg')"
   ]
  },
  {
   "cell_type": "code",
   "execution_count": null,
   "id": "688502cb-070b-4270-91f3-923c5bb6e84c",
   "metadata": {
    "jupyter": {
     "source_hidden": true
    }
   },
   "outputs": [],
   "source": []
  },
  {
   "cell_type": "markdown",
   "id": "67233cbf-d3fd-45db-876c-ac305a4af1bb",
   "metadata": {},
   "source": [
    "From the figure above, there was an overall increase in the average rating in 2011. Some of the ingredients that were used in the company with the best ratings  (2-B,S) were the majority ingredients used in many of the years. Throughout each year, the majority ingredients used was 2- B,S with some years having a mafority of 2-B,C  and 1,B. There was no indication of a change within the ingredients used when there was an overall increase in the average ratings. Since the ingredients does not provide signficant information/relationships for the high and low ratings in the plots then there may be other characteristics in the dataset so can be linked to the ratings shown in the dataset"
   ]
  },
  {
   "cell_type": "markdown",
   "id": "f3942d42-cb29-4add-8467-61d4e60740ba",
   "metadata": {},
   "source": [
    "# **Analyzing 5 most frequent words in Most Memorable Characteristics and Cocoa Percent by review interval**"
   ]
  },
  {
   "cell_type": "markdown",
   "id": "363c6c7a-be26-49d3-8159-c7d799db1d91",
   "metadata": {},
   "source": [
    "First, we will focus on 'Most Memorable Characteristics' feature and find out the 5 most frequent words in this feature by review interval 1-2 and 4-5. "
   ]
  },
  {
   "cell_type": "code",
   "execution_count": null,
   "id": "7a17a627-abe7-49c5-92cf-7f0e78f0127c",
   "metadata": {},
   "outputs": [],
   "source": [
    "Image('figures/five most freqeunt words in 1-2 & 4-5 review rating.png')"
   ]
  },
  {
   "cell_type": "markdown",
   "id": "f120c43c-7842-4b44-9b25-91bc922c6c3c",
   "metadata": {},
   "source": [
    "Through the bar plot above, we can see that the frequent words for review rating 1-2 and the frequent words for 4-5 are clearly different. When review rating is 1-2, 'bitter' is most frequent, and in the case of 'very', it is a word that comes before 'bitter' or 'strong', so it can be seen that review rating is not good if it has a particularly strong taste. When the review rating is 4-5, it can be seen that 'creamy', 'cocoa', and 'nutty' are the most popular chocolate flavors.\n",
    "\n",
    "Second, we will see how different the cocoa percent by review interval."
   ]
  },
  {
   "cell_type": "code",
   "execution_count": null,
   "id": "4b3069ab-ff98-46c7-9638-a9757fffead6",
   "metadata": {},
   "outputs": [],
   "source": [
    "Image('figures/Box plot for Cocoa Percent by review interval.png')"
   ]
  },
  {
   "cell_type": "markdown",
   "id": "d9d9f4d0-59ea-451e-bfc7-0ee4b493b90d",
   "metadata": {},
   "source": [
    "Through the side by side box plot, it can be seen that the higher the review score, the lower the cocoa percent. In particular, in the section with a review score of 1-2, the mode of the cocoa percent is 100%, but in the review score of 4-5, it can be seen that most of them are distributed between 70%. Therefore, 70% of cocoa percent is the most appropriate, and excessive cocoa such as 100% cocoa percent has a negative effect on the review score."
   ]
  },
  {
   "cell_type": "markdown",
   "id": "80962a2c-88c3-496d-a2fa-dac1e76de0fe",
   "metadata": {},
   "source": [
    "# **Analyzing memorable characteristics of high and and low rated chocolate bars with a regression analysis**"
   ]
  },
  {
   "cell_type": "markdown",
   "id": "84ad2e32-cede-4f68-83f5-eff4d7a24361",
   "metadata": {},
   "source": [
    "We use a regression analysis to determine memorable characteristics that have significant influence on ratings. For example, does 'bitter' have a positive or negative relationship with rating? What about 'creamy'? Which memorable characteristics have the most statistically significant effect, and which have the largest effect?\n",
    "\n",
    "Memorable characteristics of a bar are terms generally relating to anything from texture, flavor, overall opinion, etc.\n",
    "\n",
    "To do this we create an input X data frame with all of the dummies for each characteristic, so in other words it has a feature for each unique memorable characteristics, of which there are 734. For each row, if that bar had that characteristic, there is a 1, else there is a 0. We then fit a standard OLS model where this is the input, and the outcome variable is rating, which is continuous. \n",
    "\n",
    "We then take the model outputs and put them into a data frame for easy filtering and manipulation. Specifically, we want to see which memorable characteristics are most statistically significant, and we want to look at memorable characteristics that had a negative effect and also separately ones that had a positive effect. We filter accordingly, which a lower threshold for negative effects because there were more statistically significant coefficients here.\n",
    "\n",
    "The results of this analysis are shown below."
   ]
  },
  {
   "cell_type": "code",
   "execution_count": 2,
   "id": "70038eec-52b6-4d53-93f3-7a2a4bae5eb0",
   "metadata": {},
   "outputs": [
    {
     "data": {
      "text/html": [
       "<div>\n",
       "<style scoped>\n",
       "    .dataframe tbody tr th:only-of-type {\n",
       "        vertical-align: middle;\n",
       "    }\n",
       "\n",
       "    .dataframe tbody tr th {\n",
       "        vertical-align: top;\n",
       "    }\n",
       "\n",
       "    .dataframe thead th {\n",
       "        text-align: right;\n",
       "    }\n",
       "</style>\n",
       "<table border=\"1\" class=\"dataframe\">\n",
       "  <thead>\n",
       "    <tr style=\"text-align: right;\">\n",
       "      <th></th>\n",
       "      <th>Unnamed: 0</th>\n",
       "      <th>p-value</th>\n",
       "      <th>coef</th>\n",
       "      <th>name</th>\n",
       "    </tr>\n",
       "  </thead>\n",
       "  <tbody>\n",
       "    <tr>\n",
       "      <th>0</th>\n",
       "      <td>23</td>\n",
       "      <td>8.718429e-03</td>\n",
       "      <td>0.234444</td>\n",
       "      <td>balanced</td>\n",
       "    </tr>\n",
       "    <tr>\n",
       "      <th>1</th>\n",
       "      <td>38</td>\n",
       "      <td>2.504779e-03</td>\n",
       "      <td>0.868794</td>\n",
       "      <td>black current</td>\n",
       "    </tr>\n",
       "    <tr>\n",
       "      <th>2</th>\n",
       "      <td>43</td>\n",
       "      <td>5.182544e-04</td>\n",
       "      <td>0.420081</td>\n",
       "      <td>blackberry</td>\n",
       "    </tr>\n",
       "    <tr>\n",
       "      <th>3</th>\n",
       "      <td>47</td>\n",
       "      <td>1.547497e-02</td>\n",
       "      <td>0.970770</td>\n",
       "      <td>blueberries</td>\n",
       "    </tr>\n",
       "    <tr>\n",
       "      <th>4</th>\n",
       "      <td>59</td>\n",
       "      <td>3.637186e-02</td>\n",
       "      <td>0.206921</td>\n",
       "      <td>bright fruit</td>\n",
       "    </tr>\n",
       "    <tr>\n",
       "      <th>5</th>\n",
       "      <td>70</td>\n",
       "      <td>1.872272e-02</td>\n",
       "      <td>0.714407</td>\n",
       "      <td>burnt brownie</td>\n",
       "    </tr>\n",
       "    <tr>\n",
       "      <th>6</th>\n",
       "      <td>97</td>\n",
       "      <td>2.626219e-02</td>\n",
       "      <td>0.464276</td>\n",
       "      <td>cardamom</td>\n",
       "    </tr>\n",
       "    <tr>\n",
       "      <th>7</th>\n",
       "      <td>98</td>\n",
       "      <td>1.070548e-02</td>\n",
       "      <td>0.714730</td>\n",
       "      <td>cardamon</td>\n",
       "    </tr>\n",
       "    <tr>\n",
       "      <th>8</th>\n",
       "      <td>120</td>\n",
       "      <td>1.070548e-02</td>\n",
       "      <td>0.714730</td>\n",
       "      <td>chocolate and grapes</td>\n",
       "    </tr>\n",
       "    <tr>\n",
       "      <th>9</th>\n",
       "      <td>128</td>\n",
       "      <td>4.846590e-02</td>\n",
       "      <td>0.365115</td>\n",
       "      <td>cinamon</td>\n",
       "    </tr>\n",
       "    <tr>\n",
       "      <th>10</th>\n",
       "      <td>129</td>\n",
       "      <td>1.070548e-02</td>\n",
       "      <td>0.714730</td>\n",
       "      <td>cinamon and nutmeg</td>\n",
       "    </tr>\n",
       "    <tr>\n",
       "      <th>11</th>\n",
       "      <td>148</td>\n",
       "      <td>3.400155e-03</td>\n",
       "      <td>0.197708</td>\n",
       "      <td>complex</td>\n",
       "    </tr>\n",
       "    <tr>\n",
       "      <th>12</th>\n",
       "      <td>154</td>\n",
       "      <td>2.146852e-11</td>\n",
       "      <td>0.257082</td>\n",
       "      <td>creamy</td>\n",
       "    </tr>\n",
       "    <tr>\n",
       "      <th>13</th>\n",
       "      <td>160</td>\n",
       "      <td>5.004582e-03</td>\n",
       "      <td>0.255169</td>\n",
       "      <td>dark berry</td>\n",
       "    </tr>\n",
       "    <tr>\n",
       "      <th>14</th>\n",
       "      <td>169</td>\n",
       "      <td>6.809833e-03</td>\n",
       "      <td>0.405977</td>\n",
       "      <td>deep cocoa</td>\n",
       "    </tr>\n",
       "    <tr>\n",
       "      <th>15</th>\n",
       "      <td>178</td>\n",
       "      <td>1.070548e-02</td>\n",
       "      <td>0.714730</td>\n",
       "      <td>distinct choco and graham</td>\n",
       "    </tr>\n",
       "    <tr>\n",
       "      <th>16</th>\n",
       "      <td>191</td>\n",
       "      <td>4.160048e-03</td>\n",
       "      <td>0.152537</td>\n",
       "      <td>dried fruit</td>\n",
       "    </tr>\n",
       "    <tr>\n",
       "      <th>17</th>\n",
       "      <td>220</td>\n",
       "      <td>3.595295e-02</td>\n",
       "      <td>0.820436</td>\n",
       "      <td>floral notes</td>\n",
       "    </tr>\n",
       "    <tr>\n",
       "      <th>18</th>\n",
       "      <td>223</td>\n",
       "      <td>4.560791e-02</td>\n",
       "      <td>0.327522</td>\n",
       "      <td>fragrant</td>\n",
       "    </tr>\n",
       "    <tr>\n",
       "      <th>19</th>\n",
       "      <td>227</td>\n",
       "      <td>2.792496e-02</td>\n",
       "      <td>0.124437</td>\n",
       "      <td>fruity</td>\n",
       "    </tr>\n",
       "    <tr>\n",
       "      <th>20</th>\n",
       "      <td>243</td>\n",
       "      <td>8.558470e-03</td>\n",
       "      <td>0.287574</td>\n",
       "      <td>grape</td>\n",
       "    </tr>\n",
       "    <tr>\n",
       "      <th>21</th>\n",
       "      <td>245</td>\n",
       "      <td>2.588792e-03</td>\n",
       "      <td>0.270083</td>\n",
       "      <td>grapes</td>\n",
       "    </tr>\n",
       "    <tr>\n",
       "      <th>22</th>\n",
       "      <td>246</td>\n",
       "      <td>1.070548e-02</td>\n",
       "      <td>0.714730</td>\n",
       "      <td>grapes and honey</td>\n",
       "    </tr>\n",
       "    <tr>\n",
       "      <th>23</th>\n",
       "      <td>270</td>\n",
       "      <td>3.734749e-02</td>\n",
       "      <td>0.881848</td>\n",
       "      <td>herb</td>\n",
       "    </tr>\n",
       "    <tr>\n",
       "      <th>24</th>\n",
       "      <td>417</td>\n",
       "      <td>2.014484e-02</td>\n",
       "      <td>0.496485</td>\n",
       "      <td>minty</td>\n",
       "    </tr>\n",
       "    <tr>\n",
       "      <th>25</th>\n",
       "      <td>442</td>\n",
       "      <td>1.489172e-02</td>\n",
       "      <td>0.082402</td>\n",
       "      <td>nutty</td>\n",
       "    </tr>\n",
       "    <tr>\n",
       "      <th>26</th>\n",
       "      <td>459</td>\n",
       "      <td>1.420627e-02</td>\n",
       "      <td>0.276283</td>\n",
       "      <td>orange</td>\n",
       "    </tr>\n",
       "    <tr>\n",
       "      <th>27</th>\n",
       "      <td>478</td>\n",
       "      <td>4.281970e-02</td>\n",
       "      <td>0.580286</td>\n",
       "      <td>perfectly balanced roast</td>\n",
       "    </tr>\n",
       "    <tr>\n",
       "      <th>28</th>\n",
       "      <td>490</td>\n",
       "      <td>2.549479e-02</td>\n",
       "      <td>0.301897</td>\n",
       "      <td>powerful</td>\n",
       "    </tr>\n",
       "    <tr>\n",
       "      <th>29</th>\n",
       "      <td>492</td>\n",
       "      <td>7.055627e-03</td>\n",
       "      <td>0.817497</td>\n",
       "      <td>pronounced berry</td>\n",
       "    </tr>\n",
       "    <tr>\n",
       "      <th>30</th>\n",
       "      <td>505</td>\n",
       "      <td>2.486862e-02</td>\n",
       "      <td>0.636411</td>\n",
       "      <td>raspberries</td>\n",
       "    </tr>\n",
       "    <tr>\n",
       "      <th>31</th>\n",
       "      <td>506</td>\n",
       "      <td>8.492680e-05</td>\n",
       "      <td>0.484032</td>\n",
       "      <td>raspberry</td>\n",
       "    </tr>\n",
       "    <tr>\n",
       "      <th>32</th>\n",
       "      <td>511</td>\n",
       "      <td>1.798646e-02</td>\n",
       "      <td>0.120152</td>\n",
       "      <td>rich</td>\n",
       "    </tr>\n",
       "    <tr>\n",
       "      <th>33</th>\n",
       "      <td>515</td>\n",
       "      <td>3.758406e-02</td>\n",
       "      <td>0.320306</td>\n",
       "      <td>rich choco</td>\n",
       "    </tr>\n",
       "    <tr>\n",
       "      <th>34</th>\n",
       "      <td>587</td>\n",
       "      <td>4.080658e-02</td>\n",
       "      <td>0.138674</td>\n",
       "      <td>smoke</td>\n",
       "    </tr>\n",
       "    <tr>\n",
       "      <th>35</th>\n",
       "      <td>592</td>\n",
       "      <td>2.581436e-02</td>\n",
       "      <td>0.177159</td>\n",
       "      <td>smooth</td>\n",
       "    </tr>\n",
       "    <tr>\n",
       "      <th>36</th>\n",
       "      <td>616</td>\n",
       "      <td>2.146448e-03</td>\n",
       "      <td>0.202896</td>\n",
       "      <td>spice</td>\n",
       "    </tr>\n",
       "    <tr>\n",
       "      <th>37</th>\n",
       "      <td>656</td>\n",
       "      <td>1.659922e-02</td>\n",
       "      <td>0.800632</td>\n",
       "      <td>sunflower</td>\n",
       "    </tr>\n",
       "    <tr>\n",
       "      <th>38</th>\n",
       "      <td>663</td>\n",
       "      <td>2.117955e-02</td>\n",
       "      <td>0.644294</td>\n",
       "      <td>sweet spice</td>\n",
       "    </tr>\n",
       "    <tr>\n",
       "      <th>39</th>\n",
       "      <td>667</td>\n",
       "      <td>5.395730e-03</td>\n",
       "      <td>0.776479</td>\n",
       "      <td>tangerine</td>\n",
       "    </tr>\n",
       "    <tr>\n",
       "      <th>40</th>\n",
       "      <td>671</td>\n",
       "      <td>2.327919e-02</td>\n",
       "      <td>0.119264</td>\n",
       "      <td>tart</td>\n",
       "    </tr>\n",
       "    <tr>\n",
       "      <th>41</th>\n",
       "      <td>687</td>\n",
       "      <td>9.175230e-03</td>\n",
       "      <td>0.444553</td>\n",
       "      <td>tropical</td>\n",
       "    </tr>\n",
       "  </tbody>\n",
       "</table>\n",
       "</div>"
      ],
      "text/plain": [
       "    Unnamed: 0       p-value      coef                       name\n",
       "0           23  8.718429e-03  0.234444                   balanced\n",
       "1           38  2.504779e-03  0.868794              black current\n",
       "2           43  5.182544e-04  0.420081                 blackberry\n",
       "3           47  1.547497e-02  0.970770                blueberries\n",
       "4           59  3.637186e-02  0.206921               bright fruit\n",
       "5           70  1.872272e-02  0.714407              burnt brownie\n",
       "6           97  2.626219e-02  0.464276                   cardamom\n",
       "7           98  1.070548e-02  0.714730                   cardamon\n",
       "8          120  1.070548e-02  0.714730       chocolate and grapes\n",
       "9          128  4.846590e-02  0.365115                    cinamon\n",
       "10         129  1.070548e-02  0.714730         cinamon and nutmeg\n",
       "11         148  3.400155e-03  0.197708                    complex\n",
       "12         154  2.146852e-11  0.257082                     creamy\n",
       "13         160  5.004582e-03  0.255169                 dark berry\n",
       "14         169  6.809833e-03  0.405977                 deep cocoa\n",
       "15         178  1.070548e-02  0.714730  distinct choco and graham\n",
       "16         191  4.160048e-03  0.152537                dried fruit\n",
       "17         220  3.595295e-02  0.820436               floral notes\n",
       "18         223  4.560791e-02  0.327522                   fragrant\n",
       "19         227  2.792496e-02  0.124437                     fruity\n",
       "20         243  8.558470e-03  0.287574                      grape\n",
       "21         245  2.588792e-03  0.270083                     grapes\n",
       "22         246  1.070548e-02  0.714730           grapes and honey\n",
       "23         270  3.734749e-02  0.881848                       herb\n",
       "24         417  2.014484e-02  0.496485                      minty\n",
       "25         442  1.489172e-02  0.082402                      nutty\n",
       "26         459  1.420627e-02  0.276283                     orange\n",
       "27         478  4.281970e-02  0.580286   perfectly balanced roast\n",
       "28         490  2.549479e-02  0.301897                   powerful\n",
       "29         492  7.055627e-03  0.817497           pronounced berry\n",
       "30         505  2.486862e-02  0.636411                raspberries\n",
       "31         506  8.492680e-05  0.484032                  raspberry\n",
       "32         511  1.798646e-02  0.120152                       rich\n",
       "33         515  3.758406e-02  0.320306                 rich choco\n",
       "34         587  4.080658e-02  0.138674                      smoke\n",
       "35         592  2.581436e-02  0.177159                     smooth\n",
       "36         616  2.146448e-03  0.202896                      spice\n",
       "37         656  1.659922e-02  0.800632                  sunflower\n",
       "38         663  2.117955e-02  0.644294                sweet spice\n",
       "39         667  5.395730e-03  0.776479                  tangerine\n",
       "40         671  2.327919e-02  0.119264                       tart\n",
       "41         687  9.175230e-03  0.444553                   tropical"
      ]
     },
     "execution_count": 2,
     "metadata": {},
     "output_type": "execute_result"
    }
   ],
   "source": [
    "df_disp_high = pd.read_csv('tables/good_review_memorable_characteristics.csv')\n",
    "df_disp_high"
   ]
  },
  {
   "cell_type": "code",
   "execution_count": 3,
   "id": "3bd08fa2-3591-4566-9a41-4ac043772acf",
   "metadata": {},
   "outputs": [
    {
     "data": {
      "text/html": [
       "<div>\n",
       "<style scoped>\n",
       "    .dataframe tbody tr th:only-of-type {\n",
       "        vertical-align: middle;\n",
       "    }\n",
       "\n",
       "    .dataframe tbody tr th {\n",
       "        vertical-align: top;\n",
       "    }\n",
       "\n",
       "    .dataframe thead th {\n",
       "        text-align: right;\n",
       "    }\n",
       "</style>\n",
       "<table border=\"1\" class=\"dataframe\">\n",
       "  <thead>\n",
       "    <tr style=\"text-align: right;\">\n",
       "      <th></th>\n",
       "      <th>Unnamed: 0</th>\n",
       "      <th>p-value</th>\n",
       "      <th>coef</th>\n",
       "      <th>name</th>\n",
       "    </tr>\n",
       "  </thead>\n",
       "  <tbody>\n",
       "    <tr>\n",
       "      <th>0</th>\n",
       "      <td>35</td>\n",
       "      <td>2.097273e-27</td>\n",
       "      <td>-0.598600</td>\n",
       "      <td>bitter</td>\n",
       "    </tr>\n",
       "    <tr>\n",
       "      <th>1</th>\n",
       "      <td>79</td>\n",
       "      <td>3.158706e-04</td>\n",
       "      <td>-0.611484</td>\n",
       "      <td>burnt rubber</td>\n",
       "    </tr>\n",
       "    <tr>\n",
       "      <th>2</th>\n",
       "      <td>81</td>\n",
       "      <td>2.250781e-04</td>\n",
       "      <td>-1.035270</td>\n",
       "      <td>burnt up front</td>\n",
       "    </tr>\n",
       "    <tr>\n",
       "      <th>3</th>\n",
       "      <td>109</td>\n",
       "      <td>2.912281e-06</td>\n",
       "      <td>-0.463721</td>\n",
       "      <td>chemical</td>\n",
       "    </tr>\n",
       "    <tr>\n",
       "      <th>4</th>\n",
       "      <td>110</td>\n",
       "      <td>2.781201e-04</td>\n",
       "      <td>-0.733152</td>\n",
       "      <td>chemical off</td>\n",
       "    </tr>\n",
       "    <tr>\n",
       "      <th>5</th>\n",
       "      <td>176</td>\n",
       "      <td>3.395652e-04</td>\n",
       "      <td>-0.262095</td>\n",
       "      <td>dirty</td>\n",
       "    </tr>\n",
       "    <tr>\n",
       "      <th>6</th>\n",
       "      <td>188</td>\n",
       "      <td>1.644918e-08</td>\n",
       "      <td>-1.586933</td>\n",
       "      <td>dominate off note</td>\n",
       "    </tr>\n",
       "    <tr>\n",
       "      <th>7</th>\n",
       "      <td>198</td>\n",
       "      <td>1.567257e-05</td>\n",
       "      <td>-0.145713</td>\n",
       "      <td>earthy</td>\n",
       "    </tr>\n",
       "    <tr>\n",
       "      <th>8</th>\n",
       "      <td>233</td>\n",
       "      <td>7.896309e-05</td>\n",
       "      <td>-0.649563</td>\n",
       "      <td>fuel</td>\n",
       "    </tr>\n",
       "    <tr>\n",
       "      <th>9</th>\n",
       "      <td>259</td>\n",
       "      <td>1.813871e-05</td>\n",
       "      <td>-0.430084</td>\n",
       "      <td>harsh</td>\n",
       "    </tr>\n",
       "    <tr>\n",
       "      <th>10</th>\n",
       "      <td>280</td>\n",
       "      <td>2.742976e-10</td>\n",
       "      <td>-1.785270</td>\n",
       "      <td>high intensity bitter</td>\n",
       "    </tr>\n",
       "    <tr>\n",
       "      <th>11</th>\n",
       "      <td>344</td>\n",
       "      <td>1.180461e-05</td>\n",
       "      <td>-0.489870</td>\n",
       "      <td>medicinal</td>\n",
       "    </tr>\n",
       "    <tr>\n",
       "      <th>12</th>\n",
       "      <td>355</td>\n",
       "      <td>3.566587e-05</td>\n",
       "      <td>-0.285710</td>\n",
       "      <td>metallic</td>\n",
       "    </tr>\n",
       "    <tr>\n",
       "      <th>13</th>\n",
       "      <td>420</td>\n",
       "      <td>7.111959e-06</td>\n",
       "      <td>-0.203626</td>\n",
       "      <td>molasses</td>\n",
       "    </tr>\n",
       "    <tr>\n",
       "      <th>14</th>\n",
       "      <td>426</td>\n",
       "      <td>4.596905e-04</td>\n",
       "      <td>-0.999559</td>\n",
       "      <td>multiple off flavors</td>\n",
       "    </tr>\n",
       "    <tr>\n",
       "      <th>15</th>\n",
       "      <td>446</td>\n",
       "      <td>3.076028e-04</td>\n",
       "      <td>-0.624773</td>\n",
       "      <td>off flavor</td>\n",
       "    </tr>\n",
       "    <tr>\n",
       "      <th>16</th>\n",
       "      <td>448</td>\n",
       "      <td>7.452215e-04</td>\n",
       "      <td>-0.357680</td>\n",
       "      <td>off note</td>\n",
       "    </tr>\n",
       "    <tr>\n",
       "      <th>17</th>\n",
       "      <td>449</td>\n",
       "      <td>1.003918e-06</td>\n",
       "      <td>-0.402645</td>\n",
       "      <td>off notes</td>\n",
       "    </tr>\n",
       "    <tr>\n",
       "      <th>18</th>\n",
       "      <td>472</td>\n",
       "      <td>1.061671e-04</td>\n",
       "      <td>-0.518114</td>\n",
       "      <td>pastey</td>\n",
       "    </tr>\n",
       "    <tr>\n",
       "      <th>19</th>\n",
       "      <td>495</td>\n",
       "      <td>1.432876e-09</td>\n",
       "      <td>-0.390555</td>\n",
       "      <td>pungent</td>\n",
       "    </tr>\n",
       "    <tr>\n",
       "      <th>20</th>\n",
       "      <td>541</td>\n",
       "      <td>4.297556e-05</td>\n",
       "      <td>-0.390988</td>\n",
       "      <td>rubber</td>\n",
       "    </tr>\n",
       "    <tr>\n",
       "      <th>21</th>\n",
       "      <td>543</td>\n",
       "      <td>9.077753e-07</td>\n",
       "      <td>-0.370354</td>\n",
       "      <td>rubbery</td>\n",
       "    </tr>\n",
       "    <tr>\n",
       "      <th>22</th>\n",
       "      <td>597</td>\n",
       "      <td>4.093441e-05</td>\n",
       "      <td>-0.151816</td>\n",
       "      <td>sour</td>\n",
       "    </tr>\n",
       "    <tr>\n",
       "      <th>23</th>\n",
       "      <td>615</td>\n",
       "      <td>3.076028e-04</td>\n",
       "      <td>-0.624773</td>\n",
       "      <td>spciy</td>\n",
       "    </tr>\n",
       "    <tr>\n",
       "      <th>24</th>\n",
       "      <td>632</td>\n",
       "      <td>4.568877e-07</td>\n",
       "      <td>-0.957823</td>\n",
       "      <td>strong bitter</td>\n",
       "    </tr>\n",
       "    <tr>\n",
       "      <th>25</th>\n",
       "      <td>633</td>\n",
       "      <td>1.313356e-11</td>\n",
       "      <td>-1.470973</td>\n",
       "      <td>strong chemical</td>\n",
       "    </tr>\n",
       "    <tr>\n",
       "      <th>26</th>\n",
       "      <td>680</td>\n",
       "      <td>1.038224e-15</td>\n",
       "      <td>-2.285270</td>\n",
       "      <td>this is not chocolate</td>\n",
       "    </tr>\n",
       "    <tr>\n",
       "      <th>27</th>\n",
       "      <td>700</td>\n",
       "      <td>5.753289e-05</td>\n",
       "      <td>-0.429216</td>\n",
       "      <td>unrefined</td>\n",
       "    </tr>\n",
       "    <tr>\n",
       "      <th>28</th>\n",
       "      <td>702</td>\n",
       "      <td>2.644970e-05</td>\n",
       "      <td>-0.371513</td>\n",
       "      <td>vanilla</td>\n",
       "    </tr>\n",
       "    <tr>\n",
       "      <th>29</th>\n",
       "      <td>707</td>\n",
       "      <td>1.151493e-22</td>\n",
       "      <td>-1.761185</td>\n",
       "      <td>very bitter</td>\n",
       "    </tr>\n",
       "    <tr>\n",
       "      <th>30</th>\n",
       "      <td>708</td>\n",
       "      <td>7.724319e-04</td>\n",
       "      <td>-0.991622</td>\n",
       "      <td>very bland</td>\n",
       "    </tr>\n",
       "  </tbody>\n",
       "</table>\n",
       "</div>"
      ],
      "text/plain": [
       "    Unnamed: 0       p-value      coef                   name\n",
       "0           35  2.097273e-27 -0.598600                 bitter\n",
       "1           79  3.158706e-04 -0.611484           burnt rubber\n",
       "2           81  2.250781e-04 -1.035270         burnt up front\n",
       "3          109  2.912281e-06 -0.463721               chemical\n",
       "4          110  2.781201e-04 -0.733152           chemical off\n",
       "5          176  3.395652e-04 -0.262095                  dirty\n",
       "6          188  1.644918e-08 -1.586933      dominate off note\n",
       "7          198  1.567257e-05 -0.145713                 earthy\n",
       "8          233  7.896309e-05 -0.649563                   fuel\n",
       "9          259  1.813871e-05 -0.430084                  harsh\n",
       "10         280  2.742976e-10 -1.785270  high intensity bitter\n",
       "11         344  1.180461e-05 -0.489870              medicinal\n",
       "12         355  3.566587e-05 -0.285710               metallic\n",
       "13         420  7.111959e-06 -0.203626               molasses\n",
       "14         426  4.596905e-04 -0.999559   multiple off flavors\n",
       "15         446  3.076028e-04 -0.624773             off flavor\n",
       "16         448  7.452215e-04 -0.357680               off note\n",
       "17         449  1.003918e-06 -0.402645              off notes\n",
       "18         472  1.061671e-04 -0.518114                 pastey\n",
       "19         495  1.432876e-09 -0.390555                pungent\n",
       "20         541  4.297556e-05 -0.390988                 rubber\n",
       "21         543  9.077753e-07 -0.370354                rubbery\n",
       "22         597  4.093441e-05 -0.151816                   sour\n",
       "23         615  3.076028e-04 -0.624773                  spciy\n",
       "24         632  4.568877e-07 -0.957823          strong bitter\n",
       "25         633  1.313356e-11 -1.470973        strong chemical\n",
       "26         680  1.038224e-15 -2.285270  this is not chocolate\n",
       "27         700  5.753289e-05 -0.429216              unrefined\n",
       "28         702  2.644970e-05 -0.371513                vanilla\n",
       "29         707  1.151493e-22 -1.761185            very bitter\n",
       "30         708  7.724319e-04 -0.991622             very bland"
      ]
     },
     "execution_count": 3,
     "metadata": {},
     "output_type": "execute_result"
    }
   ],
   "source": [
    "df_disp_low = pd.read_csv('tables/bad_review_memorable_characteristics.csv')\n",
    "df_disp_low"
   ]
  },
  {
   "cell_type": "markdown",
   "id": "94c117da-91bc-4e6e-b87c-b607a78135f0",
   "metadata": {},
   "source": [
    "From our output, we can see that some of the most positive characteristics (by p-value) are fruit descriptors such as ‘blackberry, blueberries, grape’ or spice descriptors such as ‘cinnamon, cardamon, nutmeg’.\n",
    "\n",
    "The most negative characteristics  (by p-value) are reference bitter or burn flavors or chemical flavors, or simply ‘off’."
   ]
  },
  {
   "cell_type": "code",
   "execution_count": null,
   "id": "ea12148b-7c76-4cf6-a856-5f666be819f6",
   "metadata": {},
   "outputs": [],
   "source": []
  }
 ],
 "metadata": {
  "kernelspec": {
   "display_name": "Python 3 (ipykernel)",
   "language": "python",
   "name": "python3"
  },
  "language_info": {
   "codemirror_mode": {
    "name": "ipython",
    "version": 3
   },
   "file_extension": ".py",
   "mimetype": "text/x-python",
   "name": "python",
   "nbconvert_exporter": "python",
   "pygments_lexer": "ipython3",
   "version": "3.9.9"
  }
 },
 "nbformat": 4,
 "nbformat_minor": 5
}
