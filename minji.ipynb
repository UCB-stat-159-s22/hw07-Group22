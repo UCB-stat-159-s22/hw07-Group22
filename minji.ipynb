{
 "cells": [
  {
   "cell_type": "markdown",
   "metadata": {},
   "source": [
    "### Author: Minji Park\n",
    "### Date: 05/05/2022"
   ]
  },
  {
   "cell_type": "markdown",
   "metadata": {
    "id": "LHFgRSC5QR7h"
   },
   "source": [
    "# **Import and Install Packages**"
   ]
  },
  {
   "cell_type": "code",
   "execution_count": 15,
   "metadata": {
    "id": "mi7Y4I5HMkkw"
   },
   "outputs": [],
   "source": [
    "import pandas as pd\n",
    "import matplotlib.pyplot as plt\n",
    "import numpy as np\n",
    "import re\n",
    "from collections import Counter"
   ]
  },
  {
   "cell_type": "code",
   "execution_count": 2,
   "metadata": {
    "colab": {
     "base_uri": "https://localhost:8080/"
    },
    "id": "jhIe0GM3DKPQ",
    "outputId": "fc5906bd-25bb-40c4-bb18-bf53459f0ffe"
   },
   "outputs": [
    {
     "name": "stdout",
     "output_type": "stream",
     "text": [
      "Requirement already satisfied: nltk in /srv/conda/envs/notebook/lib/python3.9/site-packages (3.7)\n",
      "Requirement already satisfied: regex>=2021.8.3 in /srv/conda/envs/notebook/lib/python3.9/site-packages (from nltk) (2022.4.24)\n",
      "Requirement already satisfied: click in /srv/conda/envs/notebook/lib/python3.9/site-packages (from nltk) (7.1.2)\n",
      "Requirement already satisfied: tqdm in /srv/conda/envs/notebook/lib/python3.9/site-packages (from nltk) (4.62.3)\n",
      "Requirement already satisfied: joblib in /srv/conda/envs/notebook/lib/python3.9/site-packages (from nltk) (1.1.0)\n"
     ]
    }
   ],
   "source": [
    "!pip install nltk\n",
    "import nltk"
   ]
  },
  {
   "cell_type": "markdown",
   "metadata": {
    "id": "hgnm5fXxQYkg"
   },
   "source": [
    "# **Data Load**"
   ]
  },
  {
   "cell_type": "code",
   "execution_count": 3,
   "metadata": {
    "id": "OHjrOiAjMnOv"
   },
   "outputs": [],
   "source": [
    "data = pd.read_csv('data/chocolate.csv')"
   ]
  },
  {
   "cell_type": "code",
   "execution_count": 4,
   "metadata": {
    "colab": {
     "base_uri": "https://localhost:8080/",
     "height": 780
    },
    "id": "_BQuS9q2MqUd",
    "outputId": "72cc699e-02f0-490a-c59b-be14fc5b8528"
   },
   "outputs": [
    {
     "data": {
      "text/html": [
       "<div>\n",
       "<style scoped>\n",
       "    .dataframe tbody tr th:only-of-type {\n",
       "        vertical-align: middle;\n",
       "    }\n",
       "\n",
       "    .dataframe tbody tr th {\n",
       "        vertical-align: top;\n",
       "    }\n",
       "\n",
       "    .dataframe thead th {\n",
       "        text-align: right;\n",
       "    }\n",
       "</style>\n",
       "<table border=\"1\" class=\"dataframe\">\n",
       "  <thead>\n",
       "    <tr style=\"text-align: right;\">\n",
       "      <th></th>\n",
       "      <th>REF</th>\n",
       "      <th>Company (Manufacturer)</th>\n",
       "      <th>Company Location</th>\n",
       "      <th>Review Date</th>\n",
       "      <th>Country of Bean Origin</th>\n",
       "      <th>Specific Bean Origin or Bar Name</th>\n",
       "      <th>Cocoa Percent</th>\n",
       "      <th>Ingredients</th>\n",
       "      <th>Most Memorable Characteristics</th>\n",
       "      <th>Rating</th>\n",
       "    </tr>\n",
       "  </thead>\n",
       "  <tbody>\n",
       "    <tr>\n",
       "      <th>0</th>\n",
       "      <td>1205</td>\n",
       "      <td>Habitual</td>\n",
       "      <td>Canada</td>\n",
       "      <td>2014</td>\n",
       "      <td>Blend</td>\n",
       "      <td>one hundred</td>\n",
       "      <td>100%</td>\n",
       "      <td>NaN</td>\n",
       "      <td>unrefined, bitter, earthy</td>\n",
       "      <td>2.00</td>\n",
       "    </tr>\n",
       "    <tr>\n",
       "      <th>1</th>\n",
       "      <td>701</td>\n",
       "      <td>Haigh</td>\n",
       "      <td>Australia</td>\n",
       "      <td>2011</td>\n",
       "      <td>Blend</td>\n",
       "      <td>South America and Africa</td>\n",
       "      <td>70%</td>\n",
       "      <td>NaN</td>\n",
       "      <td>vanilla, chocolate milk</td>\n",
       "      <td>3.00</td>\n",
       "    </tr>\n",
       "    <tr>\n",
       "      <th>2</th>\n",
       "      <td>1113</td>\n",
       "      <td>Hotel Chocolat</td>\n",
       "      <td>U.K.</td>\n",
       "      <td>2013</td>\n",
       "      <td>St. Lucia</td>\n",
       "      <td>Island Growers, 2012, 120hr c., batch 13080</td>\n",
       "      <td>100%</td>\n",
       "      <td>NaN</td>\n",
       "      <td>pastey, bitter, unfixable</td>\n",
       "      <td>1.75</td>\n",
       "    </tr>\n",
       "    <tr>\n",
       "      <th>3</th>\n",
       "      <td>296</td>\n",
       "      <td>Hotel Chocolat (Coppeneur)</td>\n",
       "      <td>U.K.</td>\n",
       "      <td>2008</td>\n",
       "      <td>Uganda</td>\n",
       "      <td>Uganda</td>\n",
       "      <td>80%</td>\n",
       "      <td>NaN</td>\n",
       "      <td>charred, espresso</td>\n",
       "      <td>2.50</td>\n",
       "    </tr>\n",
       "    <tr>\n",
       "      <th>4</th>\n",
       "      <td>552</td>\n",
       "      <td>Hotel Chocolat (Coppeneur)</td>\n",
       "      <td>U.K.</td>\n",
       "      <td>2010</td>\n",
       "      <td>Ecuador</td>\n",
       "      <td>Ecuador</td>\n",
       "      <td>70%</td>\n",
       "      <td>NaN</td>\n",
       "      <td>spicy, sour, burning</td>\n",
       "      <td>2.75</td>\n",
       "    </tr>\n",
       "    <tr>\n",
       "      <th>...</th>\n",
       "      <td>...</td>\n",
       "      <td>...</td>\n",
       "      <td>...</td>\n",
       "      <td>...</td>\n",
       "      <td>...</td>\n",
       "      <td>...</td>\n",
       "      <td>...</td>\n",
       "      <td>...</td>\n",
       "      <td>...</td>\n",
       "      <td>...</td>\n",
       "    </tr>\n",
       "    <tr>\n",
       "      <th>1555</th>\n",
       "      <td>336</td>\n",
       "      <td>Bonnat</td>\n",
       "      <td>France</td>\n",
       "      <td>2009</td>\n",
       "      <td>Peru</td>\n",
       "      <td>Porcelana, Apotequil</td>\n",
       "      <td>75%</td>\n",
       "      <td>3- B,S,C</td>\n",
       "      <td>flat, bread, earthy</td>\n",
       "      <td>2.75</td>\n",
       "    </tr>\n",
       "    <tr>\n",
       "      <th>1556</th>\n",
       "      <td>331</td>\n",
       "      <td>Bonnat</td>\n",
       "      <td>France</td>\n",
       "      <td>2009</td>\n",
       "      <td>Ivory Coast</td>\n",
       "      <td>Ivory Coast</td>\n",
       "      <td>75%</td>\n",
       "      <td>3- B,S,C</td>\n",
       "      <td>oily, intense cocoa, sl. Burnt</td>\n",
       "      <td>3.00</td>\n",
       "    </tr>\n",
       "    <tr>\n",
       "      <th>1557</th>\n",
       "      <td>336</td>\n",
       "      <td>Bonnat</td>\n",
       "      <td>France</td>\n",
       "      <td>2009</td>\n",
       "      <td>Mexico</td>\n",
       "      <td>Porcelana, Tabasco, Marfil de Blanco</td>\n",
       "      <td>75%</td>\n",
       "      <td>3- B,S,C</td>\n",
       "      <td>mild bitter, nut, possible mold</td>\n",
       "      <td>3.00</td>\n",
       "    </tr>\n",
       "    <tr>\n",
       "      <th>1558</th>\n",
       "      <td>395</td>\n",
       "      <td>Bonnat</td>\n",
       "      <td>France</td>\n",
       "      <td>2009</td>\n",
       "      <td>Mexico</td>\n",
       "      <td>Xoconusco, cacao Real</td>\n",
       "      <td>75%</td>\n",
       "      <td>3- B,S,C</td>\n",
       "      <td>fatty, roasty, earthy</td>\n",
       "      <td>3.00</td>\n",
       "    </tr>\n",
       "    <tr>\n",
       "      <th>1559</th>\n",
       "      <td>761</td>\n",
       "      <td>Bonnat</td>\n",
       "      <td>France</td>\n",
       "      <td>2011</td>\n",
       "      <td>Jamaica</td>\n",
       "      <td>Jamaique</td>\n",
       "      <td>75%</td>\n",
       "      <td>3- B,S,C</td>\n",
       "      <td>oily, creamy, woody</td>\n",
       "      <td>3.25</td>\n",
       "    </tr>\n",
       "  </tbody>\n",
       "</table>\n",
       "<p>1560 rows × 10 columns</p>\n",
       "</div>"
      ],
      "text/plain": [
       "       REF      Company (Manufacturer) Company Location  Review Date  \\\n",
       "0     1205                    Habitual           Canada         2014   \n",
       "1      701                       Haigh        Australia         2011   \n",
       "2     1113              Hotel Chocolat             U.K.         2013   \n",
       "3      296  Hotel Chocolat (Coppeneur)             U.K.         2008   \n",
       "4      552  Hotel Chocolat (Coppeneur)             U.K.         2010   \n",
       "...    ...                         ...              ...          ...   \n",
       "1555   336                      Bonnat           France         2009   \n",
       "1556   331                      Bonnat           France         2009   \n",
       "1557   336                      Bonnat           France         2009   \n",
       "1558   395                      Bonnat           France         2009   \n",
       "1559   761                      Bonnat           France         2011   \n",
       "\n",
       "     Country of Bean Origin             Specific Bean Origin or Bar Name  \\\n",
       "0                     Blend                                  one hundred   \n",
       "1                     Blend                     South America and Africa   \n",
       "2                 St. Lucia  Island Growers, 2012, 120hr c., batch 13080   \n",
       "3                    Uganda                                       Uganda   \n",
       "4                   Ecuador                                      Ecuador   \n",
       "...                     ...                                          ...   \n",
       "1555                   Peru                         Porcelana, Apotequil   \n",
       "1556            Ivory Coast                                  Ivory Coast   \n",
       "1557                 Mexico         Porcelana, Tabasco, Marfil de Blanco   \n",
       "1558                 Mexico                        Xoconusco, cacao Real   \n",
       "1559                Jamaica                                     Jamaique   \n",
       "\n",
       "     Cocoa Percent Ingredients   Most Memorable Characteristics  Rating  \n",
       "0             100%         NaN        unrefined, bitter, earthy    2.00  \n",
       "1              70%         NaN          vanilla, chocolate milk    3.00  \n",
       "2             100%         NaN        pastey, bitter, unfixable    1.75  \n",
       "3              80%         NaN                charred, espresso    2.50  \n",
       "4              70%         NaN             spicy, sour, burning    2.75  \n",
       "...            ...         ...                              ...     ...  \n",
       "1555           75%    3- B,S,C              flat, bread, earthy    2.75  \n",
       "1556           75%    3- B,S,C   oily, intense cocoa, sl. Burnt    3.00  \n",
       "1557           75%    3- B,S,C  mild bitter, nut, possible mold    3.00  \n",
       "1558           75%    3- B,S,C            fatty, roasty, earthy    3.00  \n",
       "1559           75%    3- B,S,C              oily, creamy, woody    3.25  \n",
       "\n",
       "[1560 rows x 10 columns]"
      ]
     },
     "execution_count": 4,
     "metadata": {},
     "output_type": "execute_result"
    }
   ],
   "source": [
    "data"
   ]
  },
  {
   "cell_type": "markdown",
   "metadata": {
    "id": "ccd0jzp3QfMF"
   },
   "source": [
    "# **Bar Plot for Most 5 frequent words in Most Memorable Characteristics by review interval**"
   ]
  },
  {
   "cell_type": "markdown",
   "metadata": {},
   "source": [
    "Only the data in review sections 1-2 and 4-5 are filtered to extract the words that appear the most in Most Memorable Features. Through this, it is possible to know the most responsive feature and bad feature in general."
   ]
  },
  {
   "cell_type": "markdown",
   "metadata": {},
   "source": [
    "* Make rating range"
   ]
  },
  {
   "cell_type": "code",
   "execution_count": 6,
   "metadata": {
    "id": "4P9udCwOYCNe"
   },
   "outputs": [],
   "source": [
    "def rangeScore(x):\n",
    "    '''\n",
    "    Set the bins for the score-range.\n",
    "    '''\n",
    "    value = ''\n",
    "    if (x>= 0 and x < 1):\n",
    "        value = '0-1'\n",
    "    elif (x>= 1 and x < 2):\n",
    "        value = '1-2'\n",
    "    elif (x>= 2 and x < 3):\n",
    "        value = '2-3'\n",
    "    elif (x>= 3 and x < 4):\n",
    "        value = '3-4'\n",
    "    elif (x >= 4 and x  < 5):\n",
    "        value = '4-5'\n",
    "    return value\n",
    "data['Rating_ranges'] = data['Rating'].apply(rangeScore)"
   ]
  },
  {
   "cell_type": "markdown",
   "metadata": {},
   "source": [
    "* Filter the data"
   ]
  },
  {
   "cell_type": "code",
   "execution_count": 7,
   "metadata": {
    "colab": {
     "base_uri": "https://localhost:8080/"
    },
    "id": "zCL4CXvRMqyK",
    "outputId": "140029fd-2ceb-44d9-c16a-6570d4b61d54"
   },
   "outputs": [
    {
     "data": {
      "text/plain": [
       "46              smooth, wild berries\n",
       "96        oily, dried fruit, leather\n",
       "123                         cardamon\n",
       "146     creamy,sticky, peanut butter\n",
       "196          balanced, cherry, choco\n",
       "                    ...             \n",
       "1504      rich cocoa, spicy, cinamon\n",
       "1514            creamy, nutty, cocoa\n",
       "1550           creamy, fatty, floral\n",
       "1551           creamy, coconut, tang\n",
       "1554       creamy, strawberry, nutty\n",
       "Name: Most Memorable Characteristics, Length: 68, dtype: object"
      ]
     },
     "execution_count": 7,
     "metadata": {},
     "output_type": "execute_result"
    }
   ],
   "source": [
    "data12 = data[data['Rating_ranges'] == '1-2']['Most Memorable Characteristics']\n",
    "data45 = data[data['Rating_ranges'] == '4-5']['Most Memorable Characteristics']\n",
    "data45"
   ]
  },
  {
   "cell_type": "code",
   "execution_count": 8,
   "metadata": {
    "id": "cqjw3K7LM1TP"
   },
   "outputs": [],
   "source": [
    "data12.to_csv('data/data12.csv')\n",
    "data45.to_csv('data/data45.csv')"
   ]
  },
  {
   "cell_type": "markdown",
   "metadata": {
    "id": "pidPUlHPFlTm"
   },
   "source": [
    "### **Review rating: 1-2 analysis**\n"
   ]
  },
  {
   "cell_type": "code",
   "execution_count": 9,
   "metadata": {
    "colab": {
     "base_uri": "https://localhost:8080/"
    },
    "id": "A8wHndDoBgpc",
    "outputId": "8b21a3ec-583f-403a-b337-2534dc241b89"
   },
   "outputs": [
    {
     "data": {
      "text/plain": [
       "[',Most Memorable Characteristics\\n',\n",
       " '2,\"pastey, bitter, unfixable\"\\n',\n",
       " '21,\"vanilla, strong chemical\"\\n',\n",
       " '27,\"very nutty, very bitter\"\\n',\n",
       " '39,\"sticky, intense, very bitter\"\\n',\n",
       " '59,\"acidic, bitter, dry\"\\n',\n",
       " '60,\"cardboard, very bitter, floral\"\\n',\n",
       " '66,\"bitter, cocoa\"\\n',\n",
       " '73,\"chalky, musty, very bitter\"\\n',\n",
       " '79,high intensity bitter\\n',\n",
       " '80,this is not chocolate\\n',\n",
       " '1098,\"cocoa, dominate off note\"\\n',\n",
       " '1315,\"perfume, strong chemical\"\\n']"
      ]
     },
     "execution_count": 9,
     "metadata": {},
     "output_type": "execute_result"
    }
   ],
   "source": [
    "with open(r'data/data12.csv','r',encoding='cp949') as f:\n",
    "    text12=f.readlines()\n",
    "text12"
   ]
  },
  {
   "cell_type": "code",
   "execution_count": 10,
   "metadata": {
    "colab": {
     "base_uri": "https://localhost:8080/",
     "height": 71
    },
    "id": "wZoUsGvGBpE-",
    "outputId": "a12155f8-8d05-48ae-829b-366f20715857"
   },
   "outputs": [
    {
     "data": {
      "text/plain": [
       "',Most Memorable Characteristics 2,\"pastey, bitter, unfixable\" 21,\"vanilla, strong chemical\" 27,\"very nutty, very bitter\" 39,\"sticky, intense, very bitter\" 59,\"acidic, bitter, dry\" 60,\"cardboard, very bitter, floral\" 66,\"bitter, cocoa\" 73,\"chalky, musty, very bitter\" 79,high intensity bitter 80,this is not chocolate 1098,\"cocoa, dominate off note\" 1315,\"perfume, strong chemical\"'"
      ]
     },
     "execution_count": 10,
     "metadata": {},
     "output_type": "execute_result"
    }
   ],
   "source": [
    "text_strip12=list([i.strip() for i in text12 if i !='\\n'])\n",
    "text_join12 =' '.join(text_strip12)\n",
    "text_join12"
   ]
  },
  {
   "cell_type": "code",
   "execution_count": 21,
   "metadata": {
    "colab": {
     "base_uri": "https://localhost:8080/",
     "height": 71
    },
    "id": "nsgLQM0MCw8M",
    "outputId": "9654b8bd-8fee-4e7b-f3d8-aa83dcb84d97"
   },
   "outputs": [
    {
     "data": {
      "text/plain": [
       "' Most Memorable Characteristics 2  pastey  bitter  unfixable  21  vanilla  strong chemical  27  very nutty  very bitter  39  sticky  intense  very bitter  59  acidic  bitter  dry  60  cardboard  very bitter  floral  66  bitter  cocoa  73  chalky  musty  very bitter  79 high intensity bitter 80 this is not chocolate 1098  cocoa  dominate off note  1315  perfume  strong chemical '"
      ]
     },
     "execution_count": 21,
     "metadata": {},
     "output_type": "execute_result"
    }
   ],
   "source": [
    "filtered_content12=re.sub(r'[^\\w]',' ', text_join12)\n",
    "filtered_content12"
   ]
  },
  {
   "cell_type": "code",
   "execution_count": 22,
   "metadata": {
    "colab": {
     "base_uri": "https://localhost:8080/"
    },
    "id": "moGwH8jODMxj",
    "outputId": "bbd44aec-dcbb-4571-8590-12fce015d7d0"
   },
   "outputs": [
    {
     "data": {
      "text/plain": [
       "['Most',\n",
       " 'Memorable',\n",
       " 'Characteristics',\n",
       " '2',\n",
       " 'pastey',\n",
       " 'bitter',\n",
       " 'unfixable',\n",
       " '21',\n",
       " 'vanilla',\n",
       " 'strong',\n",
       " 'chemical',\n",
       " '27',\n",
       " 'very',\n",
       " 'nutty',\n",
       " 'very',\n",
       " 'bitter',\n",
       " '39',\n",
       " 'sticky',\n",
       " 'intense',\n",
       " 'very',\n",
       " 'bitter',\n",
       " '59',\n",
       " 'acidic',\n",
       " 'bitter',\n",
       " 'dry',\n",
       " '60',\n",
       " 'cardboard',\n",
       " 'very',\n",
       " 'bitter',\n",
       " 'floral',\n",
       " '66',\n",
       " 'bitter',\n",
       " 'cocoa',\n",
       " '73',\n",
       " 'chalky',\n",
       " 'musty',\n",
       " 'very',\n",
       " 'bitter',\n",
       " '79',\n",
       " 'high',\n",
       " 'intensity',\n",
       " 'bitter',\n",
       " '80',\n",
       " 'this',\n",
       " 'is',\n",
       " 'not',\n",
       " 'chocolate',\n",
       " '1098',\n",
       " 'cocoa',\n",
       " 'dominate',\n",
       " 'off',\n",
       " 'note',\n",
       " '1315',\n",
       " 'perfume',\n",
       " 'strong',\n",
       " 'chemical']"
      ]
     },
     "execution_count": 22,
     "metadata": {},
     "output_type": "execute_result"
    }
   ],
   "source": [
    "text12 = nltk.word_tokenize(filtered_content12)\n",
    "text12"
   ]
  },
  {
   "cell_type": "code",
   "execution_count": 23,
   "metadata": {
    "colab": {
     "base_uri": "https://localhost:8080/"
    },
    "id": "vnWyqAdKDity",
    "outputId": "d4d318c4-9ba9-4bc1-8618-c0cbadae86b2"
   },
   "outputs": [
    {
     "name": "stdout",
     "output_type": "stream",
     "text": [
      "[('bitter', 8), ('very', 5), ('strong', 2), ('chemical', 2), ('cocoa', 2), ('Most', 1), ('Memorable', 1), ('Characteristics', 1), ('2', 1), ('pastey', 1), ('unfixable', 1), ('21', 1), ('vanilla', 1), ('27', 1), ('nutty', 1), ('39', 1), ('sticky', 1), ('intense', 1), ('59', 1), ('acidic', 1), ('dry', 1), ('60', 1), ('cardboard', 1), ('floral', 1), ('66', 1), ('73', 1), ('chalky', 1), ('musty', 1), ('79', 1), ('high', 1)]\n"
     ]
    }
   ],
   "source": [
    "from collections import Counter\n",
    "c12= Counter(text12)\n",
    "print(c12.most_common(30))"
   ]
  },
  {
   "cell_type": "markdown",
   "metadata": {
    "id": "DWRy1CkxFyCy"
   },
   "source": [
    "### **Review rating: 4-5 analysis**"
   ]
  },
  {
   "cell_type": "code",
   "execution_count": 11,
   "metadata": {
    "id": "oB_9WLr6Ea61"
   },
   "outputs": [],
   "source": [
    "with open(r'data/data45.csv','r',encoding='cp949') as f:\n",
    "    text45=f.readlines()"
   ]
  },
  {
   "cell_type": "code",
   "execution_count": 12,
   "metadata": {
    "id": "NFmaZATgF8YY"
   },
   "outputs": [],
   "source": [
    "text_strip45=list([i.strip() for i in text45 if i !='\\n'])\n",
    "text_join45=' '.join(text_strip45)"
   ]
  },
  {
   "cell_type": "code",
   "execution_count": 13,
   "metadata": {
    "id": "tc2HcxW8GBrF"
   },
   "outputs": [],
   "source": [
    "filtered_content45=re.sub(r'[^\\w]',' ', text_join45)"
   ]
  },
  {
   "cell_type": "code",
   "execution_count": 16,
   "metadata": {
    "colab": {
     "base_uri": "https://localhost:8080/"
    },
    "id": "YJDhLOEGGFFP",
    "outputId": "fa755128-fd6a-4128-c163-c6f0a9a31bc4"
   },
   "outputs": [
    {
     "name": "stdout",
     "output_type": "stream",
     "text": [
      "[('creamy', 26), ('cocoa', 18), ('nutty', 11), ('fruit', 8), ('berry', 6), ('sticky', 5), ('peanut', 5), ('balanced', 5), ('honey', 5), ('complex', 4), ('tart', 4), ('coffee', 4), ('and', 4), ('floral', 4), ('nuts', 4), ('red', 4), ('smooth', 3), ('dried', 3), ('cherry', 3), ('long', 3), ('banana', 3), ('grapes', 3), ('smoke', 3), ('mild', 3), ('strawberry', 3), ('cinamon', 3), ('butter', 2), ('choco', 2), ('marshmallow', 2), ('dark', 2)]\n"
     ]
    }
   ],
   "source": [
    "text45 = nltk.word_tokenize(filtered_content45)\n",
    "c45 = Counter(text45)\n",
    "print(c45.most_common(30))"
   ]
  },
  {
   "cell_type": "markdown",
   "metadata": {},
   "source": [
    "Through the plot, it can be seen that 'bitter' and 'very' are the most common in features with a review score of 1-2, and 'creamy', 'cocoa', and 'nutty' are the most common in features with a review score of 4-5. "
   ]
  },
  {
   "cell_type": "code",
   "execution_count": 26,
   "metadata": {
    "colab": {
     "base_uri": "https://localhost:8080/",
     "height": 444
    },
    "id": "zieoaHrvDlb6",
    "outputId": "b28f4beb-d487-4249-c3be-e0553028e29b"
   },
   "outputs": [
    {
     "data": {
      "image/png": "[encoded data removed]",
      "text/plain": [
       "<Figure size 800x480 with 2 Axes>"
      ]
     },
     "metadata": {
      "needs_background": "light"
     },
     "output_type": "display_data"
    }
   ],
   "source": [
    "from matplotlib.pyplot import figure\n",
    "figure(figsize=(10, 6), dpi=80)\n",
    "x12 = ['bitter', 'very',' strong', 'chemical', 'cocoa']\n",
    "y12 = [8, 5, 2, 2, 2]\n",
    "x45 = ['creamy', 'cocoa','nutty','fruit','berry']\n",
    "y45 = [26, 18, 11, 8, 6]\n",
    "plt.subplot(1, 2, 1)\n",
    "plt.bar(x12, y12, color = 'lightpink')\n",
    "plt.xlabel('5 most frequent words')\n",
    "plt.ylabel('Count')\n",
    "plt.title('<5 most frequent words in 1-2 review rating>')\n",
    "plt.subplot(1, 2, 2)\n",
    "plt.bar(x45, y45, color = 'lightblue')\n",
    "plt.xlabel('5 most frequent words')\n",
    "plt.ylabel('Count')\n",
    "plt.title('<5 most frequent words in 4-5 review rating>')\n",
    "plt.savefig('figures/five most freqeunt words in 1-2 & 4-5 review rating.png')"
   ]
  },
  {
   "cell_type": "markdown",
   "metadata": {
    "id": "D5VDxMXsSVKF"
   },
   "source": [
    "# **Box plot for Cocoa percent by review interval**"
   ]
  },
  {
   "cell_type": "markdown",
   "metadata": {},
   "source": [
    "Draw a box plot to find out the relationship between Cocoa Percent feature and review score."
   ]
  },
  {
   "cell_type": "code",
   "execution_count": 20,
   "metadata": {
    "colab": {
     "base_uri": "https://localhost:8080/"
    },
    "id": "J2cldb1VgqUX",
    "outputId": "ccd7cd3d-10ea-41d2-cfa6-5ff340d0115e"
   },
   "outputs": [
    {
     "name": "stderr",
     "output_type": "stream",
     "text": [
      "/tmp/ipykernel_294/2372766414.py:1: FutureWarning: The default value of regex will change from True to False in a future version.\n",
      "  data['Cocoa Percent'] = data['Cocoa Percent'].str.replace(r\"[^\\d]\", '').astype(int)\n"
     ]
    }
   ],
   "source": [
    "data['Cocoa Percent'] = data['Cocoa Percent'].str.replace(r\"[^\\d]\", '').astype(int)"
   ]
  },
  {
   "cell_type": "code",
   "execution_count": 21,
   "metadata": {
    "id": "L5fk0OMMfxM0"
   },
   "outputs": [],
   "source": [
    "data12 = data[data['Rating_ranges'] == '1-2']['Cocoa Percent']\n",
    "data23 = data[data['Rating_ranges'] == '2-3']['Cocoa Percent']\n",
    "data34 = data[data['Rating_ranges'] == '3-4']['Cocoa Percent']\n",
    "data45 = data[data['Rating_ranges'] == '4-5']['Cocoa Percent']"
   ]
  },
  {
   "cell_type": "code",
   "execution_count": 22,
   "metadata": {
    "id": "UcFpUNhWhco6"
   },
   "outputs": [],
   "source": [
    "plotdata = [data12, data23, data34, data45]"
   ]
  },
  {
   "cell_type": "markdown",
   "metadata": {},
   "source": [
    "Overall, it can be seen that the higher the review score, the lower the cocoa percent. In particular, in the 1-2 section of the review score, the cocoa percent was often 100. Also it can be seen that the higher the score, the lower the median and the number of outliers decreased."
   ]
  },
  {
   "cell_type": "code",
   "execution_count": 25,
   "metadata": {
    "colab": {
     "base_uri": "https://localhost:8080/",
     "height": 623
    },
    "id": "NWBj1I9Jhl2L",
    "outputId": "853bba8b-362f-4bb7-eaa7-24da4b8133b6"
   },
   "outputs": [
    {
     "data": {
      "image/png": "[encoded data removed]",
      "text/plain": [
       "<Figure size 720x504 with 1 Axes>"
      ]
     },
     "metadata": {
      "needs_background": "light"
     },
     "output_type": "display_data"
    },
    {
     "data": {
      "text/plain": [
       "<Figure size 432x288 with 0 Axes>"
      ]
     },
     "metadata": {},
     "output_type": "display_data"
    }
   ],
   "source": [
    "fig = plt.figure(figsize =(10, 7))\n",
    "ax = fig.add_axes([0,0,1,1])\n",
    "box = ax.boxplot(plotdata, patch_artist=True)\n",
    "plt.ylim((0,120))\n",
    "colors = ['cyan', 'lightblue', 'lightgreen', 'tan']\n",
    "for patch, color in zip(box['boxes'], colors):\n",
    "    patch.set_facecolor(color)\n",
    "# plt.xticks([1,2,3,4], label = ['1-2','2-3','3-4','4-5'])\n",
    "plt.title('Box plot for Cocoa percent by review interval')\n",
    "plt.show()\n",
    "plt.savefig('figures/Box plot for Cocoa Percent by review interval.png')"
   ]
  }
 ],
 "metadata": {
  "colab": {
   "collapsed_sections": [],
   "name": "Colaboratory에 오신 것을 환영합니다",
   "provenance": []
  },
  "kernelspec": {
   "display_name": "Python 3 (ipykernel)",
   "language": "python",
   "name": "python3"
  },
  "language_info": {
   "codemirror_mode": {
    "name": "ipython",
    "version": 3
   },
   "file_extension": ".py",
   "mimetype": "text/x-python",
   "name": "python",
   "nbconvert_exporter": "python",
   "pygments_lexer": "ipython3",
   "version": "3.9.9"
  }
 },
 "nbformat": 4,
 "nbformat_minor": 4
}
